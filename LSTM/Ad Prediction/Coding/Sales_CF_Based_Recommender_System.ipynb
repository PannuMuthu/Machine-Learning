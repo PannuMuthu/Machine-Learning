{
 "cells": [
  {
   "cell_type": "markdown",
   "metadata": {
    "colab_type": "text",
    "id": "PZQmJUicPTQ7"
   },
   "source": [
    "# Sales CF-Based Recommender System\n",
    "\n",
    "There are two variations of collaborative filtering recommender systems. There is a user-based recommender system and an item-based recommender system. They both recommend an item based on previous opinions of that item, or previous actions taken by the user regarding similar items.\n",
    "\n"
   ]
  },
  {
   "cell_type": "markdown",
   "metadata": {},
   "source": [
    "![User-Item Matrix](userRatings.png)"
   ]
  },
  {
   "cell_type": "markdown",
   "metadata": {
    "colab_type": "text",
    "id": "8i0e3h9mProM"
   },
   "source": [
    "# User Based Collaborative Filtering\n",
    "\n",
    "The goal of user-based collaborative filtering is to predict the rating of $i_n$ given the previous actions of one user, $u_m$. In user-based collaborative filtering, we find $k$ candidates of other users that are similar to $u_m$. To find similarity, we can use \n",
    "\n",
    "$\\begin{align}\n",
    "\\textbf{Cosine Similarity:} \\\\\n",
    "cos \\theta &= \\frac{A\\cdot B}{|A||B|}\n",
    "= \\frac{\\sum_{i=1}^n A_iB_i}{\\sqrt{\\sum_{i=1}^nA^2_i}\\sqrt{\\sum_{i=1}^nB^2_i}}\n",
    "\\end{align}$\n",
    "\n",
    "\n",
    "\n",
    "\n",
    "$\\textbf{Pearson Correlation:}$\n",
    "$\\begin{align}\n",
    "r &= \\frac{\\sum_{i=1}^n (x_i-\\bar{x})(y_i-\\bar{y})}{\\sqrt{\\sum_{i=1}^n (x_i-\\bar{x})^2}\\sqrt{\\sum_{i=1}^n (y_i-\\bar{y})^2}}\\\\\n",
    "\\end{align}$\n",
    "\n",
    "\n",
    "There is also a method of using K-nearest-neighbors to find the most similar candidate users, defined by $$p_{a,i} = \\bar{r}_a+\\frac{\\sum_{u \\in K}(r_u, i - \\bar{r}_u) \\times w_{a,u}}{\\sum_{u \\in K}w_{a,u}},$$\n",
    "where $p_{a,1}$ is the prediction for target user $u_m$ at item $i_n$, $w_{a,u}$ is the similarity between the users, and K is the neighborhood of similar users. "
   ]
  },
  {
   "cell_type": "markdown",
   "metadata": {
    "colab_type": "text",
    "id": "qeTmHMKJPvNX"
   },
   "source": [
    "# Item-based Collaborative Filtering\n",
    "\n",
    "The goal of item-based collaborative filtering is to predict ratings for a specific item $i_n$ based on ratings of similar previous items rated by all possible users. \n",
    "\n",
    "The rating for target item $i_n$ for active user $u_m$ can be found using\n",
    "\n",
    "$\\textbf{Weighted Average}$ $$p_{a,i} = \\frac{\\sum_{j \\in K} r_{a,j}w_{i,j}}{\\sum_{j \\in K}|W_{i,j}|}$$\n",
    "where $K$ is the neighborhood of most similar items rated by user $u_m$ and $w(i,j)$ is the similarity between items $i$ and $j$. \n",
    "\n",
    "$\\textbf{Adjusted Cosine Similarity}$ $$\\textbf{sim}_ij = \\frac{\\sum_{u \\in U}(R_{u,i}-\\bar{R}_u)(R_{u,j}-\\bar{R}_u)}{\\sqrt{\\sum_{u \\in U}(R_{u,i}-\\bar{R}_u)^2}\\sqrt{\\sum_{u \\in U}(R_{u,j}-\\bar{R}_u)^2}}$$"
   ]
  },
  {
   "cell_type": "markdown",
   "metadata": {
    "colab_type": "text",
    "id": "EIg82umJPzkX"
   },
   "source": [
    "# Implementation\n",
    "\n",
    "In this program, I am building a collaborative filtering model for recommending product items. \n",
    "\n",
    "\n",
    "\n",
    "*   Input: User -  Customer ID\n",
    "*   Output: Ranked list of items (product ID) that the user most likely wants to buy \n",
    "\n"
   ]
  },
  {
   "cell_type": "code",
   "execution_count": 3,
   "metadata": {
    "colab": {
     "base_uri": "https://localhost:8080/",
     "height": 51
    },
    "colab_type": "code",
    "id": "ub_ygJI8PM4a",
    "outputId": "0c8f1e15-0754-42ea-f8fa-a15390b60741"
   },
   "outputs": [
    {
     "name": "stdout",
     "output_type": "stream",
     "text": [
      "The autoreload extension is already loaded. To reload it, use:\n",
      "  %reload_ext autoreload\n"
     ]
    }
   ],
   "source": [
    "%load_ext autoreload\n",
    "%autoreload 2\n",
    "\n",
    "import pandas as pd\n",
    "import numpy as np\n",
    "import time\n",
    "import turicreate as tc\n",
    "from sklearn.model_selection import train_test_split\n",
    "\n",
    "import sys"
   ]
  },
  {
   "cell_type": "markdown",
   "metadata": {
    "colab_type": "text",
    "id": "n-cgv-b-PM4e"
   },
   "source": [
    "## 2. Load data\n",
    "Two datasets are used in this exercise, which can be found in `data` folder: \n",
    "* `recommend_1.csv` consisting of a list of 1000 customer IDs to recommend as output\n",
    "* `trx_data.csv` consisting of user transactions\n",
    "\n",
    "The format is as follows."
   ]
  },
  {
   "cell_type": "code",
   "execution_count": null,
   "metadata": {
    "colab": {},
    "colab_type": "code",
    "id": "FhKxjG_zPM4f"
   },
   "outputs": [],
   "source": [
    "customers = pd.read_csv('/recommend_1.csv')\n",
    "transactions = pd.read_csv('/trx_data.csv')"
   ]
  },
  {
   "cell_type": "code",
   "execution_count": 6,
   "metadata": {
    "colab": {
     "base_uri": "https://localhost:8080/",
     "height": 221
    },
    "colab_type": "code",
    "id": "MZEqoB_PPM4h",
    "outputId": "7b97d428-ebb4-4487-c818-633af8136312"
   },
   "outputs": [
    {
     "name": "stdout",
     "output_type": "stream",
     "text": [
      "(1000, 1)\n"
     ]
    },
    {
     "data": {
      "text/html": [
       "<div>\n",
       "<style scoped>\n",
       "    .dataframe tbody tr th:only-of-type {\n",
       "        vertical-align: middle;\n",
       "    }\n",
       "\n",
       "    .dataframe tbody tr th {\n",
       "        vertical-align: top;\n",
       "    }\n",
       "\n",
       "    .dataframe thead th {\n",
       "        text-align: right;\n",
       "    }\n",
       "</style>\n",
       "<table border=\"1\" class=\"dataframe\">\n",
       "  <thead>\n",
       "    <tr style=\"text-align: right;\">\n",
       "      <th></th>\n",
       "      <th>customerId</th>\n",
       "    </tr>\n",
       "  </thead>\n",
       "  <tbody>\n",
       "    <tr>\n",
       "      <th>0</th>\n",
       "      <td>1553</td>\n",
       "    </tr>\n",
       "    <tr>\n",
       "      <th>1</th>\n",
       "      <td>20400</td>\n",
       "    </tr>\n",
       "    <tr>\n",
       "      <th>2</th>\n",
       "      <td>19750</td>\n",
       "    </tr>\n",
       "    <tr>\n",
       "      <th>3</th>\n",
       "      <td>6334</td>\n",
       "    </tr>\n",
       "    <tr>\n",
       "      <th>4</th>\n",
       "      <td>27773</td>\n",
       "    </tr>\n",
       "  </tbody>\n",
       "</table>\n",
       "</div>"
      ],
      "text/plain": [
       "   customerId\n",
       "0        1553\n",
       "1       20400\n",
       "2       19750\n",
       "3        6334\n",
       "4       27773"
      ]
     },
     "execution_count": 6,
     "metadata": {
      "tags": []
     },
     "output_type": "execute_result"
    }
   ],
   "source": [
    "print(customers.shape)\n",
    "customers.head()"
   ]
  },
  {
   "cell_type": "code",
   "execution_count": 7,
   "metadata": {
    "colab": {
     "base_uri": "https://localhost:8080/",
     "height": 221
    },
    "colab_type": "code",
    "id": "yPe4o2YRPM4k",
    "outputId": "fc77a66b-b063-4236-fdc0-308c96c2d709"
   },
   "outputs": [
    {
     "name": "stdout",
     "output_type": "stream",
     "text": [
      "(62483, 2)\n"
     ]
    },
    {
     "data": {
      "text/html": [
       "<div>\n",
       "<style scoped>\n",
       "    .dataframe tbody tr th:only-of-type {\n",
       "        vertical-align: middle;\n",
       "    }\n",
       "\n",
       "    .dataframe tbody tr th {\n",
       "        vertical-align: top;\n",
       "    }\n",
       "\n",
       "    .dataframe thead th {\n",
       "        text-align: right;\n",
       "    }\n",
       "</style>\n",
       "<table border=\"1\" class=\"dataframe\">\n",
       "  <thead>\n",
       "    <tr style=\"text-align: right;\">\n",
       "      <th></th>\n",
       "      <th>customerId</th>\n",
       "      <th>products</th>\n",
       "    </tr>\n",
       "  </thead>\n",
       "  <tbody>\n",
       "    <tr>\n",
       "      <th>0</th>\n",
       "      <td>0</td>\n",
       "      <td>20</td>\n",
       "    </tr>\n",
       "    <tr>\n",
       "      <th>1</th>\n",
       "      <td>1</td>\n",
       "      <td>2|2|23|68|68|111|29|86|107|152</td>\n",
       "    </tr>\n",
       "    <tr>\n",
       "      <th>2</th>\n",
       "      <td>2</td>\n",
       "      <td>111|107|29|11|11|11|33|23</td>\n",
       "    </tr>\n",
       "    <tr>\n",
       "      <th>3</th>\n",
       "      <td>3</td>\n",
       "      <td>164|227</td>\n",
       "    </tr>\n",
       "    <tr>\n",
       "      <th>4</th>\n",
       "      <td>5</td>\n",
       "      <td>2|2</td>\n",
       "    </tr>\n",
       "  </tbody>\n",
       "</table>\n",
       "</div>"
      ],
      "text/plain": [
       "   customerId                        products\n",
       "0           0                              20\n",
       "1           1  2|2|23|68|68|111|29|86|107|152\n",
       "2           2       111|107|29|11|11|11|33|23\n",
       "3           3                         164|227\n",
       "4           5                             2|2"
      ]
     },
     "execution_count": 7,
     "metadata": {
      "tags": []
     },
     "output_type": "execute_result"
    }
   ],
   "source": [
    "print(transactions.shape)\n",
    "transactions.head()"
   ]
  },
  {
   "cell_type": "markdown",
   "metadata": {
    "colab_type": "text",
    "id": "5R-iQoiTPM4m"
   },
   "source": [
    "## 3. Data preparation\n",
    "* Our goal here is to break down each list of items in the `products` column into rows and count the number of products bought by a user"
   ]
  },
  {
   "cell_type": "code",
   "execution_count": 8,
   "metadata": {
    "colab": {
     "base_uri": "https://localhost:8080/",
     "height": 111
    },
    "colab_type": "code",
    "id": "xTSGty98PM4n",
    "outputId": "06ffbefe-2ad5-472a-f892-17d5db6405d7"
   },
   "outputs": [
    {
     "data": {
      "text/html": [
       "<div>\n",
       "<style scoped>\n",
       "    .dataframe tbody tr th:only-of-type {\n",
       "        vertical-align: middle;\n",
       "    }\n",
       "\n",
       "    .dataframe tbody tr th {\n",
       "        vertical-align: top;\n",
       "    }\n",
       "\n",
       "    .dataframe thead th {\n",
       "        text-align: right;\n",
       "    }\n",
       "</style>\n",
       "<table border=\"1\" class=\"dataframe\">\n",
       "  <thead>\n",
       "    <tr style=\"text-align: right;\">\n",
       "      <th></th>\n",
       "      <th>customerId</th>\n",
       "      <th>0</th>\n",
       "      <th>1</th>\n",
       "      <th>2</th>\n",
       "      <th>3</th>\n",
       "      <th>4</th>\n",
       "      <th>5</th>\n",
       "      <th>6</th>\n",
       "      <th>7</th>\n",
       "      <th>8</th>\n",
       "      <th>9</th>\n",
       "    </tr>\n",
       "  </thead>\n",
       "  <tbody>\n",
       "    <tr>\n",
       "      <th>0</th>\n",
       "      <td>0</td>\n",
       "      <td>20.0</td>\n",
       "      <td>NaN</td>\n",
       "      <td>NaN</td>\n",
       "      <td>NaN</td>\n",
       "      <td>NaN</td>\n",
       "      <td>NaN</td>\n",
       "      <td>NaN</td>\n",
       "      <td>NaN</td>\n",
       "      <td>NaN</td>\n",
       "      <td>NaN</td>\n",
       "    </tr>\n",
       "    <tr>\n",
       "      <th>1</th>\n",
       "      <td>1</td>\n",
       "      <td>2.0</td>\n",
       "      <td>2.0</td>\n",
       "      <td>23.0</td>\n",
       "      <td>68.0</td>\n",
       "      <td>68.0</td>\n",
       "      <td>111.0</td>\n",
       "      <td>29.0</td>\n",
       "      <td>86.0</td>\n",
       "      <td>107.0</td>\n",
       "      <td>152.0</td>\n",
       "    </tr>\n",
       "  </tbody>\n",
       "</table>\n",
       "</div>"
      ],
      "text/plain": [
       "   customerId     0    1     2     3     4      5     6     7      8      9\n",
       "0           0  20.0  NaN   NaN   NaN   NaN    NaN   NaN   NaN    NaN    NaN\n",
       "1           1   2.0  2.0  23.0  68.0  68.0  111.0  29.0  86.0  107.0  152.0"
      ]
     },
     "execution_count": 8,
     "metadata": {
      "tags": []
     },
     "output_type": "execute_result"
    }
   ],
   "source": [
    "# example 1: split product items\n",
    "transactions['products'] = transactions['products'].apply(lambda x: [int(i) for i in x.split('|')])\n",
    "transactions.head(2).set_index('customerId')['products'].apply(pd.Series).reset_index()"
   ]
  },
  {
   "cell_type": "code",
   "execution_count": 9,
   "metadata": {
    "colab": {
     "base_uri": "https://localhost:8080/",
     "height": 328
    },
    "colab_type": "code",
    "id": "Kpg9EaugPM4p",
    "outputId": "508c9666-b41b-425c-a2dd-43bf52e02233"
   },
   "outputs": [
    {
     "data": {
      "text/html": [
       "<div>\n",
       "<style scoped>\n",
       "    .dataframe tbody tr th:only-of-type {\n",
       "        vertical-align: middle;\n",
       "    }\n",
       "\n",
       "    .dataframe tbody tr th {\n",
       "        vertical-align: top;\n",
       "    }\n",
       "\n",
       "    .dataframe thead th {\n",
       "        text-align: right;\n",
       "    }\n",
       "</style>\n",
       "<table border=\"1\" class=\"dataframe\">\n",
       "  <thead>\n",
       "    <tr style=\"text-align: right;\">\n",
       "      <th></th>\n",
       "      <th>customerId</th>\n",
       "      <th>productId</th>\n",
       "      <th>purchase_count</th>\n",
       "    </tr>\n",
       "  </thead>\n",
       "  <tbody>\n",
       "    <tr>\n",
       "      <th>0</th>\n",
       "      <td>0</td>\n",
       "      <td>20.0</td>\n",
       "      <td>1</td>\n",
       "    </tr>\n",
       "    <tr>\n",
       "      <th>1</th>\n",
       "      <td>1</td>\n",
       "      <td>2.0</td>\n",
       "      <td>2</td>\n",
       "    </tr>\n",
       "    <tr>\n",
       "      <th>2</th>\n",
       "      <td>1</td>\n",
       "      <td>23.0</td>\n",
       "      <td>1</td>\n",
       "    </tr>\n",
       "    <tr>\n",
       "      <th>3</th>\n",
       "      <td>1</td>\n",
       "      <td>29.0</td>\n",
       "      <td>1</td>\n",
       "    </tr>\n",
       "    <tr>\n",
       "      <th>4</th>\n",
       "      <td>1</td>\n",
       "      <td>68.0</td>\n",
       "      <td>2</td>\n",
       "    </tr>\n",
       "    <tr>\n",
       "      <th>5</th>\n",
       "      <td>1</td>\n",
       "      <td>86.0</td>\n",
       "      <td>1</td>\n",
       "    </tr>\n",
       "    <tr>\n",
       "      <th>6</th>\n",
       "      <td>1</td>\n",
       "      <td>107.0</td>\n",
       "      <td>1</td>\n",
       "    </tr>\n",
       "    <tr>\n",
       "      <th>7</th>\n",
       "      <td>1</td>\n",
       "      <td>111.0</td>\n",
       "      <td>1</td>\n",
       "    </tr>\n",
       "    <tr>\n",
       "      <th>8</th>\n",
       "      <td>1</td>\n",
       "      <td>152.0</td>\n",
       "      <td>1</td>\n",
       "    </tr>\n",
       "  </tbody>\n",
       "</table>\n",
       "</div>"
      ],
      "text/plain": [
       "   customerId  productId  purchase_count\n",
       "0           0       20.0               1\n",
       "1           1        2.0               2\n",
       "2           1       23.0               1\n",
       "3           1       29.0               1\n",
       "4           1       68.0               2\n",
       "5           1       86.0               1\n",
       "6           1      107.0               1\n",
       "7           1      111.0               1\n",
       "8           1      152.0               1"
      ]
     },
     "execution_count": 9,
     "metadata": {
      "tags": []
     },
     "output_type": "execute_result"
    }
   ],
   "source": [
    "# example 2: organize a given table into a dataframe with customerId, single productId, and purchase count\n",
    "pd.melt(transactions.head(2).set_index('customerId')['products'].apply(pd.Series).reset_index(), \n",
    "             id_vars=['customerId'],\n",
    "             value_name='products') \\\n",
    "    .dropna().drop(['variable'], axis=1) \\\n",
    "    .groupby(['customerId', 'products']) \\\n",
    "    .agg({'products': 'count'}) \\\n",
    "    .rename(columns={'products': 'purchase_count'}) \\\n",
    "    .reset_index() \\\n",
    "    .rename(columns={'products': 'productId'})"
   ]
  },
  {
   "cell_type": "markdown",
   "metadata": {
    "colab_type": "text",
    "id": "qnGA-J7NPM4r"
   },
   "source": [
    "### 3.1. Create data with user, item, and target field\n",
    "* This table will be an input for our modeling later\n",
    "    * In this case, our user is `customerId`, `productId`, and `purchase_count`"
   ]
  },
  {
   "cell_type": "code",
   "execution_count": 10,
   "metadata": {
    "colab": {
     "base_uri": "https://localhost:8080/",
     "height": 34
    },
    "colab_type": "code",
    "id": "Oq84oqwOPM4s",
    "outputId": "a0356afd-3e41-4569-9b48-b06065482b6b"
   },
   "outputs": [
    {
     "name": "stdout",
     "output_type": "stream",
     "text": [
      "Execution time: 0.28 minutes\n"
     ]
    }
   ],
   "source": [
    "s=time.time()\n",
    "\n",
    "data = pd.melt(transactions.set_index('customerId')['products'].apply(pd.Series).reset_index(), \n",
    "             id_vars=['customerId'],\n",
    "             value_name='products') \\\n",
    "    .dropna().drop(['variable'], axis=1) \\\n",
    "    .groupby(['customerId', 'products']) \\\n",
    "    .agg({'products': 'count'}) \\\n",
    "    .rename(columns={'products': 'purchase_count'}) \\\n",
    "    .reset_index() \\\n",
    "    .rename(columns={'products': 'productId'})\n",
    "data['productId'] = data['productId'].astype(np.int64)\n",
    "\n",
    "print(\"Execution time:\", round((time.time()-s)/60,2), \"minutes\")"
   ]
  },
  {
   "cell_type": "code",
   "execution_count": 11,
   "metadata": {
    "colab": {
     "base_uri": "https://localhost:8080/",
     "height": 221
    },
    "colab_type": "code",
    "id": "8ObCgQOtPM4u",
    "outputId": "636095e0-480c-4353-8254-2570d0d9ce1a"
   },
   "outputs": [
    {
     "name": "stdout",
     "output_type": "stream",
     "text": [
      "(133585, 3)\n"
     ]
    },
    {
     "data": {
      "text/html": [
       "<div>\n",
       "<style scoped>\n",
       "    .dataframe tbody tr th:only-of-type {\n",
       "        vertical-align: middle;\n",
       "    }\n",
       "\n",
       "    .dataframe tbody tr th {\n",
       "        vertical-align: top;\n",
       "    }\n",
       "\n",
       "    .dataframe thead th {\n",
       "        text-align: right;\n",
       "    }\n",
       "</style>\n",
       "<table border=\"1\" class=\"dataframe\">\n",
       "  <thead>\n",
       "    <tr style=\"text-align: right;\">\n",
       "      <th></th>\n",
       "      <th>customerId</th>\n",
       "      <th>productId</th>\n",
       "      <th>purchase_count</th>\n",
       "    </tr>\n",
       "  </thead>\n",
       "  <tbody>\n",
       "    <tr>\n",
       "      <th>0</th>\n",
       "      <td>0</td>\n",
       "      <td>1</td>\n",
       "      <td>2</td>\n",
       "    </tr>\n",
       "    <tr>\n",
       "      <th>1</th>\n",
       "      <td>0</td>\n",
       "      <td>13</td>\n",
       "      <td>1</td>\n",
       "    </tr>\n",
       "    <tr>\n",
       "      <th>2</th>\n",
       "      <td>0</td>\n",
       "      <td>19</td>\n",
       "      <td>3</td>\n",
       "    </tr>\n",
       "    <tr>\n",
       "      <th>3</th>\n",
       "      <td>0</td>\n",
       "      <td>20</td>\n",
       "      <td>1</td>\n",
       "    </tr>\n",
       "    <tr>\n",
       "      <th>4</th>\n",
       "      <td>0</td>\n",
       "      <td>31</td>\n",
       "      <td>2</td>\n",
       "    </tr>\n",
       "  </tbody>\n",
       "</table>\n",
       "</div>"
      ],
      "text/plain": [
       "   customerId  productId  purchase_count\n",
       "0           0          1               2\n",
       "1           0         13               1\n",
       "2           0         19               3\n",
       "3           0         20               1\n",
       "4           0         31               2"
      ]
     },
     "execution_count": 11,
     "metadata": {
      "tags": []
     },
     "output_type": "execute_result"
    }
   ],
   "source": [
    "print(data.shape)\n",
    "data.head()"
   ]
  },
  {
   "cell_type": "markdown",
   "metadata": {
    "colab_type": "text",
    "id": "g1dHqmVRPM4x"
   },
   "source": [
    "### 3.2. Create dummy\n",
    "* Dummy for marking whether a customer bought that item or not.\n",
    "* If one buys an item, then `purchase_dummy` are marked as 1\n",
    "* Why create a dummy instead of normalizing it, you ask?\n",
    "    * Normalizing the purchase count, say by each user, would not work because customers may have different buying frequency don't have the same taste\n",
    "    * However, we can normalize items by purchase frequency across all users, which is done in section 3.3. below."
   ]
  },
  {
   "cell_type": "code",
   "execution_count": null,
   "metadata": {
    "colab": {},
    "colab_type": "code",
    "id": "wpHG1T6oPM4y"
   },
   "outputs": [],
   "source": [
    "def create_data_dummy(data):\n",
    "    data_dummy = data.copy()\n",
    "    data_dummy['purchase_dummy'] = 1\n",
    "    return data_dummy"
   ]
  },
  {
   "cell_type": "code",
   "execution_count": null,
   "metadata": {
    "colab": {},
    "colab_type": "code",
    "id": "sAWAFif0PM42"
   },
   "outputs": [],
   "source": [
    "data_dummy = create_data_dummy(data)"
   ]
  },
  {
   "cell_type": "markdown",
   "metadata": {
    "colab_type": "text",
    "id": "bBWO1BfzPM44"
   },
   "source": [
    "### 3.3. Normalize item values across users\n",
    "* To do this, we normalize purchase frequency of each item across users by first creating a user-item matrix as follows"
   ]
  },
  {
   "cell_type": "code",
   "execution_count": 14,
   "metadata": {
    "colab": {
     "base_uri": "https://localhost:8080/",
     "height": 284
    },
    "colab_type": "code",
    "id": "EbhAevGnPM45",
    "outputId": "b5046216-22f4-45ea-e8cf-cb913c9142fb"
   },
   "outputs": [
    {
     "data": {
      "text/html": [
       "<div>\n",
       "<style scoped>\n",
       "    .dataframe tbody tr th:only-of-type {\n",
       "        vertical-align: middle;\n",
       "    }\n",
       "\n",
       "    .dataframe tbody tr th {\n",
       "        vertical-align: top;\n",
       "    }\n",
       "\n",
       "    .dataframe thead th {\n",
       "        text-align: right;\n",
       "    }\n",
       "</style>\n",
       "<table border=\"1\" class=\"dataframe\">\n",
       "  <thead>\n",
       "    <tr style=\"text-align: right;\">\n",
       "      <th>productId</th>\n",
       "      <th>0</th>\n",
       "      <th>1</th>\n",
       "      <th>2</th>\n",
       "      <th>3</th>\n",
       "      <th>4</th>\n",
       "      <th>5</th>\n",
       "      <th>6</th>\n",
       "      <th>7</th>\n",
       "      <th>8</th>\n",
       "      <th>9</th>\n",
       "      <th>10</th>\n",
       "      <th>11</th>\n",
       "      <th>12</th>\n",
       "      <th>13</th>\n",
       "      <th>14</th>\n",
       "      <th>15</th>\n",
       "      <th>16</th>\n",
       "      <th>17</th>\n",
       "      <th>18</th>\n",
       "      <th>19</th>\n",
       "      <th>20</th>\n",
       "      <th>21</th>\n",
       "      <th>22</th>\n",
       "      <th>23</th>\n",
       "      <th>24</th>\n",
       "      <th>25</th>\n",
       "      <th>26</th>\n",
       "      <th>27</th>\n",
       "      <th>28</th>\n",
       "      <th>29</th>\n",
       "      <th>30</th>\n",
       "      <th>31</th>\n",
       "      <th>32</th>\n",
       "      <th>33</th>\n",
       "      <th>34</th>\n",
       "      <th>35</th>\n",
       "      <th>36</th>\n",
       "      <th>37</th>\n",
       "      <th>38</th>\n",
       "      <th>39</th>\n",
       "      <th>...</th>\n",
       "      <th>260</th>\n",
       "      <th>261</th>\n",
       "      <th>262</th>\n",
       "      <th>263</th>\n",
       "      <th>264</th>\n",
       "      <th>265</th>\n",
       "      <th>266</th>\n",
       "      <th>267</th>\n",
       "      <th>268</th>\n",
       "      <th>269</th>\n",
       "      <th>270</th>\n",
       "      <th>271</th>\n",
       "      <th>272</th>\n",
       "      <th>273</th>\n",
       "      <th>274</th>\n",
       "      <th>275</th>\n",
       "      <th>276</th>\n",
       "      <th>277</th>\n",
       "      <th>278</th>\n",
       "      <th>279</th>\n",
       "      <th>280</th>\n",
       "      <th>281</th>\n",
       "      <th>282</th>\n",
       "      <th>283</th>\n",
       "      <th>284</th>\n",
       "      <th>285</th>\n",
       "      <th>286</th>\n",
       "      <th>287</th>\n",
       "      <th>288</th>\n",
       "      <th>289</th>\n",
       "      <th>290</th>\n",
       "      <th>291</th>\n",
       "      <th>292</th>\n",
       "      <th>293</th>\n",
       "      <th>294</th>\n",
       "      <th>295</th>\n",
       "      <th>296</th>\n",
       "      <th>297</th>\n",
       "      <th>298</th>\n",
       "      <th>299</th>\n",
       "    </tr>\n",
       "    <tr>\n",
       "      <th>customerId</th>\n",
       "      <th></th>\n",
       "      <th></th>\n",
       "      <th></th>\n",
       "      <th></th>\n",
       "      <th></th>\n",
       "      <th></th>\n",
       "      <th></th>\n",
       "      <th></th>\n",
       "      <th></th>\n",
       "      <th></th>\n",
       "      <th></th>\n",
       "      <th></th>\n",
       "      <th></th>\n",
       "      <th></th>\n",
       "      <th></th>\n",
       "      <th></th>\n",
       "      <th></th>\n",
       "      <th></th>\n",
       "      <th></th>\n",
       "      <th></th>\n",
       "      <th></th>\n",
       "      <th></th>\n",
       "      <th></th>\n",
       "      <th></th>\n",
       "      <th></th>\n",
       "      <th></th>\n",
       "      <th></th>\n",
       "      <th></th>\n",
       "      <th></th>\n",
       "      <th></th>\n",
       "      <th></th>\n",
       "      <th></th>\n",
       "      <th></th>\n",
       "      <th></th>\n",
       "      <th></th>\n",
       "      <th></th>\n",
       "      <th></th>\n",
       "      <th></th>\n",
       "      <th></th>\n",
       "      <th></th>\n",
       "      <th></th>\n",
       "      <th></th>\n",
       "      <th></th>\n",
       "      <th></th>\n",
       "      <th></th>\n",
       "      <th></th>\n",
       "      <th></th>\n",
       "      <th></th>\n",
       "      <th></th>\n",
       "      <th></th>\n",
       "      <th></th>\n",
       "      <th></th>\n",
       "      <th></th>\n",
       "      <th></th>\n",
       "      <th></th>\n",
       "      <th></th>\n",
       "      <th></th>\n",
       "      <th></th>\n",
       "      <th></th>\n",
       "      <th></th>\n",
       "      <th></th>\n",
       "      <th></th>\n",
       "      <th></th>\n",
       "      <th></th>\n",
       "      <th></th>\n",
       "      <th></th>\n",
       "      <th></th>\n",
       "      <th></th>\n",
       "      <th></th>\n",
       "      <th></th>\n",
       "      <th></th>\n",
       "      <th></th>\n",
       "      <th></th>\n",
       "      <th></th>\n",
       "      <th></th>\n",
       "      <th></th>\n",
       "      <th></th>\n",
       "      <th></th>\n",
       "      <th></th>\n",
       "      <th></th>\n",
       "      <th></th>\n",
       "    </tr>\n",
       "  </thead>\n",
       "  <tbody>\n",
       "    <tr>\n",
       "      <th>0</th>\n",
       "      <td>NaN</td>\n",
       "      <td>2.0</td>\n",
       "      <td>NaN</td>\n",
       "      <td>NaN</td>\n",
       "      <td>NaN</td>\n",
       "      <td>NaN</td>\n",
       "      <td>NaN</td>\n",
       "      <td>NaN</td>\n",
       "      <td>NaN</td>\n",
       "      <td>NaN</td>\n",
       "      <td>NaN</td>\n",
       "      <td>NaN</td>\n",
       "      <td>NaN</td>\n",
       "      <td>1.0</td>\n",
       "      <td>NaN</td>\n",
       "      <td>NaN</td>\n",
       "      <td>NaN</td>\n",
       "      <td>NaN</td>\n",
       "      <td>NaN</td>\n",
       "      <td>3.0</td>\n",
       "      <td>1.0</td>\n",
       "      <td>NaN</td>\n",
       "      <td>NaN</td>\n",
       "      <td>NaN</td>\n",
       "      <td>NaN</td>\n",
       "      <td>NaN</td>\n",
       "      <td>NaN</td>\n",
       "      <td>NaN</td>\n",
       "      <td>NaN</td>\n",
       "      <td>NaN</td>\n",
       "      <td>NaN</td>\n",
       "      <td>2.0</td>\n",
       "      <td>NaN</td>\n",
       "      <td>NaN</td>\n",
       "      <td>NaN</td>\n",
       "      <td>NaN</td>\n",
       "      <td>NaN</td>\n",
       "      <td>NaN</td>\n",
       "      <td>NaN</td>\n",
       "      <td>NaN</td>\n",
       "      <td>...</td>\n",
       "      <td>5.0</td>\n",
       "      <td>NaN</td>\n",
       "      <td>NaN</td>\n",
       "      <td>NaN</td>\n",
       "      <td>NaN</td>\n",
       "      <td>NaN</td>\n",
       "      <td>NaN</td>\n",
       "      <td>NaN</td>\n",
       "      <td>NaN</td>\n",
       "      <td>NaN</td>\n",
       "      <td>NaN</td>\n",
       "      <td>NaN</td>\n",
       "      <td>NaN</td>\n",
       "      <td>NaN</td>\n",
       "      <td>NaN</td>\n",
       "      <td>NaN</td>\n",
       "      <td>NaN</td>\n",
       "      <td>NaN</td>\n",
       "      <td>NaN</td>\n",
       "      <td>NaN</td>\n",
       "      <td>NaN</td>\n",
       "      <td>NaN</td>\n",
       "      <td>NaN</td>\n",
       "      <td>NaN</td>\n",
       "      <td>NaN</td>\n",
       "      <td>NaN</td>\n",
       "      <td>NaN</td>\n",
       "      <td>NaN</td>\n",
       "      <td>NaN</td>\n",
       "      <td>NaN</td>\n",
       "      <td>NaN</td>\n",
       "      <td>NaN</td>\n",
       "      <td>NaN</td>\n",
       "      <td>NaN</td>\n",
       "      <td>NaN</td>\n",
       "      <td>NaN</td>\n",
       "      <td>NaN</td>\n",
       "      <td>NaN</td>\n",
       "      <td>NaN</td>\n",
       "      <td>NaN</td>\n",
       "    </tr>\n",
       "    <tr>\n",
       "      <th>1</th>\n",
       "      <td>NaN</td>\n",
       "      <td>NaN</td>\n",
       "      <td>6.0</td>\n",
       "      <td>NaN</td>\n",
       "      <td>NaN</td>\n",
       "      <td>NaN</td>\n",
       "      <td>NaN</td>\n",
       "      <td>NaN</td>\n",
       "      <td>NaN</td>\n",
       "      <td>NaN</td>\n",
       "      <td>NaN</td>\n",
       "      <td>NaN</td>\n",
       "      <td>NaN</td>\n",
       "      <td>NaN</td>\n",
       "      <td>NaN</td>\n",
       "      <td>NaN</td>\n",
       "      <td>NaN</td>\n",
       "      <td>NaN</td>\n",
       "      <td>NaN</td>\n",
       "      <td>NaN</td>\n",
       "      <td>NaN</td>\n",
       "      <td>NaN</td>\n",
       "      <td>NaN</td>\n",
       "      <td>1.0</td>\n",
       "      <td>NaN</td>\n",
       "      <td>1.0</td>\n",
       "      <td>NaN</td>\n",
       "      <td>NaN</td>\n",
       "      <td>NaN</td>\n",
       "      <td>1.0</td>\n",
       "      <td>NaN</td>\n",
       "      <td>NaN</td>\n",
       "      <td>NaN</td>\n",
       "      <td>NaN</td>\n",
       "      <td>NaN</td>\n",
       "      <td>NaN</td>\n",
       "      <td>NaN</td>\n",
       "      <td>NaN</td>\n",
       "      <td>NaN</td>\n",
       "      <td>NaN</td>\n",
       "      <td>...</td>\n",
       "      <td>NaN</td>\n",
       "      <td>NaN</td>\n",
       "      <td>NaN</td>\n",
       "      <td>NaN</td>\n",
       "      <td>NaN</td>\n",
       "      <td>NaN</td>\n",
       "      <td>NaN</td>\n",
       "      <td>NaN</td>\n",
       "      <td>NaN</td>\n",
       "      <td>NaN</td>\n",
       "      <td>NaN</td>\n",
       "      <td>NaN</td>\n",
       "      <td>NaN</td>\n",
       "      <td>NaN</td>\n",
       "      <td>1.0</td>\n",
       "      <td>NaN</td>\n",
       "      <td>NaN</td>\n",
       "      <td>NaN</td>\n",
       "      <td>NaN</td>\n",
       "      <td>NaN</td>\n",
       "      <td>NaN</td>\n",
       "      <td>NaN</td>\n",
       "      <td>NaN</td>\n",
       "      <td>NaN</td>\n",
       "      <td>NaN</td>\n",
       "      <td>1.0</td>\n",
       "      <td>NaN</td>\n",
       "      <td>NaN</td>\n",
       "      <td>NaN</td>\n",
       "      <td>NaN</td>\n",
       "      <td>NaN</td>\n",
       "      <td>NaN</td>\n",
       "      <td>NaN</td>\n",
       "      <td>1.0</td>\n",
       "      <td>NaN</td>\n",
       "      <td>NaN</td>\n",
       "      <td>1.0</td>\n",
       "      <td>NaN</td>\n",
       "      <td>NaN</td>\n",
       "      <td>NaN</td>\n",
       "    </tr>\n",
       "    <tr>\n",
       "      <th>2</th>\n",
       "      <td>NaN</td>\n",
       "      <td>NaN</td>\n",
       "      <td>NaN</td>\n",
       "      <td>NaN</td>\n",
       "      <td>NaN</td>\n",
       "      <td>NaN</td>\n",
       "      <td>NaN</td>\n",
       "      <td>NaN</td>\n",
       "      <td>NaN</td>\n",
       "      <td>NaN</td>\n",
       "      <td>NaN</td>\n",
       "      <td>3.0</td>\n",
       "      <td>NaN</td>\n",
       "      <td>NaN</td>\n",
       "      <td>NaN</td>\n",
       "      <td>NaN</td>\n",
       "      <td>NaN</td>\n",
       "      <td>NaN</td>\n",
       "      <td>NaN</td>\n",
       "      <td>NaN</td>\n",
       "      <td>NaN</td>\n",
       "      <td>NaN</td>\n",
       "      <td>NaN</td>\n",
       "      <td>1.0</td>\n",
       "      <td>NaN</td>\n",
       "      <td>NaN</td>\n",
       "      <td>NaN</td>\n",
       "      <td>NaN</td>\n",
       "      <td>NaN</td>\n",
       "      <td>1.0</td>\n",
       "      <td>NaN</td>\n",
       "      <td>NaN</td>\n",
       "      <td>NaN</td>\n",
       "      <td>1.0</td>\n",
       "      <td>NaN</td>\n",
       "      <td>NaN</td>\n",
       "      <td>NaN</td>\n",
       "      <td>NaN</td>\n",
       "      <td>NaN</td>\n",
       "      <td>NaN</td>\n",
       "      <td>...</td>\n",
       "      <td>NaN</td>\n",
       "      <td>NaN</td>\n",
       "      <td>NaN</td>\n",
       "      <td>NaN</td>\n",
       "      <td>NaN</td>\n",
       "      <td>NaN</td>\n",
       "      <td>NaN</td>\n",
       "      <td>NaN</td>\n",
       "      <td>NaN</td>\n",
       "      <td>NaN</td>\n",
       "      <td>NaN</td>\n",
       "      <td>NaN</td>\n",
       "      <td>NaN</td>\n",
       "      <td>NaN</td>\n",
       "      <td>NaN</td>\n",
       "      <td>NaN</td>\n",
       "      <td>NaN</td>\n",
       "      <td>NaN</td>\n",
       "      <td>NaN</td>\n",
       "      <td>NaN</td>\n",
       "      <td>NaN</td>\n",
       "      <td>NaN</td>\n",
       "      <td>NaN</td>\n",
       "      <td>NaN</td>\n",
       "      <td>NaN</td>\n",
       "      <td>NaN</td>\n",
       "      <td>NaN</td>\n",
       "      <td>NaN</td>\n",
       "      <td>NaN</td>\n",
       "      <td>NaN</td>\n",
       "      <td>NaN</td>\n",
       "      <td>NaN</td>\n",
       "      <td>NaN</td>\n",
       "      <td>NaN</td>\n",
       "      <td>NaN</td>\n",
       "      <td>NaN</td>\n",
       "      <td>NaN</td>\n",
       "      <td>NaN</td>\n",
       "      <td>NaN</td>\n",
       "      <td>NaN</td>\n",
       "    </tr>\n",
       "    <tr>\n",
       "      <th>3</th>\n",
       "      <td>NaN</td>\n",
       "      <td>NaN</td>\n",
       "      <td>NaN</td>\n",
       "      <td>NaN</td>\n",
       "      <td>NaN</td>\n",
       "      <td>NaN</td>\n",
       "      <td>NaN</td>\n",
       "      <td>NaN</td>\n",
       "      <td>NaN</td>\n",
       "      <td>NaN</td>\n",
       "      <td>NaN</td>\n",
       "      <td>NaN</td>\n",
       "      <td>NaN</td>\n",
       "      <td>NaN</td>\n",
       "      <td>NaN</td>\n",
       "      <td>NaN</td>\n",
       "      <td>NaN</td>\n",
       "      <td>NaN</td>\n",
       "      <td>NaN</td>\n",
       "      <td>NaN</td>\n",
       "      <td>NaN</td>\n",
       "      <td>NaN</td>\n",
       "      <td>NaN</td>\n",
       "      <td>NaN</td>\n",
       "      <td>NaN</td>\n",
       "      <td>1.0</td>\n",
       "      <td>NaN</td>\n",
       "      <td>NaN</td>\n",
       "      <td>NaN</td>\n",
       "      <td>NaN</td>\n",
       "      <td>NaN</td>\n",
       "      <td>NaN</td>\n",
       "      <td>NaN</td>\n",
       "      <td>NaN</td>\n",
       "      <td>NaN</td>\n",
       "      <td>NaN</td>\n",
       "      <td>NaN</td>\n",
       "      <td>NaN</td>\n",
       "      <td>NaN</td>\n",
       "      <td>NaN</td>\n",
       "      <td>...</td>\n",
       "      <td>NaN</td>\n",
       "      <td>NaN</td>\n",
       "      <td>NaN</td>\n",
       "      <td>NaN</td>\n",
       "      <td>NaN</td>\n",
       "      <td>NaN</td>\n",
       "      <td>NaN</td>\n",
       "      <td>NaN</td>\n",
       "      <td>NaN</td>\n",
       "      <td>NaN</td>\n",
       "      <td>NaN</td>\n",
       "      <td>NaN</td>\n",
       "      <td>NaN</td>\n",
       "      <td>NaN</td>\n",
       "      <td>NaN</td>\n",
       "      <td>NaN</td>\n",
       "      <td>NaN</td>\n",
       "      <td>NaN</td>\n",
       "      <td>NaN</td>\n",
       "      <td>NaN</td>\n",
       "      <td>NaN</td>\n",
       "      <td>NaN</td>\n",
       "      <td>NaN</td>\n",
       "      <td>NaN</td>\n",
       "      <td>NaN</td>\n",
       "      <td>NaN</td>\n",
       "      <td>NaN</td>\n",
       "      <td>NaN</td>\n",
       "      <td>NaN</td>\n",
       "      <td>NaN</td>\n",
       "      <td>NaN</td>\n",
       "      <td>NaN</td>\n",
       "      <td>NaN</td>\n",
       "      <td>NaN</td>\n",
       "      <td>NaN</td>\n",
       "      <td>NaN</td>\n",
       "      <td>NaN</td>\n",
       "      <td>NaN</td>\n",
       "      <td>NaN</td>\n",
       "      <td>NaN</td>\n",
       "    </tr>\n",
       "    <tr>\n",
       "      <th>4</th>\n",
       "      <td>NaN</td>\n",
       "      <td>NaN</td>\n",
       "      <td>NaN</td>\n",
       "      <td>NaN</td>\n",
       "      <td>NaN</td>\n",
       "      <td>NaN</td>\n",
       "      <td>NaN</td>\n",
       "      <td>NaN</td>\n",
       "      <td>NaN</td>\n",
       "      <td>NaN</td>\n",
       "      <td>NaN</td>\n",
       "      <td>NaN</td>\n",
       "      <td>NaN</td>\n",
       "      <td>NaN</td>\n",
       "      <td>NaN</td>\n",
       "      <td>2.0</td>\n",
       "      <td>NaN</td>\n",
       "      <td>NaN</td>\n",
       "      <td>NaN</td>\n",
       "      <td>NaN</td>\n",
       "      <td>NaN</td>\n",
       "      <td>NaN</td>\n",
       "      <td>NaN</td>\n",
       "      <td>NaN</td>\n",
       "      <td>NaN</td>\n",
       "      <td>NaN</td>\n",
       "      <td>NaN</td>\n",
       "      <td>NaN</td>\n",
       "      <td>NaN</td>\n",
       "      <td>NaN</td>\n",
       "      <td>NaN</td>\n",
       "      <td>NaN</td>\n",
       "      <td>NaN</td>\n",
       "      <td>NaN</td>\n",
       "      <td>NaN</td>\n",
       "      <td>NaN</td>\n",
       "      <td>NaN</td>\n",
       "      <td>NaN</td>\n",
       "      <td>NaN</td>\n",
       "      <td>NaN</td>\n",
       "      <td>...</td>\n",
       "      <td>NaN</td>\n",
       "      <td>NaN</td>\n",
       "      <td>NaN</td>\n",
       "      <td>NaN</td>\n",
       "      <td>NaN</td>\n",
       "      <td>NaN</td>\n",
       "      <td>NaN</td>\n",
       "      <td>NaN</td>\n",
       "      <td>NaN</td>\n",
       "      <td>NaN</td>\n",
       "      <td>1.0</td>\n",
       "      <td>NaN</td>\n",
       "      <td>NaN</td>\n",
       "      <td>NaN</td>\n",
       "      <td>NaN</td>\n",
       "      <td>NaN</td>\n",
       "      <td>NaN</td>\n",
       "      <td>NaN</td>\n",
       "      <td>NaN</td>\n",
       "      <td>NaN</td>\n",
       "      <td>NaN</td>\n",
       "      <td>NaN</td>\n",
       "      <td>NaN</td>\n",
       "      <td>NaN</td>\n",
       "      <td>NaN</td>\n",
       "      <td>NaN</td>\n",
       "      <td>NaN</td>\n",
       "      <td>NaN</td>\n",
       "      <td>NaN</td>\n",
       "      <td>1.0</td>\n",
       "      <td>NaN</td>\n",
       "      <td>NaN</td>\n",
       "      <td>NaN</td>\n",
       "      <td>NaN</td>\n",
       "      <td>NaN</td>\n",
       "      <td>NaN</td>\n",
       "      <td>NaN</td>\n",
       "      <td>NaN</td>\n",
       "      <td>NaN</td>\n",
       "      <td>NaN</td>\n",
       "    </tr>\n",
       "  </tbody>\n",
       "</table>\n",
       "<p>5 rows × 300 columns</p>\n",
       "</div>"
      ],
      "text/plain": [
       "productId   0    1    2    3    4    5    ...  294  295  296  297  298  299\n",
       "customerId                                ...                              \n",
       "0           NaN  2.0  NaN  NaN  NaN  NaN  ...  NaN  NaN  NaN  NaN  NaN  NaN\n",
       "1           NaN  NaN  6.0  NaN  NaN  NaN  ...  NaN  NaN  1.0  NaN  NaN  NaN\n",
       "2           NaN  NaN  NaN  NaN  NaN  NaN  ...  NaN  NaN  NaN  NaN  NaN  NaN\n",
       "3           NaN  NaN  NaN  NaN  NaN  NaN  ...  NaN  NaN  NaN  NaN  NaN  NaN\n",
       "4           NaN  NaN  NaN  NaN  NaN  NaN  ...  NaN  NaN  NaN  NaN  NaN  NaN\n",
       "\n",
       "[5 rows x 300 columns]"
      ]
     },
     "execution_count": 14,
     "metadata": {
      "tags": []
     },
     "output_type": "execute_result"
    }
   ],
   "source": [
    "df_matrix = pd.pivot_table(data, values='purchase_count', index='customerId', columns='productId')\n",
    "df_matrix.head()"
   ]
  },
  {
   "cell_type": "code",
   "execution_count": 15,
   "metadata": {
    "colab": {
     "base_uri": "https://localhost:8080/",
     "height": 34
    },
    "colab_type": "code",
    "id": "7efPk2uuPM47",
    "outputId": "b3092ec6-6e1f-4026-c8bb-3f9a8b012451"
   },
   "outputs": [
    {
     "data": {
      "text/plain": [
       "(24429, 300)"
      ]
     },
     "execution_count": 15,
     "metadata": {
      "tags": []
     },
     "output_type": "execute_result"
    }
   ],
   "source": [
    "(df_matrix.shape)"
   ]
  },
  {
   "cell_type": "code",
   "execution_count": 16,
   "metadata": {
    "colab": {
     "base_uri": "https://localhost:8080/",
     "height": 301
    },
    "colab_type": "code",
    "id": "Kk2VgqtoPM4-",
    "outputId": "9aed7d09-3fd1-47ce-d27b-8af0a7a370ae"
   },
   "outputs": [
    {
     "name": "stdout",
     "output_type": "stream",
     "text": [
      "(24429, 300)\n"
     ]
    },
    {
     "data": {
      "text/html": [
       "<div>\n",
       "<style scoped>\n",
       "    .dataframe tbody tr th:only-of-type {\n",
       "        vertical-align: middle;\n",
       "    }\n",
       "\n",
       "    .dataframe tbody tr th {\n",
       "        vertical-align: top;\n",
       "    }\n",
       "\n",
       "    .dataframe thead th {\n",
       "        text-align: right;\n",
       "    }\n",
       "</style>\n",
       "<table border=\"1\" class=\"dataframe\">\n",
       "  <thead>\n",
       "    <tr style=\"text-align: right;\">\n",
       "      <th>productId</th>\n",
       "      <th>0</th>\n",
       "      <th>1</th>\n",
       "      <th>2</th>\n",
       "      <th>3</th>\n",
       "      <th>4</th>\n",
       "      <th>5</th>\n",
       "      <th>6</th>\n",
       "      <th>7</th>\n",
       "      <th>8</th>\n",
       "      <th>9</th>\n",
       "      <th>10</th>\n",
       "      <th>11</th>\n",
       "      <th>12</th>\n",
       "      <th>13</th>\n",
       "      <th>14</th>\n",
       "      <th>15</th>\n",
       "      <th>16</th>\n",
       "      <th>17</th>\n",
       "      <th>18</th>\n",
       "      <th>19</th>\n",
       "      <th>20</th>\n",
       "      <th>21</th>\n",
       "      <th>22</th>\n",
       "      <th>23</th>\n",
       "      <th>24</th>\n",
       "      <th>25</th>\n",
       "      <th>26</th>\n",
       "      <th>27</th>\n",
       "      <th>28</th>\n",
       "      <th>29</th>\n",
       "      <th>30</th>\n",
       "      <th>31</th>\n",
       "      <th>32</th>\n",
       "      <th>33</th>\n",
       "      <th>34</th>\n",
       "      <th>35</th>\n",
       "      <th>36</th>\n",
       "      <th>37</th>\n",
       "      <th>38</th>\n",
       "      <th>39</th>\n",
       "      <th>...</th>\n",
       "      <th>260</th>\n",
       "      <th>261</th>\n",
       "      <th>262</th>\n",
       "      <th>263</th>\n",
       "      <th>264</th>\n",
       "      <th>265</th>\n",
       "      <th>266</th>\n",
       "      <th>267</th>\n",
       "      <th>268</th>\n",
       "      <th>269</th>\n",
       "      <th>270</th>\n",
       "      <th>271</th>\n",
       "      <th>272</th>\n",
       "      <th>273</th>\n",
       "      <th>274</th>\n",
       "      <th>275</th>\n",
       "      <th>276</th>\n",
       "      <th>277</th>\n",
       "      <th>278</th>\n",
       "      <th>279</th>\n",
       "      <th>280</th>\n",
       "      <th>281</th>\n",
       "      <th>282</th>\n",
       "      <th>283</th>\n",
       "      <th>284</th>\n",
       "      <th>285</th>\n",
       "      <th>286</th>\n",
       "      <th>287</th>\n",
       "      <th>288</th>\n",
       "      <th>289</th>\n",
       "      <th>290</th>\n",
       "      <th>291</th>\n",
       "      <th>292</th>\n",
       "      <th>293</th>\n",
       "      <th>294</th>\n",
       "      <th>295</th>\n",
       "      <th>296</th>\n",
       "      <th>297</th>\n",
       "      <th>298</th>\n",
       "      <th>299</th>\n",
       "    </tr>\n",
       "    <tr>\n",
       "      <th>customerId</th>\n",
       "      <th></th>\n",
       "      <th></th>\n",
       "      <th></th>\n",
       "      <th></th>\n",
       "      <th></th>\n",
       "      <th></th>\n",
       "      <th></th>\n",
       "      <th></th>\n",
       "      <th></th>\n",
       "      <th></th>\n",
       "      <th></th>\n",
       "      <th></th>\n",
       "      <th></th>\n",
       "      <th></th>\n",
       "      <th></th>\n",
       "      <th></th>\n",
       "      <th></th>\n",
       "      <th></th>\n",
       "      <th></th>\n",
       "      <th></th>\n",
       "      <th></th>\n",
       "      <th></th>\n",
       "      <th></th>\n",
       "      <th></th>\n",
       "      <th></th>\n",
       "      <th></th>\n",
       "      <th></th>\n",
       "      <th></th>\n",
       "      <th></th>\n",
       "      <th></th>\n",
       "      <th></th>\n",
       "      <th></th>\n",
       "      <th></th>\n",
       "      <th></th>\n",
       "      <th></th>\n",
       "      <th></th>\n",
       "      <th></th>\n",
       "      <th></th>\n",
       "      <th></th>\n",
       "      <th></th>\n",
       "      <th></th>\n",
       "      <th></th>\n",
       "      <th></th>\n",
       "      <th></th>\n",
       "      <th></th>\n",
       "      <th></th>\n",
       "      <th></th>\n",
       "      <th></th>\n",
       "      <th></th>\n",
       "      <th></th>\n",
       "      <th></th>\n",
       "      <th></th>\n",
       "      <th></th>\n",
       "      <th></th>\n",
       "      <th></th>\n",
       "      <th></th>\n",
       "      <th></th>\n",
       "      <th></th>\n",
       "      <th></th>\n",
       "      <th></th>\n",
       "      <th></th>\n",
       "      <th></th>\n",
       "      <th></th>\n",
       "      <th></th>\n",
       "      <th></th>\n",
       "      <th></th>\n",
       "      <th></th>\n",
       "      <th></th>\n",
       "      <th></th>\n",
       "      <th></th>\n",
       "      <th></th>\n",
       "      <th></th>\n",
       "      <th></th>\n",
       "      <th></th>\n",
       "      <th></th>\n",
       "      <th></th>\n",
       "      <th></th>\n",
       "      <th></th>\n",
       "      <th></th>\n",
       "      <th></th>\n",
       "      <th></th>\n",
       "    </tr>\n",
       "  </thead>\n",
       "  <tbody>\n",
       "    <tr>\n",
       "      <th>0</th>\n",
       "      <td>NaN</td>\n",
       "      <td>0.1</td>\n",
       "      <td>NaN</td>\n",
       "      <td>NaN</td>\n",
       "      <td>NaN</td>\n",
       "      <td>NaN</td>\n",
       "      <td>NaN</td>\n",
       "      <td>NaN</td>\n",
       "      <td>NaN</td>\n",
       "      <td>NaN</td>\n",
       "      <td>NaN</td>\n",
       "      <td>NaN</td>\n",
       "      <td>NaN</td>\n",
       "      <td>0.0</td>\n",
       "      <td>NaN</td>\n",
       "      <td>NaN</td>\n",
       "      <td>NaN</td>\n",
       "      <td>NaN</td>\n",
       "      <td>NaN</td>\n",
       "      <td>0.142857</td>\n",
       "      <td>0.0</td>\n",
       "      <td>NaN</td>\n",
       "      <td>NaN</td>\n",
       "      <td>NaN</td>\n",
       "      <td>NaN</td>\n",
       "      <td>NaN</td>\n",
       "      <td>NaN</td>\n",
       "      <td>NaN</td>\n",
       "      <td>NaN</td>\n",
       "      <td>NaN</td>\n",
       "      <td>NaN</td>\n",
       "      <td>0.2</td>\n",
       "      <td>NaN</td>\n",
       "      <td>NaN</td>\n",
       "      <td>NaN</td>\n",
       "      <td>NaN</td>\n",
       "      <td>NaN</td>\n",
       "      <td>NaN</td>\n",
       "      <td>NaN</td>\n",
       "      <td>NaN</td>\n",
       "      <td>...</td>\n",
       "      <td>0.571429</td>\n",
       "      <td>NaN</td>\n",
       "      <td>NaN</td>\n",
       "      <td>NaN</td>\n",
       "      <td>NaN</td>\n",
       "      <td>NaN</td>\n",
       "      <td>NaN</td>\n",
       "      <td>NaN</td>\n",
       "      <td>NaN</td>\n",
       "      <td>NaN</td>\n",
       "      <td>NaN</td>\n",
       "      <td>NaN</td>\n",
       "      <td>NaN</td>\n",
       "      <td>NaN</td>\n",
       "      <td>NaN</td>\n",
       "      <td>NaN</td>\n",
       "      <td>NaN</td>\n",
       "      <td>NaN</td>\n",
       "      <td>NaN</td>\n",
       "      <td>NaN</td>\n",
       "      <td>NaN</td>\n",
       "      <td>NaN</td>\n",
       "      <td>NaN</td>\n",
       "      <td>NaN</td>\n",
       "      <td>NaN</td>\n",
       "      <td>NaN</td>\n",
       "      <td>NaN</td>\n",
       "      <td>NaN</td>\n",
       "      <td>NaN</td>\n",
       "      <td>NaN</td>\n",
       "      <td>NaN</td>\n",
       "      <td>NaN</td>\n",
       "      <td>NaN</td>\n",
       "      <td>NaN</td>\n",
       "      <td>NaN</td>\n",
       "      <td>NaN</td>\n",
       "      <td>NaN</td>\n",
       "      <td>NaN</td>\n",
       "      <td>NaN</td>\n",
       "      <td>NaN</td>\n",
       "    </tr>\n",
       "    <tr>\n",
       "      <th>1</th>\n",
       "      <td>NaN</td>\n",
       "      <td>NaN</td>\n",
       "      <td>0.166667</td>\n",
       "      <td>NaN</td>\n",
       "      <td>NaN</td>\n",
       "      <td>NaN</td>\n",
       "      <td>NaN</td>\n",
       "      <td>NaN</td>\n",
       "      <td>NaN</td>\n",
       "      <td>NaN</td>\n",
       "      <td>NaN</td>\n",
       "      <td>NaN</td>\n",
       "      <td>NaN</td>\n",
       "      <td>NaN</td>\n",
       "      <td>NaN</td>\n",
       "      <td>NaN</td>\n",
       "      <td>NaN</td>\n",
       "      <td>NaN</td>\n",
       "      <td>NaN</td>\n",
       "      <td>NaN</td>\n",
       "      <td>NaN</td>\n",
       "      <td>NaN</td>\n",
       "      <td>NaN</td>\n",
       "      <td>0.0</td>\n",
       "      <td>NaN</td>\n",
       "      <td>0.0</td>\n",
       "      <td>NaN</td>\n",
       "      <td>NaN</td>\n",
       "      <td>NaN</td>\n",
       "      <td>0.0</td>\n",
       "      <td>NaN</td>\n",
       "      <td>NaN</td>\n",
       "      <td>NaN</td>\n",
       "      <td>NaN</td>\n",
       "      <td>NaN</td>\n",
       "      <td>NaN</td>\n",
       "      <td>NaN</td>\n",
       "      <td>NaN</td>\n",
       "      <td>NaN</td>\n",
       "      <td>NaN</td>\n",
       "      <td>...</td>\n",
       "      <td>NaN</td>\n",
       "      <td>NaN</td>\n",
       "      <td>NaN</td>\n",
       "      <td>NaN</td>\n",
       "      <td>NaN</td>\n",
       "      <td>NaN</td>\n",
       "      <td>NaN</td>\n",
       "      <td>NaN</td>\n",
       "      <td>NaN</td>\n",
       "      <td>NaN</td>\n",
       "      <td>NaN</td>\n",
       "      <td>NaN</td>\n",
       "      <td>NaN</td>\n",
       "      <td>NaN</td>\n",
       "      <td>0.0</td>\n",
       "      <td>NaN</td>\n",
       "      <td>NaN</td>\n",
       "      <td>NaN</td>\n",
       "      <td>NaN</td>\n",
       "      <td>NaN</td>\n",
       "      <td>NaN</td>\n",
       "      <td>NaN</td>\n",
       "      <td>NaN</td>\n",
       "      <td>NaN</td>\n",
       "      <td>NaN</td>\n",
       "      <td>0.0</td>\n",
       "      <td>NaN</td>\n",
       "      <td>NaN</td>\n",
       "      <td>NaN</td>\n",
       "      <td>NaN</td>\n",
       "      <td>NaN</td>\n",
       "      <td>NaN</td>\n",
       "      <td>NaN</td>\n",
       "      <td>0.0</td>\n",
       "      <td>NaN</td>\n",
       "      <td>NaN</td>\n",
       "      <td>0.0</td>\n",
       "      <td>NaN</td>\n",
       "      <td>NaN</td>\n",
       "      <td>NaN</td>\n",
       "    </tr>\n",
       "    <tr>\n",
       "      <th>2</th>\n",
       "      <td>NaN</td>\n",
       "      <td>NaN</td>\n",
       "      <td>NaN</td>\n",
       "      <td>NaN</td>\n",
       "      <td>NaN</td>\n",
       "      <td>NaN</td>\n",
       "      <td>NaN</td>\n",
       "      <td>NaN</td>\n",
       "      <td>NaN</td>\n",
       "      <td>NaN</td>\n",
       "      <td>NaN</td>\n",
       "      <td>0.1</td>\n",
       "      <td>NaN</td>\n",
       "      <td>NaN</td>\n",
       "      <td>NaN</td>\n",
       "      <td>NaN</td>\n",
       "      <td>NaN</td>\n",
       "      <td>NaN</td>\n",
       "      <td>NaN</td>\n",
       "      <td>NaN</td>\n",
       "      <td>NaN</td>\n",
       "      <td>NaN</td>\n",
       "      <td>NaN</td>\n",
       "      <td>0.0</td>\n",
       "      <td>NaN</td>\n",
       "      <td>NaN</td>\n",
       "      <td>NaN</td>\n",
       "      <td>NaN</td>\n",
       "      <td>NaN</td>\n",
       "      <td>0.0</td>\n",
       "      <td>NaN</td>\n",
       "      <td>NaN</td>\n",
       "      <td>NaN</td>\n",
       "      <td>0.0</td>\n",
       "      <td>NaN</td>\n",
       "      <td>NaN</td>\n",
       "      <td>NaN</td>\n",
       "      <td>NaN</td>\n",
       "      <td>NaN</td>\n",
       "      <td>NaN</td>\n",
       "      <td>...</td>\n",
       "      <td>NaN</td>\n",
       "      <td>NaN</td>\n",
       "      <td>NaN</td>\n",
       "      <td>NaN</td>\n",
       "      <td>NaN</td>\n",
       "      <td>NaN</td>\n",
       "      <td>NaN</td>\n",
       "      <td>NaN</td>\n",
       "      <td>NaN</td>\n",
       "      <td>NaN</td>\n",
       "      <td>NaN</td>\n",
       "      <td>NaN</td>\n",
       "      <td>NaN</td>\n",
       "      <td>NaN</td>\n",
       "      <td>NaN</td>\n",
       "      <td>NaN</td>\n",
       "      <td>NaN</td>\n",
       "      <td>NaN</td>\n",
       "      <td>NaN</td>\n",
       "      <td>NaN</td>\n",
       "      <td>NaN</td>\n",
       "      <td>NaN</td>\n",
       "      <td>NaN</td>\n",
       "      <td>NaN</td>\n",
       "      <td>NaN</td>\n",
       "      <td>NaN</td>\n",
       "      <td>NaN</td>\n",
       "      <td>NaN</td>\n",
       "      <td>NaN</td>\n",
       "      <td>NaN</td>\n",
       "      <td>NaN</td>\n",
       "      <td>NaN</td>\n",
       "      <td>NaN</td>\n",
       "      <td>NaN</td>\n",
       "      <td>NaN</td>\n",
       "      <td>NaN</td>\n",
       "      <td>NaN</td>\n",
       "      <td>NaN</td>\n",
       "      <td>NaN</td>\n",
       "      <td>NaN</td>\n",
       "    </tr>\n",
       "    <tr>\n",
       "      <th>3</th>\n",
       "      <td>NaN</td>\n",
       "      <td>NaN</td>\n",
       "      <td>NaN</td>\n",
       "      <td>NaN</td>\n",
       "      <td>NaN</td>\n",
       "      <td>NaN</td>\n",
       "      <td>NaN</td>\n",
       "      <td>NaN</td>\n",
       "      <td>NaN</td>\n",
       "      <td>NaN</td>\n",
       "      <td>NaN</td>\n",
       "      <td>NaN</td>\n",
       "      <td>NaN</td>\n",
       "      <td>NaN</td>\n",
       "      <td>NaN</td>\n",
       "      <td>NaN</td>\n",
       "      <td>NaN</td>\n",
       "      <td>NaN</td>\n",
       "      <td>NaN</td>\n",
       "      <td>NaN</td>\n",
       "      <td>NaN</td>\n",
       "      <td>NaN</td>\n",
       "      <td>NaN</td>\n",
       "      <td>NaN</td>\n",
       "      <td>NaN</td>\n",
       "      <td>0.0</td>\n",
       "      <td>NaN</td>\n",
       "      <td>NaN</td>\n",
       "      <td>NaN</td>\n",
       "      <td>NaN</td>\n",
       "      <td>NaN</td>\n",
       "      <td>NaN</td>\n",
       "      <td>NaN</td>\n",
       "      <td>NaN</td>\n",
       "      <td>NaN</td>\n",
       "      <td>NaN</td>\n",
       "      <td>NaN</td>\n",
       "      <td>NaN</td>\n",
       "      <td>NaN</td>\n",
       "      <td>NaN</td>\n",
       "      <td>...</td>\n",
       "      <td>NaN</td>\n",
       "      <td>NaN</td>\n",
       "      <td>NaN</td>\n",
       "      <td>NaN</td>\n",
       "      <td>NaN</td>\n",
       "      <td>NaN</td>\n",
       "      <td>NaN</td>\n",
       "      <td>NaN</td>\n",
       "      <td>NaN</td>\n",
       "      <td>NaN</td>\n",
       "      <td>NaN</td>\n",
       "      <td>NaN</td>\n",
       "      <td>NaN</td>\n",
       "      <td>NaN</td>\n",
       "      <td>NaN</td>\n",
       "      <td>NaN</td>\n",
       "      <td>NaN</td>\n",
       "      <td>NaN</td>\n",
       "      <td>NaN</td>\n",
       "      <td>NaN</td>\n",
       "      <td>NaN</td>\n",
       "      <td>NaN</td>\n",
       "      <td>NaN</td>\n",
       "      <td>NaN</td>\n",
       "      <td>NaN</td>\n",
       "      <td>NaN</td>\n",
       "      <td>NaN</td>\n",
       "      <td>NaN</td>\n",
       "      <td>NaN</td>\n",
       "      <td>NaN</td>\n",
       "      <td>NaN</td>\n",
       "      <td>NaN</td>\n",
       "      <td>NaN</td>\n",
       "      <td>NaN</td>\n",
       "      <td>NaN</td>\n",
       "      <td>NaN</td>\n",
       "      <td>NaN</td>\n",
       "      <td>NaN</td>\n",
       "      <td>NaN</td>\n",
       "      <td>NaN</td>\n",
       "    </tr>\n",
       "    <tr>\n",
       "      <th>4</th>\n",
       "      <td>NaN</td>\n",
       "      <td>NaN</td>\n",
       "      <td>NaN</td>\n",
       "      <td>NaN</td>\n",
       "      <td>NaN</td>\n",
       "      <td>NaN</td>\n",
       "      <td>NaN</td>\n",
       "      <td>NaN</td>\n",
       "      <td>NaN</td>\n",
       "      <td>NaN</td>\n",
       "      <td>NaN</td>\n",
       "      <td>NaN</td>\n",
       "      <td>NaN</td>\n",
       "      <td>NaN</td>\n",
       "      <td>NaN</td>\n",
       "      <td>0.022222</td>\n",
       "      <td>NaN</td>\n",
       "      <td>NaN</td>\n",
       "      <td>NaN</td>\n",
       "      <td>NaN</td>\n",
       "      <td>NaN</td>\n",
       "      <td>NaN</td>\n",
       "      <td>NaN</td>\n",
       "      <td>NaN</td>\n",
       "      <td>NaN</td>\n",
       "      <td>NaN</td>\n",
       "      <td>NaN</td>\n",
       "      <td>NaN</td>\n",
       "      <td>NaN</td>\n",
       "      <td>NaN</td>\n",
       "      <td>NaN</td>\n",
       "      <td>NaN</td>\n",
       "      <td>NaN</td>\n",
       "      <td>NaN</td>\n",
       "      <td>NaN</td>\n",
       "      <td>NaN</td>\n",
       "      <td>NaN</td>\n",
       "      <td>NaN</td>\n",
       "      <td>NaN</td>\n",
       "      <td>NaN</td>\n",
       "      <td>...</td>\n",
       "      <td>NaN</td>\n",
       "      <td>NaN</td>\n",
       "      <td>NaN</td>\n",
       "      <td>NaN</td>\n",
       "      <td>NaN</td>\n",
       "      <td>NaN</td>\n",
       "      <td>NaN</td>\n",
       "      <td>NaN</td>\n",
       "      <td>NaN</td>\n",
       "      <td>NaN</td>\n",
       "      <td>0.0</td>\n",
       "      <td>NaN</td>\n",
       "      <td>NaN</td>\n",
       "      <td>NaN</td>\n",
       "      <td>NaN</td>\n",
       "      <td>NaN</td>\n",
       "      <td>NaN</td>\n",
       "      <td>NaN</td>\n",
       "      <td>NaN</td>\n",
       "      <td>NaN</td>\n",
       "      <td>NaN</td>\n",
       "      <td>NaN</td>\n",
       "      <td>NaN</td>\n",
       "      <td>NaN</td>\n",
       "      <td>NaN</td>\n",
       "      <td>NaN</td>\n",
       "      <td>NaN</td>\n",
       "      <td>NaN</td>\n",
       "      <td>NaN</td>\n",
       "      <td>0.0</td>\n",
       "      <td>NaN</td>\n",
       "      <td>NaN</td>\n",
       "      <td>NaN</td>\n",
       "      <td>NaN</td>\n",
       "      <td>NaN</td>\n",
       "      <td>NaN</td>\n",
       "      <td>NaN</td>\n",
       "      <td>NaN</td>\n",
       "      <td>NaN</td>\n",
       "      <td>NaN</td>\n",
       "    </tr>\n",
       "  </tbody>\n",
       "</table>\n",
       "<p>5 rows × 300 columns</p>\n",
       "</div>"
      ],
      "text/plain": [
       "productId   0    1         2    3    4    5    ...  294  295  296  297  298  299\n",
       "customerId                                     ...                              \n",
       "0           NaN  0.1       NaN  NaN  NaN  NaN  ...  NaN  NaN  NaN  NaN  NaN  NaN\n",
       "1           NaN  NaN  0.166667  NaN  NaN  NaN  ...  NaN  NaN  0.0  NaN  NaN  NaN\n",
       "2           NaN  NaN       NaN  NaN  NaN  NaN  ...  NaN  NaN  NaN  NaN  NaN  NaN\n",
       "3           NaN  NaN       NaN  NaN  NaN  NaN  ...  NaN  NaN  NaN  NaN  NaN  NaN\n",
       "4           NaN  NaN       NaN  NaN  NaN  NaN  ...  NaN  NaN  NaN  NaN  NaN  NaN\n",
       "\n",
       "[5 rows x 300 columns]"
      ]
     },
     "execution_count": 16,
     "metadata": {
      "tags": []
     },
     "output_type": "execute_result"
    }
   ],
   "source": [
    "df_matrix_norm = (df_matrix-df_matrix.min())/(df_matrix.max()-df_matrix.min())\n",
    "print(df_matrix_norm.shape)\n",
    "df_matrix_norm.head()"
   ]
  },
  {
   "cell_type": "code",
   "execution_count": 17,
   "metadata": {
    "colab": {
     "base_uri": "https://localhost:8080/",
     "height": 221
    },
    "colab_type": "code",
    "id": "QBwD2rHFPM5B",
    "outputId": "525397df-073a-4577-e0a5-53613acf9733"
   },
   "outputs": [
    {
     "name": "stdout",
     "output_type": "stream",
     "text": [
      "(133585, 3)\n"
     ]
    },
    {
     "data": {
      "text/html": [
       "<div>\n",
       "<style scoped>\n",
       "    .dataframe tbody tr th:only-of-type {\n",
       "        vertical-align: middle;\n",
       "    }\n",
       "\n",
       "    .dataframe tbody tr th {\n",
       "        vertical-align: top;\n",
       "    }\n",
       "\n",
       "    .dataframe thead th {\n",
       "        text-align: right;\n",
       "    }\n",
       "</style>\n",
       "<table border=\"1\" class=\"dataframe\">\n",
       "  <thead>\n",
       "    <tr style=\"text-align: right;\">\n",
       "      <th></th>\n",
       "      <th>customerId</th>\n",
       "      <th>productId</th>\n",
       "      <th>scaled_purchase_freq</th>\n",
       "    </tr>\n",
       "  </thead>\n",
       "  <tbody>\n",
       "    <tr>\n",
       "      <th>9</th>\n",
       "      <td>9</td>\n",
       "      <td>0</td>\n",
       "      <td>0.133333</td>\n",
       "    </tr>\n",
       "    <tr>\n",
       "      <th>25</th>\n",
       "      <td>25</td>\n",
       "      <td>0</td>\n",
       "      <td>0.133333</td>\n",
       "    </tr>\n",
       "    <tr>\n",
       "      <th>32</th>\n",
       "      <td>33</td>\n",
       "      <td>0</td>\n",
       "      <td>0.133333</td>\n",
       "    </tr>\n",
       "    <tr>\n",
       "      <th>35</th>\n",
       "      <td>36</td>\n",
       "      <td>0</td>\n",
       "      <td>0.133333</td>\n",
       "    </tr>\n",
       "    <tr>\n",
       "      <th>43</th>\n",
       "      <td>44</td>\n",
       "      <td>0</td>\n",
       "      <td>0.133333</td>\n",
       "    </tr>\n",
       "  </tbody>\n",
       "</table>\n",
       "</div>"
      ],
      "text/plain": [
       "    customerId productId  scaled_purchase_freq\n",
       "9            9         0              0.133333\n",
       "25          25         0              0.133333\n",
       "32          33         0              0.133333\n",
       "35          36         0              0.133333\n",
       "43          44         0              0.133333"
      ]
     },
     "execution_count": 17,
     "metadata": {
      "tags": []
     },
     "output_type": "execute_result"
    }
   ],
   "source": [
    "# create a table for input to the modeling\n",
    "\n",
    "d = df_matrix_norm.reset_index()\n",
    "d.index.names = ['scaled_purchase_freq']\n",
    "data_norm = pd.melt(d, id_vars=['customerId'], value_name='scaled_purchase_freq').dropna()\n",
    "print(data_norm.shape)\n",
    "data_norm.head()"
   ]
  },
  {
   "cell_type": "markdown",
   "metadata": {
    "colab_type": "text",
    "id": "7dkXQA38PM5E"
   },
   "source": [
    "#### Define a function for normalizing data"
   ]
  },
  {
   "cell_type": "code",
   "execution_count": null,
   "metadata": {
    "colab": {},
    "colab_type": "code",
    "id": "P_vqIgBwPM5F"
   },
   "outputs": [],
   "source": [
    "def normalize_data(data):\n",
    "    df_matrix = pd.pivot_table(data, values='purchase_count', index='customerId', columns='productId')\n",
    "    df_matrix_norm = (df_matrix-df_matrix.min())/(df_matrix.max()-df_matrix.min())\n",
    "    d = df_matrix_norm.reset_index()\n",
    "    d.index.names = ['scaled_purchase_freq']\n",
    "    return pd.melt(d, id_vars=['customerId'], value_name='scaled_purchase_freq').dropna()"
   ]
  },
  {
   "cell_type": "markdown",
   "metadata": {
    "colab_type": "text",
    "id": "8hK-2uqlPM5H"
   },
   "source": [
    "* We can normalize the their purchase history, from 0-1 (with 1 being the most number of purchase for an item and 0 being 0 purchase count for that item)."
   ]
  },
  {
   "cell_type": "markdown",
   "metadata": {
    "colab_type": "text",
    "id": "Lg52WhZQPM5I"
   },
   "source": [
    "## 4. Split train and test set\n",
    "* Splitting the data into training and testing sets is an important part of evaluating predictive modeling, in this case a collaborative filtering model. Typically, we use a larger portion of the data for training and a smaller portion for testing. \n",
    "* We use 80:20 ratio for our train-test set size.\n",
    "* Our training portion will be used to develop a predictive model, while the other to evaluate the model's performance.\n",
    "* Now that we have three datasets with purchase counts, purchase dummy, and scaled purchase counts, we would like to split each."
   ]
  },
  {
   "cell_type": "code",
   "execution_count": 19,
   "metadata": {
    "colab": {
     "base_uri": "https://localhost:8080/",
     "height": 34
    },
    "colab_type": "code",
    "id": "LKk3LSwePM5K",
    "outputId": "dffb8e87-395a-4959-bf74-3dd238364e48"
   },
   "outputs": [
    {
     "name": "stdout",
     "output_type": "stream",
     "text": [
      "(106868, 3) (26717, 3)\n"
     ]
    }
   ],
   "source": [
    "train, test = train_test_split(data, test_size = .2)\n",
    "print(train.shape, test.shape)"
   ]
  },
  {
   "cell_type": "code",
   "execution_count": null,
   "metadata": {
    "colab": {},
    "colab_type": "code",
    "id": "8kVC9ZkePM5N"
   },
   "outputs": [],
   "source": [
    "# Using turicreate library, we convert dataframe to SFrame - this will be useful in the modeling part\n",
    "\n",
    "train_data = tc.SFrame(train)\n",
    "test_data = tc.SFrame(test)"
   ]
  },
  {
   "cell_type": "code",
   "execution_count": 21,
   "metadata": {
    "colab": {
     "base_uri": "https://localhost:8080/",
     "height": 279
    },
    "colab_type": "code",
    "id": "0xWnJCwqPM5S",
    "outputId": "2e74d04e-f96d-4ab7-bd09-28ed973a35bf"
   },
   "outputs": [
    {
     "data": {
      "text/html": [
       "<div style=\"max-height:1000px;max-width:1500px;overflow:auto;\"><table frame=\"box\" rules=\"cols\">\n",
       "    <tr>\n",
       "        <th style=\"padding-left: 1em; padding-right: 1em; text-align: center\">customerId</th>\n",
       "        <th style=\"padding-left: 1em; padding-right: 1em; text-align: center\">productId</th>\n",
       "        <th style=\"padding-left: 1em; padding-right: 1em; text-align: center\">purchase_count</th>\n",
       "    </tr>\n",
       "    <tr>\n",
       "        <td style=\"padding-left: 1em; padding-right: 1em; text-align: center; vertical-align: top\">843</td>\n",
       "        <td style=\"padding-left: 1em; padding-right: 1em; text-align: center; vertical-align: top\">140</td>\n",
       "        <td style=\"padding-left: 1em; padding-right: 1em; text-align: center; vertical-align: top\">1</td>\n",
       "    </tr>\n",
       "    <tr>\n",
       "        <td style=\"padding-left: 1em; padding-right: 1em; text-align: center; vertical-align: top\">28348</td>\n",
       "        <td style=\"padding-left: 1em; padding-right: 1em; text-align: center; vertical-align: top\">108</td>\n",
       "        <td style=\"padding-left: 1em; padding-right: 1em; text-align: center; vertical-align: top\">1</td>\n",
       "    </tr>\n",
       "    <tr>\n",
       "        <td style=\"padding-left: 1em; padding-right: 1em; text-align: center; vertical-align: top\">26980</td>\n",
       "        <td style=\"padding-left: 1em; padding-right: 1em; text-align: center; vertical-align: top\">87</td>\n",
       "        <td style=\"padding-left: 1em; padding-right: 1em; text-align: center; vertical-align: top\">3</td>\n",
       "    </tr>\n",
       "    <tr>\n",
       "        <td style=\"padding-left: 1em; padding-right: 1em; text-align: center; vertical-align: top\">466</td>\n",
       "        <td style=\"padding-left: 1em; padding-right: 1em; text-align: center; vertical-align: top\">162</td>\n",
       "        <td style=\"padding-left: 1em; padding-right: 1em; text-align: center; vertical-align: top\">1</td>\n",
       "    </tr>\n",
       "    <tr>\n",
       "        <td style=\"padding-left: 1em; padding-right: 1em; text-align: center; vertical-align: top\">15286</td>\n",
       "        <td style=\"padding-left: 1em; padding-right: 1em; text-align: center; vertical-align: top\">15</td>\n",
       "        <td style=\"padding-left: 1em; padding-right: 1em; text-align: center; vertical-align: top\">2</td>\n",
       "    </tr>\n",
       "    <tr>\n",
       "        <td style=\"padding-left: 1em; padding-right: 1em; text-align: center; vertical-align: top\">8599</td>\n",
       "        <td style=\"padding-left: 1em; padding-right: 1em; text-align: center; vertical-align: top\">2</td>\n",
       "        <td style=\"padding-left: 1em; padding-right: 1em; text-align: center; vertical-align: top\">2</td>\n",
       "    </tr>\n",
       "    <tr>\n",
       "        <td style=\"padding-left: 1em; padding-right: 1em; text-align: center; vertical-align: top\">7519</td>\n",
       "        <td style=\"padding-left: 1em; padding-right: 1em; text-align: center; vertical-align: top\">2</td>\n",
       "        <td style=\"padding-left: 1em; padding-right: 1em; text-align: center; vertical-align: top\">2</td>\n",
       "    </tr>\n",
       "    <tr>\n",
       "        <td style=\"padding-left: 1em; padding-right: 1em; text-align: center; vertical-align: top\">24574</td>\n",
       "        <td style=\"padding-left: 1em; padding-right: 1em; text-align: center; vertical-align: top\">87</td>\n",
       "        <td style=\"padding-left: 1em; padding-right: 1em; text-align: center; vertical-align: top\">1</td>\n",
       "    </tr>\n",
       "    <tr>\n",
       "        <td style=\"padding-left: 1em; padding-right: 1em; text-align: center; vertical-align: top\">3961</td>\n",
       "        <td style=\"padding-left: 1em; padding-right: 1em; text-align: center; vertical-align: top\">82</td>\n",
       "        <td style=\"padding-left: 1em; padding-right: 1em; text-align: center; vertical-align: top\">1</td>\n",
       "    </tr>\n",
       "    <tr>\n",
       "        <td style=\"padding-left: 1em; padding-right: 1em; text-align: center; vertical-align: top\">10954</td>\n",
       "        <td style=\"padding-left: 1em; padding-right: 1em; text-align: center; vertical-align: top\">171</td>\n",
       "        <td style=\"padding-left: 1em; padding-right: 1em; text-align: center; vertical-align: top\">1</td>\n",
       "    </tr>\n",
       "</table>\n",
       "[106868 rows x 3 columns]<br/>Note: Only the head of the SFrame is printed.<br/>You can use print_rows(num_rows=m, num_columns=n) to print more rows and columns.\n",
       "</div>"
      ],
      "text/plain": [
       "Columns:\n",
       "\tcustomerId\tint\n",
       "\tproductId\tint\n",
       "\tpurchase_count\tint\n",
       "\n",
       "Rows: 106868\n",
       "\n",
       "Data:\n",
       "+------------+-----------+----------------+\n",
       "| customerId | productId | purchase_count |\n",
       "+------------+-----------+----------------+\n",
       "|    843     |    140    |       1        |\n",
       "|   28348    |    108    |       1        |\n",
       "|   26980    |     87    |       3        |\n",
       "|    466     |    162    |       1        |\n",
       "|   15286    |     15    |       2        |\n",
       "|    8599    |     2     |       2        |\n",
       "|    7519    |     2     |       2        |\n",
       "|   24574    |     87    |       1        |\n",
       "|    3961    |     82    |       1        |\n",
       "|   10954    |    171    |       1        |\n",
       "+------------+-----------+----------------+\n",
       "[106868 rows x 3 columns]\n",
       "Note: Only the head of the SFrame is printed.\n",
       "You can use print_rows(num_rows=m, num_columns=n) to print more rows and columns."
      ]
     },
     "execution_count": 21,
     "metadata": {
      "tags": []
     },
     "output_type": "execute_result"
    }
   ],
   "source": [
    "train_data"
   ]
  },
  {
   "cell_type": "code",
   "execution_count": 22,
   "metadata": {
    "colab": {
     "base_uri": "https://localhost:8080/",
     "height": 279
    },
    "colab_type": "code",
    "id": "ko00J2qxPM5X",
    "outputId": "f9612dcb-8891-463c-f7bd-ca6c30a2ad61"
   },
   "outputs": [
    {
     "data": {
      "text/html": [
       "<div style=\"max-height:1000px;max-width:1500px;overflow:auto;\"><table frame=\"box\" rules=\"cols\">\n",
       "    <tr>\n",
       "        <th style=\"padding-left: 1em; padding-right: 1em; text-align: center\">customerId</th>\n",
       "        <th style=\"padding-left: 1em; padding-right: 1em; text-align: center\">productId</th>\n",
       "        <th style=\"padding-left: 1em; padding-right: 1em; text-align: center\">purchase_count</th>\n",
       "    </tr>\n",
       "    <tr>\n",
       "        <td style=\"padding-left: 1em; padding-right: 1em; text-align: center; vertical-align: top\">1750</td>\n",
       "        <td style=\"padding-left: 1em; padding-right: 1em; text-align: center; vertical-align: top\">146</td>\n",
       "        <td style=\"padding-left: 1em; padding-right: 1em; text-align: center; vertical-align: top\">2</td>\n",
       "    </tr>\n",
       "    <tr>\n",
       "        <td style=\"padding-left: 1em; padding-right: 1em; text-align: center; vertical-align: top\">2870</td>\n",
       "        <td style=\"padding-left: 1em; padding-right: 1em; text-align: center; vertical-align: top\">76</td>\n",
       "        <td style=\"padding-left: 1em; padding-right: 1em; text-align: center; vertical-align: top\">1</td>\n",
       "    </tr>\n",
       "    <tr>\n",
       "        <td style=\"padding-left: 1em; padding-right: 1em; text-align: center; vertical-align: top\">21091</td>\n",
       "        <td style=\"padding-left: 1em; padding-right: 1em; text-align: center; vertical-align: top\">4</td>\n",
       "        <td style=\"padding-left: 1em; padding-right: 1em; text-align: center; vertical-align: top\">2</td>\n",
       "    </tr>\n",
       "    <tr>\n",
       "        <td style=\"padding-left: 1em; padding-right: 1em; text-align: center; vertical-align: top\">9881</td>\n",
       "        <td style=\"padding-left: 1em; padding-right: 1em; text-align: center; vertical-align: top\">2</td>\n",
       "        <td style=\"padding-left: 1em; padding-right: 1em; text-align: center; vertical-align: top\">1</td>\n",
       "    </tr>\n",
       "    <tr>\n",
       "        <td style=\"padding-left: 1em; padding-right: 1em; text-align: center; vertical-align: top\">10807</td>\n",
       "        <td style=\"padding-left: 1em; padding-right: 1em; text-align: center; vertical-align: top\">189</td>\n",
       "        <td style=\"padding-left: 1em; padding-right: 1em; text-align: center; vertical-align: top\">1</td>\n",
       "    </tr>\n",
       "    <tr>\n",
       "        <td style=\"padding-left: 1em; padding-right: 1em; text-align: center; vertical-align: top\">8564</td>\n",
       "        <td style=\"padding-left: 1em; padding-right: 1em; text-align: center; vertical-align: top\">274</td>\n",
       "        <td style=\"padding-left: 1em; padding-right: 1em; text-align: center; vertical-align: top\">1</td>\n",
       "    </tr>\n",
       "    <tr>\n",
       "        <td style=\"padding-left: 1em; padding-right: 1em; text-align: center; vertical-align: top\">13417</td>\n",
       "        <td style=\"padding-left: 1em; padding-right: 1em; text-align: center; vertical-align: top\">1</td>\n",
       "        <td style=\"padding-left: 1em; padding-right: 1em; text-align: center; vertical-align: top\">2</td>\n",
       "    </tr>\n",
       "    <tr>\n",
       "        <td style=\"padding-left: 1em; padding-right: 1em; text-align: center; vertical-align: top\">25794</td>\n",
       "        <td style=\"padding-left: 1em; padding-right: 1em; text-align: center; vertical-align: top\">228</td>\n",
       "        <td style=\"padding-left: 1em; padding-right: 1em; text-align: center; vertical-align: top\">1</td>\n",
       "    </tr>\n",
       "    <tr>\n",
       "        <td style=\"padding-left: 1em; padding-right: 1em; text-align: center; vertical-align: top\">21384</td>\n",
       "        <td style=\"padding-left: 1em; padding-right: 1em; text-align: center; vertical-align: top\">228</td>\n",
       "        <td style=\"padding-left: 1em; padding-right: 1em; text-align: center; vertical-align: top\">2</td>\n",
       "    </tr>\n",
       "    <tr>\n",
       "        <td style=\"padding-left: 1em; padding-right: 1em; text-align: center; vertical-align: top\">15982</td>\n",
       "        <td style=\"padding-left: 1em; padding-right: 1em; text-align: center; vertical-align: top\">175</td>\n",
       "        <td style=\"padding-left: 1em; padding-right: 1em; text-align: center; vertical-align: top\">1</td>\n",
       "    </tr>\n",
       "</table>\n",
       "[26717 rows x 3 columns]<br/>Note: Only the head of the SFrame is printed.<br/>You can use print_rows(num_rows=m, num_columns=n) to print more rows and columns.\n",
       "</div>"
      ],
      "text/plain": [
       "Columns:\n",
       "\tcustomerId\tint\n",
       "\tproductId\tint\n",
       "\tpurchase_count\tint\n",
       "\n",
       "Rows: 26717\n",
       "\n",
       "Data:\n",
       "+------------+-----------+----------------+\n",
       "| customerId | productId | purchase_count |\n",
       "+------------+-----------+----------------+\n",
       "|    1750    |    146    |       2        |\n",
       "|    2870    |     76    |       1        |\n",
       "|   21091    |     4     |       2        |\n",
       "|    9881    |     2     |       1        |\n",
       "|   10807    |    189    |       1        |\n",
       "|    8564    |    274    |       1        |\n",
       "|   13417    |     1     |       2        |\n",
       "|   25794    |    228    |       1        |\n",
       "|   21384    |    228    |       2        |\n",
       "|   15982    |    175    |       1        |\n",
       "+------------+-----------+----------------+\n",
       "[26717 rows x 3 columns]\n",
       "Note: Only the head of the SFrame is printed.\n",
       "You can use print_rows(num_rows=m, num_columns=n) to print more rows and columns."
      ]
     },
     "execution_count": 22,
     "metadata": {
      "tags": []
     },
     "output_type": "execute_result"
    }
   ],
   "source": [
    "test_data"
   ]
  },
  {
   "cell_type": "markdown",
   "metadata": {
    "colab_type": "text",
    "id": "h0Uj4lj_PM5b"
   },
   "source": [
    "#### Define a `split_data` function for splitting data to training and test set"
   ]
  },
  {
   "cell_type": "code",
   "execution_count": null,
   "metadata": {
    "colab": {},
    "colab_type": "code",
    "id": "XAJVQQoSPM5b"
   },
   "outputs": [],
   "source": [
    "# We can define a function for this step as follows\n",
    "\n",
    "def split_data(data):\n",
    "    '''\n",
    "    Splits dataset into training and test set.\n",
    "    \n",
    "    Args:\n",
    "        data (pandas.DataFrame)\n",
    "        \n",
    "    Returns\n",
    "        train_data (tc.SFrame)\n",
    "        test_data (tc.SFrame)\n",
    "    '''\n",
    "    train, test = train_test_split(data, test_size = .2)\n",
    "    train_data = tc.SFrame(train)\n",
    "    test_data = tc.SFrame(test)\n",
    "    return train_data, test_data"
   ]
  },
  {
   "cell_type": "code",
   "execution_count": null,
   "metadata": {
    "colab": {},
    "colab_type": "code",
    "id": "TJ8zFhBxPM5d"
   },
   "outputs": [],
   "source": [
    "# lets try with both dummy table and scaled/normalized purchase table\n",
    "\n",
    "train_data_dummy, test_data_dummy = split_data(data_dummy)\n",
    "train_data_norm, test_data_norm = split_data(data_norm)"
   ]
  },
  {
   "cell_type": "markdown",
   "metadata": {
    "colab_type": "text",
    "id": "MrezZYcYPM5g"
   },
   "source": [
    "## 5. Baseline Model\n",
    "Before running a more complicated approach such as collaborative filtering, we would like to use a baseline model to compare and evaluate models. Since baseline typically uses a very simple approach, techniques used beyond this approach should be chosen if they show relatively better accuracy and complexity.\n",
    "\n",
    "### 5.1. Using a Popularity model as a baseline\n",
    "* The popularity model takes the most popular items for recommendation. These items are products with the highest number of sells across customers.\n",
    "* We use `turicreate` library for running and evaluating both baseline and collaborative filtering models below\n",
    "* Training data is used for model selection\n",
    "\n",
    "#### Using purchase counts"
   ]
  },
  {
   "cell_type": "code",
   "execution_count": null,
   "metadata": {
    "colab": {},
    "colab_type": "code",
    "id": "Gr5P-0HqPM5h"
   },
   "outputs": [],
   "source": [
    "# variables to define field names\n",
    "user_id = 'customerId'\n",
    "item_id = 'productId'\n",
    "target = 'purchase_count'\n",
    "users_to_recommend = list(transactions[user_id])\n",
    "n_rec = 10 # number of items to recommend\n",
    "n_display = 30"
   ]
  },
  {
   "cell_type": "code",
   "execution_count": 27,
   "metadata": {
    "colab": {
     "base_uri": "https://localhost:8080/",
     "height": 85
    },
    "colab_type": "code",
    "id": "WP4pfv-aPM5l",
    "outputId": "ad00cd58-f96d-4ddd-9b47-910987aa1da4"
   },
   "outputs": [
    {
     "data": {
      "text/html": [
       "<pre>Preparing data set.</pre>"
      ],
      "text/plain": [
       "Preparing data set."
      ]
     },
     "metadata": {
      "tags": []
     },
     "output_type": "display_data"
    },
    {
     "data": {
      "text/html": [
       "<pre>    Data has 106868 observations with 23382 users and 300 items.</pre>"
      ],
      "text/plain": [
       "    Data has 106868 observations with 23382 users and 300 items."
      ]
     },
     "metadata": {
      "tags": []
     },
     "output_type": "display_data"
    },
    {
     "data": {
      "text/html": [
       "<pre>    Data prepared in: 0.170297s</pre>"
      ],
      "text/plain": [
       "    Data prepared in: 0.170297s"
      ]
     },
     "metadata": {
      "tags": []
     },
     "output_type": "display_data"
    },
    {
     "data": {
      "text/html": [
       "<pre>106868 observations to process; with 300 unique items.</pre>"
      ],
      "text/plain": [
       "106868 observations to process; with 300 unique items."
      ]
     },
     "metadata": {
      "tags": []
     },
     "output_type": "display_data"
    }
   ],
   "source": [
    "popularity_model = tc.popularity_recommender.create(train_data, \n",
    "                                                    user_id=user_id, \n",
    "                                                    item_id=item_id, \n",
    "                                                    target=target)"
   ]
  },
  {
   "cell_type": "code",
   "execution_count": 28,
   "metadata": {
    "colab": {
     "base_uri": "https://localhost:8080/",
     "height": 1000
    },
    "colab_type": "code",
    "id": "nKwbp99YPM5o",
    "outputId": "86d8b257-ad63-4b3d-e705-0e7a918cddd0"
   },
   "outputs": [
    {
     "data": {
      "text/html": [
       "<pre>recommendations finished on 1000/62483 queries. users per second: 114508</pre>"
      ],
      "text/plain": [
       "recommendations finished on 1000/62483 queries. users per second: 114508"
      ]
     },
     "metadata": {
      "tags": []
     },
     "output_type": "display_data"
    },
    {
     "data": {
      "text/html": [
       "<pre>recommendations finished on 2000/62483 queries. users per second: 120664</pre>"
      ],
      "text/plain": [
       "recommendations finished on 2000/62483 queries. users per second: 120664"
      ]
     },
     "metadata": {
      "tags": []
     },
     "output_type": "display_data"
    },
    {
     "data": {
      "text/html": [
       "<pre>recommendations finished on 3000/62483 queries. users per second: 119412</pre>"
      ],
      "text/plain": [
       "recommendations finished on 3000/62483 queries. users per second: 119412"
      ]
     },
     "metadata": {
      "tags": []
     },
     "output_type": "display_data"
    },
    {
     "data": {
      "text/html": [
       "<pre>recommendations finished on 4000/62483 queries. users per second: 122380</pre>"
      ],
      "text/plain": [
       "recommendations finished on 4000/62483 queries. users per second: 122380"
      ]
     },
     "metadata": {
      "tags": []
     },
     "output_type": "display_data"
    },
    {
     "data": {
      "text/html": [
       "<pre>recommendations finished on 5000/62483 queries. users per second: 121681</pre>"
      ],
      "text/plain": [
       "recommendations finished on 5000/62483 queries. users per second: 121681"
      ]
     },
     "metadata": {
      "tags": []
     },
     "output_type": "display_data"
    },
    {
     "data": {
      "text/html": [
       "<pre>recommendations finished on 6000/62483 queries. users per second: 122961</pre>"
      ],
      "text/plain": [
       "recommendations finished on 6000/62483 queries. users per second: 122961"
      ]
     },
     "metadata": {
      "tags": []
     },
     "output_type": "display_data"
    },
    {
     "data": {
      "text/html": [
       "<pre>recommendations finished on 7000/62483 queries. users per second: 123598</pre>"
      ],
      "text/plain": [
       "recommendations finished on 7000/62483 queries. users per second: 123598"
      ]
     },
     "metadata": {
      "tags": []
     },
     "output_type": "display_data"
    },
    {
     "data": {
      "text/html": [
       "<pre>recommendations finished on 8000/62483 queries. users per second: 124089</pre>"
      ],
      "text/plain": [
       "recommendations finished on 8000/62483 queries. users per second: 124089"
      ]
     },
     "metadata": {
      "tags": []
     },
     "output_type": "display_data"
    },
    {
     "data": {
      "text/html": [
       "<pre>recommendations finished on 9000/62483 queries. users per second: 125320</pre>"
      ],
      "text/plain": [
       "recommendations finished on 9000/62483 queries. users per second: 125320"
      ]
     },
     "metadata": {
      "tags": []
     },
     "output_type": "display_data"
    },
    {
     "data": {
      "text/html": [
       "<pre>recommendations finished on 10000/62483 queries. users per second: 123092</pre>"
      ],
      "text/plain": [
       "recommendations finished on 10000/62483 queries. users per second: 123092"
      ]
     },
     "metadata": {
      "tags": []
     },
     "output_type": "display_data"
    },
    {
     "data": {
      "text/html": [
       "<pre>recommendations finished on 11000/62483 queries. users per second: 121766</pre>"
      ],
      "text/plain": [
       "recommendations finished on 11000/62483 queries. users per second: 121766"
      ]
     },
     "metadata": {
      "tags": []
     },
     "output_type": "display_data"
    },
    {
     "data": {
      "text/html": [
       "<pre>recommendations finished on 12000/62483 queries. users per second: 125172</pre>"
      ],
      "text/plain": [
       "recommendations finished on 12000/62483 queries. users per second: 125172"
      ]
     },
     "metadata": {
      "tags": []
     },
     "output_type": "display_data"
    },
    {
     "data": {
      "text/html": [
       "<pre>recommendations finished on 13000/62483 queries. users per second: 127632</pre>"
      ],
      "text/plain": [
       "recommendations finished on 13000/62483 queries. users per second: 127632"
      ]
     },
     "metadata": {
      "tags": []
     },
     "output_type": "display_data"
    },
    {
     "data": {
      "text/html": [
       "<pre>recommendations finished on 14000/62483 queries. users per second: 129821</pre>"
      ],
      "text/plain": [
       "recommendations finished on 14000/62483 queries. users per second: 129821"
      ]
     },
     "metadata": {
      "tags": []
     },
     "output_type": "display_data"
    },
    {
     "data": {
      "text/html": [
       "<pre>recommendations finished on 15000/62483 queries. users per second: 131608</pre>"
      ],
      "text/plain": [
       "recommendations finished on 15000/62483 queries. users per second: 131608"
      ]
     },
     "metadata": {
      "tags": []
     },
     "output_type": "display_data"
    },
    {
     "data": {
      "text/html": [
       "<pre>recommendations finished on 16000/62483 queries. users per second: 133344</pre>"
      ],
      "text/plain": [
       "recommendations finished on 16000/62483 queries. users per second: 133344"
      ]
     },
     "metadata": {
      "tags": []
     },
     "output_type": "display_data"
    },
    {
     "data": {
      "text/html": [
       "<pre>recommendations finished on 17000/62483 queries. users per second: 133815</pre>"
      ],
      "text/plain": [
       "recommendations finished on 17000/62483 queries. users per second: 133815"
      ]
     },
     "metadata": {
      "tags": []
     },
     "output_type": "display_data"
    },
    {
     "data": {
      "text/html": [
       "<pre>recommendations finished on 18000/62483 queries. users per second: 134347</pre>"
      ],
      "text/plain": [
       "recommendations finished on 18000/62483 queries. users per second: 134347"
      ]
     },
     "metadata": {
      "tags": []
     },
     "output_type": "display_data"
    },
    {
     "data": {
      "text/html": [
       "<pre>recommendations finished on 19000/62483 queries. users per second: 133699</pre>"
      ],
      "text/plain": [
       "recommendations finished on 19000/62483 queries. users per second: 133699"
      ]
     },
     "metadata": {
      "tags": []
     },
     "output_type": "display_data"
    },
    {
     "data": {
      "text/html": [
       "<pre>recommendations finished on 20000/62483 queries. users per second: 135477</pre>"
      ],
      "text/plain": [
       "recommendations finished on 20000/62483 queries. users per second: 135477"
      ]
     },
     "metadata": {
      "tags": []
     },
     "output_type": "display_data"
    },
    {
     "data": {
      "text/html": [
       "<pre>recommendations finished on 21000/62483 queries. users per second: 135093</pre>"
      ],
      "text/plain": [
       "recommendations finished on 21000/62483 queries. users per second: 135093"
      ]
     },
     "metadata": {
      "tags": []
     },
     "output_type": "display_data"
    },
    {
     "data": {
      "text/html": [
       "<pre>recommendations finished on 22000/62483 queries. users per second: 136462</pre>"
      ],
      "text/plain": [
       "recommendations finished on 22000/62483 queries. users per second: 136462"
      ]
     },
     "metadata": {
      "tags": []
     },
     "output_type": "display_data"
    },
    {
     "data": {
      "text/html": [
       "<pre>recommendations finished on 23000/62483 queries. users per second: 138045</pre>"
      ],
      "text/plain": [
       "recommendations finished on 23000/62483 queries. users per second: 138045"
      ]
     },
     "metadata": {
      "tags": []
     },
     "output_type": "display_data"
    },
    {
     "data": {
      "text/html": [
       "<pre>recommendations finished on 24000/62483 queries. users per second: 138810</pre>"
      ],
      "text/plain": [
       "recommendations finished on 24000/62483 queries. users per second: 138810"
      ]
     },
     "metadata": {
      "tags": []
     },
     "output_type": "display_data"
    },
    {
     "data": {
      "text/html": [
       "<pre>recommendations finished on 25000/62483 queries. users per second: 138958</pre>"
      ],
      "text/plain": [
       "recommendations finished on 25000/62483 queries. users per second: 138958"
      ]
     },
     "metadata": {
      "tags": []
     },
     "output_type": "display_data"
    },
    {
     "data": {
      "text/html": [
       "<pre>recommendations finished on 26000/62483 queries. users per second: 139305</pre>"
      ],
      "text/plain": [
       "recommendations finished on 26000/62483 queries. users per second: 139305"
      ]
     },
     "metadata": {
      "tags": []
     },
     "output_type": "display_data"
    },
    {
     "data": {
      "text/html": [
       "<pre>recommendations finished on 27000/62483 queries. users per second: 138545</pre>"
      ],
      "text/plain": [
       "recommendations finished on 27000/62483 queries. users per second: 138545"
      ]
     },
     "metadata": {
      "tags": []
     },
     "output_type": "display_data"
    },
    {
     "data": {
      "text/html": [
       "<pre>recommendations finished on 28000/62483 queries. users per second: 138930</pre>"
      ],
      "text/plain": [
       "recommendations finished on 28000/62483 queries. users per second: 138930"
      ]
     },
     "metadata": {
      "tags": []
     },
     "output_type": "display_data"
    },
    {
     "data": {
      "text/html": [
       "<pre>recommendations finished on 29000/62483 queries. users per second: 139997</pre>"
      ],
      "text/plain": [
       "recommendations finished on 29000/62483 queries. users per second: 139997"
      ]
     },
     "metadata": {
      "tags": []
     },
     "output_type": "display_data"
    },
    {
     "data": {
      "text/html": [
       "<pre>recommendations finished on 30000/62483 queries. users per second: 140951</pre>"
      ],
      "text/plain": [
       "recommendations finished on 30000/62483 queries. users per second: 140951"
      ]
     },
     "metadata": {
      "tags": []
     },
     "output_type": "display_data"
    },
    {
     "data": {
      "text/html": [
       "<pre>recommendations finished on 31000/62483 queries. users per second: 141470</pre>"
      ],
      "text/plain": [
       "recommendations finished on 31000/62483 queries. users per second: 141470"
      ]
     },
     "metadata": {
      "tags": []
     },
     "output_type": "display_data"
    },
    {
     "data": {
      "text/html": [
       "<pre>recommendations finished on 32000/62483 queries. users per second: 142444</pre>"
      ],
      "text/plain": [
       "recommendations finished on 32000/62483 queries. users per second: 142444"
      ]
     },
     "metadata": {
      "tags": []
     },
     "output_type": "display_data"
    },
    {
     "data": {
      "text/html": [
       "<pre>recommendations finished on 33000/62483 queries. users per second: 142575</pre>"
      ],
      "text/plain": [
       "recommendations finished on 33000/62483 queries. users per second: 142575"
      ]
     },
     "metadata": {
      "tags": []
     },
     "output_type": "display_data"
    },
    {
     "data": {
      "text/html": [
       "<pre>recommendations finished on 34000/62483 queries. users per second: 142836</pre>"
      ],
      "text/plain": [
       "recommendations finished on 34000/62483 queries. users per second: 142836"
      ]
     },
     "metadata": {
      "tags": []
     },
     "output_type": "display_data"
    },
    {
     "data": {
      "text/html": [
       "<pre>recommendations finished on 35000/62483 queries. users per second: 143820</pre>"
      ],
      "text/plain": [
       "recommendations finished on 35000/62483 queries. users per second: 143820"
      ]
     },
     "metadata": {
      "tags": []
     },
     "output_type": "display_data"
    },
    {
     "data": {
      "text/html": [
       "<pre>recommendations finished on 36000/62483 queries. users per second: 144848</pre>"
      ],
      "text/plain": [
       "recommendations finished on 36000/62483 queries. users per second: 144848"
      ]
     },
     "metadata": {
      "tags": []
     },
     "output_type": "display_data"
    },
    {
     "data": {
      "text/html": [
       "<pre>recommendations finished on 37000/62483 queries. users per second: 145673</pre>"
      ],
      "text/plain": [
       "recommendations finished on 37000/62483 queries. users per second: 145673"
      ]
     },
     "metadata": {
      "tags": []
     },
     "output_type": "display_data"
    },
    {
     "data": {
      "text/html": [
       "<pre>recommendations finished on 38000/62483 queries. users per second: 146346</pre>"
      ],
      "text/plain": [
       "recommendations finished on 38000/62483 queries. users per second: 146346"
      ]
     },
     "metadata": {
      "tags": []
     },
     "output_type": "display_data"
    },
    {
     "data": {
      "text/html": [
       "<pre>recommendations finished on 39000/62483 queries. users per second: 146264</pre>"
      ],
      "text/plain": [
       "recommendations finished on 39000/62483 queries. users per second: 146264"
      ]
     },
     "metadata": {
      "tags": []
     },
     "output_type": "display_data"
    },
    {
     "data": {
      "text/html": [
       "<pre>recommendations finished on 40000/62483 queries. users per second: 147083</pre>"
      ],
      "text/plain": [
       "recommendations finished on 40000/62483 queries. users per second: 147083"
      ]
     },
     "metadata": {
      "tags": []
     },
     "output_type": "display_data"
    },
    {
     "data": {
      "text/html": [
       "<pre>recommendations finished on 41000/62483 queries. users per second: 147309</pre>"
      ],
      "text/plain": [
       "recommendations finished on 41000/62483 queries. users per second: 147309"
      ]
     },
     "metadata": {
      "tags": []
     },
     "output_type": "display_data"
    },
    {
     "data": {
      "text/html": [
       "<pre>recommendations finished on 42000/62483 queries. users per second: 146748</pre>"
      ],
      "text/plain": [
       "recommendations finished on 42000/62483 queries. users per second: 146748"
      ]
     },
     "metadata": {
      "tags": []
     },
     "output_type": "display_data"
    },
    {
     "data": {
      "text/html": [
       "<pre>recommendations finished on 43000/62483 queries. users per second: 147319</pre>"
      ],
      "text/plain": [
       "recommendations finished on 43000/62483 queries. users per second: 147319"
      ]
     },
     "metadata": {
      "tags": []
     },
     "output_type": "display_data"
    },
    {
     "data": {
      "text/html": [
       "<pre>recommendations finished on 44000/62483 queries. users per second: 147379</pre>"
      ],
      "text/plain": [
       "recommendations finished on 44000/62483 queries. users per second: 147379"
      ]
     },
     "metadata": {
      "tags": []
     },
     "output_type": "display_data"
    },
    {
     "data": {
      "text/html": [
       "<pre>recommendations finished on 45000/62483 queries. users per second: 148178</pre>"
      ],
      "text/plain": [
       "recommendations finished on 45000/62483 queries. users per second: 148178"
      ]
     },
     "metadata": {
      "tags": []
     },
     "output_type": "display_data"
    },
    {
     "data": {
      "text/html": [
       "<pre>recommendations finished on 46000/62483 queries. users per second: 148257</pre>"
      ],
      "text/plain": [
       "recommendations finished on 46000/62483 queries. users per second: 148257"
      ]
     },
     "metadata": {
      "tags": []
     },
     "output_type": "display_data"
    },
    {
     "data": {
      "text/html": [
       "<pre>recommendations finished on 47000/62483 queries. users per second: 148120</pre>"
      ],
      "text/plain": [
       "recommendations finished on 47000/62483 queries. users per second: 148120"
      ]
     },
     "metadata": {
      "tags": []
     },
     "output_type": "display_data"
    },
    {
     "data": {
      "text/html": [
       "<pre>recommendations finished on 48000/62483 queries. users per second: 148209</pre>"
      ],
      "text/plain": [
       "recommendations finished on 48000/62483 queries. users per second: 148209"
      ]
     },
     "metadata": {
      "tags": []
     },
     "output_type": "display_data"
    },
    {
     "data": {
      "text/html": [
       "<pre>recommendations finished on 49000/62483 queries. users per second: 148483</pre>"
      ],
      "text/plain": [
       "recommendations finished on 49000/62483 queries. users per second: 148483"
      ]
     },
     "metadata": {
      "tags": []
     },
     "output_type": "display_data"
    },
    {
     "data": {
      "text/html": [
       "<pre>recommendations finished on 50000/62483 queries. users per second: 148685</pre>"
      ],
      "text/plain": [
       "recommendations finished on 50000/62483 queries. users per second: 148685"
      ]
     },
     "metadata": {
      "tags": []
     },
     "output_type": "display_data"
    },
    {
     "data": {
      "text/html": [
       "<pre>recommendations finished on 51000/62483 queries. users per second: 149093</pre>"
      ],
      "text/plain": [
       "recommendations finished on 51000/62483 queries. users per second: 149093"
      ]
     },
     "metadata": {
      "tags": []
     },
     "output_type": "display_data"
    },
    {
     "data": {
      "text/html": [
       "<pre>recommendations finished on 52000/62483 queries. users per second: 149648</pre>"
      ],
      "text/plain": [
       "recommendations finished on 52000/62483 queries. users per second: 149648"
      ]
     },
     "metadata": {
      "tags": []
     },
     "output_type": "display_data"
    },
    {
     "data": {
      "text/html": [
       "<pre>recommendations finished on 53000/62483 queries. users per second: 150314</pre>"
      ],
      "text/plain": [
       "recommendations finished on 53000/62483 queries. users per second: 150314"
      ]
     },
     "metadata": {
      "tags": []
     },
     "output_type": "display_data"
    },
    {
     "data": {
      "text/html": [
       "<pre>recommendations finished on 54000/62483 queries. users per second: 150721</pre>"
      ],
      "text/plain": [
       "recommendations finished on 54000/62483 queries. users per second: 150721"
      ]
     },
     "metadata": {
      "tags": []
     },
     "output_type": "display_data"
    },
    {
     "data": {
      "text/html": [
       "<pre>recommendations finished on 55000/62483 queries. users per second: 150380</pre>"
      ],
      "text/plain": [
       "recommendations finished on 55000/62483 queries. users per second: 150380"
      ]
     },
     "metadata": {
      "tags": []
     },
     "output_type": "display_data"
    },
    {
     "data": {
      "text/html": [
       "<pre>recommendations finished on 56000/62483 queries. users per second: 150077</pre>"
      ],
      "text/plain": [
       "recommendations finished on 56000/62483 queries. users per second: 150077"
      ]
     },
     "metadata": {
      "tags": []
     },
     "output_type": "display_data"
    },
    {
     "data": {
      "text/html": [
       "<pre>recommendations finished on 57000/62483 queries. users per second: 150058</pre>"
      ],
      "text/plain": [
       "recommendations finished on 57000/62483 queries. users per second: 150058"
      ]
     },
     "metadata": {
      "tags": []
     },
     "output_type": "display_data"
    },
    {
     "data": {
      "text/html": [
       "<pre>recommendations finished on 58000/62483 queries. users per second: 144127</pre>"
      ],
      "text/plain": [
       "recommendations finished on 58000/62483 queries. users per second: 144127"
      ]
     },
     "metadata": {
      "tags": []
     },
     "output_type": "display_data"
    },
    {
     "data": {
      "text/html": [
       "<pre>recommendations finished on 59000/62483 queries. users per second: 143431</pre>"
      ],
      "text/plain": [
       "recommendations finished on 59000/62483 queries. users per second: 143431"
      ]
     },
     "metadata": {
      "tags": []
     },
     "output_type": "display_data"
    },
    {
     "data": {
      "text/html": [
       "<pre>recommendations finished on 60000/62483 queries. users per second: 143145</pre>"
      ],
      "text/plain": [
       "recommendations finished on 60000/62483 queries. users per second: 143145"
      ]
     },
     "metadata": {
      "tags": []
     },
     "output_type": "display_data"
    },
    {
     "data": {
      "text/html": [
       "<pre>recommendations finished on 61000/62483 queries. users per second: 141939</pre>"
      ],
      "text/plain": [
       "recommendations finished on 61000/62483 queries. users per second: 141939"
      ]
     },
     "metadata": {
      "tags": []
     },
     "output_type": "display_data"
    },
    {
     "data": {
      "text/html": [
       "<pre>recommendations finished on 62000/62483 queries. users per second: 139854</pre>"
      ],
      "text/plain": [
       "recommendations finished on 62000/62483 queries. users per second: 139854"
      ]
     },
     "metadata": {
      "tags": []
     },
     "output_type": "display_data"
    },
    {
     "name": "stdout",
     "output_type": "stream",
     "text": [
      "+------------+-----------+--------------------+------+\n",
      "| customerId | productId |       score        | rank |\n",
      "+------------+-----------+--------------------+------+\n",
      "|     0      |    248    | 3.272727272727273  |  1   |\n",
      "|     0      |    132    | 3.1724137931034484 |  2   |\n",
      "|     0      |     37    | 3.032258064516129  |  3   |\n",
      "|     0      |     34    | 2.9959016393442623 |  4   |\n",
      "|     0      |     0     | 2.992079207920792  |  5   |\n",
      "|     0      |     3     | 2.800429184549356  |  6   |\n",
      "|     0      |    110    | 2.7329545454545454 |  7   |\n",
      "|     0      |     27    | 2.699248120300752  |  8   |\n",
      "|     0      |    230    | 2.676258992805755  |  9   |\n",
      "|     0      |     10    | 2.6516516516516515 |  10  |\n",
      "|     1      |    248    | 3.272727272727273  |  1   |\n",
      "|     1      |    132    | 3.1724137931034484 |  2   |\n",
      "|     1      |     37    | 3.032258064516129  |  3   |\n",
      "|     1      |     34    | 2.9959016393442623 |  4   |\n",
      "|     1      |     0     | 2.992079207920792  |  5   |\n",
      "|     1      |     3     | 2.800429184549356  |  6   |\n",
      "|     1      |    110    | 2.7329545454545454 |  7   |\n",
      "|     1      |     27    | 2.699248120300752  |  8   |\n",
      "|     1      |    230    | 2.676258992805755  |  9   |\n",
      "|     1      |     10    | 2.6516516516516515 |  10  |\n",
      "|     2      |    248    | 3.272727272727273  |  1   |\n",
      "|     2      |    132    | 3.1724137931034484 |  2   |\n",
      "|     2      |     37    | 3.032258064516129  |  3   |\n",
      "|     2      |     34    | 2.9959016393442623 |  4   |\n",
      "|     2      |     0     | 2.992079207920792  |  5   |\n",
      "|     2      |     3     | 2.800429184549356  |  6   |\n",
      "|     2      |    110    | 2.7329545454545454 |  7   |\n",
      "|     2      |     27    | 2.699248120300752  |  8   |\n",
      "|     2      |    230    | 2.676258992805755  |  9   |\n",
      "|     2      |     10    | 2.6516516516516515 |  10  |\n",
      "+------------+-----------+--------------------+------+\n",
      "[624830 rows x 4 columns]\n",
      "\n"
     ]
    }
   ],
   "source": [
    "# Get recommendations for a list of users to recommend (from customers file)\n",
    "# Printed below is head / top 30 rows for first 3 customers with 10 recommendations each\n",
    "\n",
    "popularity_recomm = popularity_model.recommend(users=users_to_recommend, k=n_rec)\n",
    "popularity_recomm.print_rows(n_display)"
   ]
  },
  {
   "cell_type": "markdown",
   "metadata": {
    "colab_type": "text",
    "id": "pL3O1YiyPM5s"
   },
   "source": [
    "#### Define a `model` function for model selection"
   ]
  },
  {
   "cell_type": "code",
   "execution_count": null,
   "metadata": {
    "colab": {},
    "colab_type": "code",
    "id": "4ezadNtiPM5t"
   },
   "outputs": [],
   "source": [
    "# Since turicreate is very accessible library, we can define a model selection function as below\n",
    "\n",
    "def model(train_data, name, user_id, item_id, target, users_to_recommend, n_rec, n_display):\n",
    "    if name == 'popularity':\n",
    "        model = tc.popularity_recommender.create(train_data, \n",
    "                                                    user_id=user_id, \n",
    "                                                    item_id=item_id, \n",
    "                                                    target=target)\n",
    "    elif name == 'cosine':\n",
    "        model = tc.item_similarity_recommender.create(train_data, \n",
    "                                                    user_id=user_id, \n",
    "                                                    item_id=item_id, \n",
    "                                                    target=target, \n",
    "                                                    similarity_type='cosine')\n",
    "    elif name == 'pearson':\n",
    "        model = tc.item_similarity_recommender.create(train_data, \n",
    "                                                    user_id=user_id, \n",
    "                                                    item_id=item_id, \n",
    "                                                    target=target, \n",
    "                                                    similarity_type='pearson')\n",
    "        \n",
    "    recom = model.recommend(users=users_to_recommend, k=n_rec)\n",
    "    recom.print_rows(n_display)\n",
    "    return model"
   ]
  },
  {
   "cell_type": "code",
   "execution_count": null,
   "metadata": {
    "colab": {},
    "colab_type": "code",
    "id": "9VK_N3RPPM5w"
   },
   "outputs": [],
   "source": [
    "# variables to define field names\n",
    "# constant variables include:\n",
    "user_id = 'customerId'\n",
    "item_id = 'productId'\n",
    "users_to_recommend = list(customers[user_id])\n",
    "n_rec = 10 # number of items to recommend\n",
    "n_display = 30 # to print the head / first few rows in a defined dataset"
   ]
  },
  {
   "cell_type": "markdown",
   "metadata": {
    "colab_type": "text",
    "id": "I4eScDohPM5y"
   },
   "source": [
    "#### Using purchase dummy"
   ]
  },
  {
   "cell_type": "code",
   "execution_count": 31,
   "metadata": {
    "colab": {
     "base_uri": "https://localhost:8080/",
     "height": 768
    },
    "colab_type": "code",
    "id": "ScqxJIcBPM5y",
    "outputId": "0fb29303-287a-4889-ed04-bc9acf417560"
   },
   "outputs": [
    {
     "data": {
      "text/html": [
       "<pre>Warning: Ignoring columns purchase_count;</pre>"
      ],
      "text/plain": [
       "Warning: Ignoring columns purchase_count;"
      ]
     },
     "metadata": {
      "tags": []
     },
     "output_type": "display_data"
    },
    {
     "data": {
      "text/html": [
       "<pre>    To use these columns in scoring predictions, use a model that allows the use of additional features.</pre>"
      ],
      "text/plain": [
       "    To use these columns in scoring predictions, use a model that allows the use of additional features."
      ]
     },
     "metadata": {
      "tags": []
     },
     "output_type": "display_data"
    },
    {
     "data": {
      "text/html": [
       "<pre>Preparing data set.</pre>"
      ],
      "text/plain": [
       "Preparing data set."
      ]
     },
     "metadata": {
      "tags": []
     },
     "output_type": "display_data"
    },
    {
     "data": {
      "text/html": [
       "<pre>    Data has 106868 observations with 23305 users and 300 items.</pre>"
      ],
      "text/plain": [
       "    Data has 106868 observations with 23305 users and 300 items."
      ]
     },
     "metadata": {
      "tags": []
     },
     "output_type": "display_data"
    },
    {
     "data": {
      "text/html": [
       "<pre>    Data prepared in: 0.154944s</pre>"
      ],
      "text/plain": [
       "    Data prepared in: 0.154944s"
      ]
     },
     "metadata": {
      "tags": []
     },
     "output_type": "display_data"
    },
    {
     "data": {
      "text/html": [
       "<pre>106868 observations to process; with 300 unique items.</pre>"
      ],
      "text/plain": [
       "106868 observations to process; with 300 unique items."
      ]
     },
     "metadata": {
      "tags": []
     },
     "output_type": "display_data"
    },
    {
     "data": {
      "text/html": [
       "<pre>recommendations finished on 1000/1000 queries. users per second: 111123</pre>"
      ],
      "text/plain": [
       "recommendations finished on 1000/1000 queries. users per second: 111123"
      ]
     },
     "metadata": {
      "tags": []
     },
     "output_type": "display_data"
    },
    {
     "name": "stdout",
     "output_type": "stream",
     "text": [
      "+------------+-----------+-------+------+\n",
      "| customerId | productId | score | rank |\n",
      "+------------+-----------+-------+------+\n",
      "|    1553    |    259    |  1.0  |  1   |\n",
      "|    1553    |     44    |  1.0  |  2   |\n",
      "|    1553    |    298    |  1.0  |  3   |\n",
      "|    1553    |     45    |  1.0  |  4   |\n",
      "|    1553    |    249    |  1.0  |  5   |\n",
      "|    1553    |    106    |  1.0  |  6   |\n",
      "|    1553    |     15    |  1.0  |  7   |\n",
      "|    1553    |     3     |  1.0  |  8   |\n",
      "|    1553    |     49    |  1.0  |  9   |\n",
      "|    1553    |     11    |  1.0  |  10  |\n",
      "|   20400    |     44    |  1.0  |  1   |\n",
      "|   20400    |    298    |  1.0  |  2   |\n",
      "|   20400    |     45    |  1.0  |  3   |\n",
      "|   20400    |    249    |  1.0  |  4   |\n",
      "|   20400    |    106    |  1.0  |  5   |\n",
      "|   20400    |     15    |  1.0  |  6   |\n",
      "|   20400    |     3     |  1.0  |  7   |\n",
      "|   20400    |     49    |  1.0  |  8   |\n",
      "|   20400    |    193    |  1.0  |  9   |\n",
      "|   20400    |     11    |  1.0  |  10  |\n",
      "|   19750    |     44    |  1.0  |  1   |\n",
      "|   19750    |    298    |  1.0  |  2   |\n",
      "|   19750    |     45    |  1.0  |  3   |\n",
      "|   19750    |    249    |  1.0  |  4   |\n",
      "|   19750    |    106    |  1.0  |  5   |\n",
      "|   19750    |     15    |  1.0  |  6   |\n",
      "|   19750    |     3     |  1.0  |  7   |\n",
      "|   19750    |     49    |  1.0  |  8   |\n",
      "|   19750    |    193    |  1.0  |  9   |\n",
      "|   19750    |     11    |  1.0  |  10  |\n",
      "+------------+-----------+-------+------+\n",
      "[10000 rows x 4 columns]\n",
      "\n"
     ]
    }
   ],
   "source": [
    "# these variables will change accordingly\n",
    "name = 'popularity'\n",
    "target = 'purchase_dummy'\n",
    "pop_dummy = model(train_data_dummy, name, user_id, item_id, target, users_to_recommend, n_rec, n_display)"
   ]
  },
  {
   "cell_type": "markdown",
   "metadata": {
    "colab_type": "text",
    "id": "4bOIaoPAPM55"
   },
   "source": [
    "#### Using normalized purchase count"
   ]
  },
  {
   "cell_type": "code",
   "execution_count": 32,
   "metadata": {
    "colab": {
     "base_uri": "https://localhost:8080/",
     "height": 714
    },
    "colab_type": "code",
    "id": "3-RwKLhDPM56",
    "outputId": "c54ab395-9fec-4eb3-c466-0dd24e64c7f0"
   },
   "outputs": [
    {
     "data": {
      "text/html": [
       "<pre>Preparing data set.</pre>"
      ],
      "text/plain": [
       "Preparing data set."
      ]
     },
     "metadata": {
      "tags": []
     },
     "output_type": "display_data"
    },
    {
     "data": {
      "text/html": [
       "<pre>    Data has 106868 observations with 23357 users and 300 items.</pre>"
      ],
      "text/plain": [
       "    Data has 106868 observations with 23357 users and 300 items."
      ]
     },
     "metadata": {
      "tags": []
     },
     "output_type": "display_data"
    },
    {
     "data": {
      "text/html": [
       "<pre>    Data prepared in: 0.177034s</pre>"
      ],
      "text/plain": [
       "    Data prepared in: 0.177034s"
      ]
     },
     "metadata": {
      "tags": []
     },
     "output_type": "display_data"
    },
    {
     "data": {
      "text/html": [
       "<pre>106868 observations to process; with 300 unique items.</pre>"
      ],
      "text/plain": [
       "106868 observations to process; with 300 unique items."
      ]
     },
     "metadata": {
      "tags": []
     },
     "output_type": "display_data"
    },
    {
     "data": {
      "text/html": [
       "<pre>recommendations finished on 1000/1000 queries. users per second: 99920.1</pre>"
      ],
      "text/plain": [
       "recommendations finished on 1000/1000 queries. users per second: 99920.1"
      ]
     },
     "metadata": {
      "tags": []
     },
     "output_type": "display_data"
    },
    {
     "name": "stdout",
     "output_type": "stream",
     "text": [
      "+------------+-----------+---------------------+------+\n",
      "| customerId | productId |        score        | rank |\n",
      "+------------+-----------+---------------------+------+\n",
      "|    1553    |    226    |  0.7567567567567568 |  1   |\n",
      "|    1553    |    247    |  0.3433583959899749 |  2   |\n",
      "|    1553    |    230    |  0.3319148936170206 |  3   |\n",
      "|    1553    |    125    | 0.25611510791366876 |  4   |\n",
      "|    1553    |    294    | 0.24806201550387563 |  5   |\n",
      "|    1553    |     72    | 0.23844537815126052 |  6   |\n",
      "|    1553    |    155    | 0.23333333333333325 |  7   |\n",
      "|    1553    |    248    | 0.22965116279069767 |  8   |\n",
      "|    1553    |    204    |  0.2282608695652172 |  9   |\n",
      "|    1553    |    165    |  0.2265193370165746 |  10  |\n",
      "|   20400    |    226    |  0.7567567567567568 |  1   |\n",
      "|   20400    |    247    |  0.3433583959899749 |  2   |\n",
      "|   20400    |    230    |  0.3319148936170206 |  3   |\n",
      "|   20400    |    125    | 0.25611510791366876 |  4   |\n",
      "|   20400    |    294    | 0.24806201550387563 |  5   |\n",
      "|   20400    |     72    | 0.23844537815126052 |  6   |\n",
      "|   20400    |    155    | 0.23333333333333325 |  7   |\n",
      "|   20400    |    248    | 0.22965116279069767 |  8   |\n",
      "|   20400    |    204    |  0.2282608695652172 |  9   |\n",
      "|   20400    |    165    |  0.2265193370165746 |  10  |\n",
      "|   19750    |    226    |  0.7567567567567568 |  1   |\n",
      "|   19750    |    230    |  0.3319148936170206 |  2   |\n",
      "|   19750    |    125    | 0.25611510791366876 |  3   |\n",
      "|   19750    |    294    | 0.24806201550387563 |  4   |\n",
      "|   19750    |     72    | 0.23844537815126052 |  5   |\n",
      "|   19750    |    155    | 0.23333333333333325 |  6   |\n",
      "|   19750    |    248    | 0.22965116279069767 |  7   |\n",
      "|   19750    |    204    |  0.2282608695652172 |  8   |\n",
      "|   19750    |    165    |  0.2265193370165746 |  9   |\n",
      "|   19750    |     83    | 0.21551724137931033 |  10  |\n",
      "+------------+-----------+---------------------+------+\n",
      "[10000 rows x 4 columns]\n",
      "\n"
     ]
    }
   ],
   "source": [
    "name = 'popularity'\n",
    "target = 'scaled_purchase_freq'\n",
    "pop_norm = model(train_data_norm, name, user_id, item_id, target, users_to_recommend, n_rec, n_display)"
   ]
  },
  {
   "cell_type": "markdown",
   "metadata": {
    "colab_type": "text",
    "id": "7MhfLFDSPM57"
   },
   "source": [
    "#### Notes\n",
    "* Once we created the model, we predicted the recommendation items using scores by popularity. As you can tell for each model results above, the rows show the first 30 records from 1000 users with 10 recommendations. These 30 records include 3 users and their recommended items, along with score and descending ranks. \n",
    "* In the result, although different models have different recommendation list, each user is recommended the same list of 10 items. This is because popularity is calculated by taking the most popular items across all users.\n",
    "* If a grouping example below, products 132, 248, 37, and 34 are the most popular (best-selling) across customers. Using their purchase counts divided by the number of customers, we see that these products are at least bought 3 times on average in the training set of transactions (same as the first popularity measure on `purchase_count` variable)"
   ]
  },
  {
   "cell_type": "code",
   "execution_count": 33,
   "metadata": {
    "colab": {
     "base_uri": "https://localhost:8080/",
     "height": 391
    },
    "colab_type": "code",
    "id": "NXH9sSAnPM58",
    "outputId": "aa545053-4ec3-4d86-fd27-6a548e7e69c2"
   },
   "outputs": [
    {
     "data": {
      "text/plain": [
       "productId\n",
       "248    3.272727\n",
       "132    3.172414\n",
       "37     3.032258\n",
       "34     2.995902\n",
       "0      2.992079\n",
       "3      2.800429\n",
       "110    2.732955\n",
       "27     2.699248\n",
       "230    2.676259\n",
       "10     2.651652\n",
       "32     2.603774\n",
       "58     2.563218\n",
       "226    2.514493\n",
       "245    2.456790\n",
       "129    2.443787\n",
       "173    2.439024\n",
       "252    2.403509\n",
       "68     2.402490\n",
       "91     2.384298\n",
       "41     2.354232\n",
       "Name: purchase_count, dtype: float64"
      ]
     },
     "execution_count": 33,
     "metadata": {
      "tags": []
     },
     "output_type": "execute_result"
    }
   ],
   "source": [
    "train.groupby(by=item_id)['purchase_count'].mean().sort_values(ascending=False).head(20)"
   ]
  },
  {
   "cell_type": "markdown",
   "metadata": {
    "colab_type": "text",
    "id": "prWktNlvPM5-"
   },
   "source": [
    "#### Using purchase count"
   ]
  },
  {
   "cell_type": "code",
   "execution_count": 34,
   "metadata": {
    "colab": {
     "base_uri": "https://localhost:8080/",
     "height": 1000
    },
    "colab_type": "code",
    "id": "maFx3SRFPM5_",
    "outputId": "0e701356-881e-424f-d567-49860ca48d84"
   },
   "outputs": [
    {
     "data": {
      "text/html": [
       "<pre>Preparing data set.</pre>"
      ],
      "text/plain": [
       "Preparing data set."
      ]
     },
     "metadata": {
      "tags": []
     },
     "output_type": "display_data"
    },
    {
     "data": {
      "text/html": [
       "<pre>    Data has 106868 observations with 23382 users and 300 items.</pre>"
      ],
      "text/plain": [
       "    Data has 106868 observations with 23382 users and 300 items."
      ]
     },
     "metadata": {
      "tags": []
     },
     "output_type": "display_data"
    },
    {
     "data": {
      "text/html": [
       "<pre>    Data prepared in: 0.169002s</pre>"
      ],
      "text/plain": [
       "    Data prepared in: 0.169002s"
      ]
     },
     "metadata": {
      "tags": []
     },
     "output_type": "display_data"
    },
    {
     "data": {
      "text/html": [
       "<pre>Training model from provided data.</pre>"
      ],
      "text/plain": [
       "Training model from provided data."
      ]
     },
     "metadata": {
      "tags": []
     },
     "output_type": "display_data"
    },
    {
     "data": {
      "text/html": [
       "<pre>Gathering per-item and per-user statistics.</pre>"
      ],
      "text/plain": [
       "Gathering per-item and per-user statistics."
      ]
     },
     "metadata": {
      "tags": []
     },
     "output_type": "display_data"
    },
    {
     "data": {
      "text/html": [
       "<pre>+--------------------------------+------------+</pre>"
      ],
      "text/plain": [
       "+--------------------------------+------------+"
      ]
     },
     "metadata": {
      "tags": []
     },
     "output_type": "display_data"
    },
    {
     "data": {
      "text/html": [
       "<pre>| Elapsed Time (Item Statistics) | % Complete |</pre>"
      ],
      "text/plain": [
       "| Elapsed Time (Item Statistics) | % Complete |"
      ]
     },
     "metadata": {
      "tags": []
     },
     "output_type": "display_data"
    },
    {
     "data": {
      "text/html": [
       "<pre>+--------------------------------+------------+</pre>"
      ],
      "text/plain": [
       "+--------------------------------+------------+"
      ]
     },
     "metadata": {
      "tags": []
     },
     "output_type": "display_data"
    },
    {
     "data": {
      "text/html": [
       "<pre>| 1.202ms                        | 4.25       |</pre>"
      ],
      "text/plain": [
       "| 1.202ms                        | 4.25       |"
      ]
     },
     "metadata": {
      "tags": []
     },
     "output_type": "display_data"
    },
    {
     "data": {
      "text/html": [
       "<pre>| 10.97ms                        | 100        |</pre>"
      ],
      "text/plain": [
       "| 10.97ms                        | 100        |"
      ]
     },
     "metadata": {
      "tags": []
     },
     "output_type": "display_data"
    },
    {
     "data": {
      "text/html": [
       "<pre>+--------------------------------+------------+</pre>"
      ],
      "text/plain": [
       "+--------------------------------+------------+"
      ]
     },
     "metadata": {
      "tags": []
     },
     "output_type": "display_data"
    },
    {
     "data": {
      "text/html": [
       "<pre>Setting up lookup tables.</pre>"
      ],
      "text/plain": [
       "Setting up lookup tables."
      ]
     },
     "metadata": {
      "tags": []
     },
     "output_type": "display_data"
    },
    {
     "data": {
      "text/html": [
       "<pre>Processing data in one pass using dense lookup tables.</pre>"
      ],
      "text/plain": [
       "Processing data in one pass using dense lookup tables."
      ]
     },
     "metadata": {
      "tags": []
     },
     "output_type": "display_data"
    },
    {
     "data": {
      "text/html": [
       "<pre>+-------------------------------------+------------------+-----------------+</pre>"
      ],
      "text/plain": [
       "+-------------------------------------+------------------+-----------------+"
      ]
     },
     "metadata": {
      "tags": []
     },
     "output_type": "display_data"
    },
    {
     "data": {
      "text/html": [
       "<pre>| Elapsed Time (Constructing Lookups) | Total % Complete | Items Processed |</pre>"
      ],
      "text/plain": [
       "| Elapsed Time (Constructing Lookups) | Total % Complete | Items Processed |"
      ]
     },
     "metadata": {
      "tags": []
     },
     "output_type": "display_data"
    },
    {
     "data": {
      "text/html": [
       "<pre>+-------------------------------------+------------------+-----------------+</pre>"
      ],
      "text/plain": [
       "+-------------------------------------+------------------+-----------------+"
      ]
     },
     "metadata": {
      "tags": []
     },
     "output_type": "display_data"
    },
    {
     "data": {
      "text/html": [
       "<pre>| 12.926ms                            | 0                | 0               |</pre>"
      ],
      "text/plain": [
       "| 12.926ms                            | 0                | 0               |"
      ]
     },
     "metadata": {
      "tags": []
     },
     "output_type": "display_data"
    },
    {
     "data": {
      "text/html": [
       "<pre>| 49.811ms                            | 100              | 300             |</pre>"
      ],
      "text/plain": [
       "| 49.811ms                            | 100              | 300             |"
      ]
     },
     "metadata": {
      "tags": []
     },
     "output_type": "display_data"
    },
    {
     "data": {
      "text/html": [
       "<pre>+-------------------------------------+------------------+-----------------+</pre>"
      ],
      "text/plain": [
       "+-------------------------------------+------------------+-----------------+"
      ]
     },
     "metadata": {
      "tags": []
     },
     "output_type": "display_data"
    },
    {
     "data": {
      "text/html": [
       "<pre>Finalizing lookup tables.</pre>"
      ],
      "text/plain": [
       "Finalizing lookup tables."
      ]
     },
     "metadata": {
      "tags": []
     },
     "output_type": "display_data"
    },
    {
     "data": {
      "text/html": [
       "<pre>Generating candidate set for working with new users.</pre>"
      ],
      "text/plain": [
       "Generating candidate set for working with new users."
      ]
     },
     "metadata": {
      "tags": []
     },
     "output_type": "display_data"
    },
    {
     "data": {
      "text/html": [
       "<pre>Finished training in 1.07754s</pre>"
      ],
      "text/plain": [
       "Finished training in 1.07754s"
      ]
     },
     "metadata": {
      "tags": []
     },
     "output_type": "display_data"
    },
    {
     "data": {
      "text/html": [
       "<pre>recommendations finished on 1000/1000 queries. users per second: 33992.8</pre>"
      ],
      "text/plain": [
       "recommendations finished on 1000/1000 queries. users per second: 33992.8"
      ]
     },
     "metadata": {
      "tags": []
     },
     "output_type": "display_data"
    },
    {
     "name": "stdout",
     "output_type": "stream",
     "text": [
      "+------------+-----------+----------------------+------+\n",
      "| customerId | productId |        score         | rank |\n",
      "+------------+-----------+----------------------+------+\n",
      "|    1553    |     2     | 0.07160244882106781  |  1   |\n",
      "|    1553    |     35    |  0.0693587213754654  |  2   |\n",
      "|    1553    |     1     |  0.0691552609205246  |  3   |\n",
      "|    1553    |     61    | 0.06251166760921478  |  4   |\n",
      "|    1553    |     21    | 0.04497094452381134  |  5   |\n",
      "|    1553    |     76    | 0.04215094447135925  |  6   |\n",
      "|    1553    |     0     | 0.03977116942405701  |  7   |\n",
      "|    1553    |    269    | 0.037718966603279114 |  8   |\n",
      "|    1553    |     8     | 0.03595167398452759  |  9   |\n",
      "|    1553    |     5     | 0.03342823684215546  |  10  |\n",
      "|   20400    |    122    | 0.045564889907836914 |  1   |\n",
      "|   20400    |    215    | 0.04000645875930786  |  2   |\n",
      "|   20400    |     6     | 0.03698962926864624  |  3   |\n",
      "|   20400    |     1     | 0.036445021629333496 |  4   |\n",
      "|   20400    |     54    | 0.03542596101760864  |  5   |\n",
      "|   20400    |     56    | 0.034662067890167236 |  6   |\n",
      "|   20400    |    179    |  0.0340539813041687  |  7   |\n",
      "|   20400    |    128    |  0.0321996808052063  |  8   |\n",
      "|   20400    |     25    | 0.031403541564941406 |  9   |\n",
      "|   20400    |     13    | 0.03125268220901489  |  10  |\n",
      "|   19750    |     38    | 0.08764198422431946  |  1   |\n",
      "|   19750    |     48    | 0.08443106214205424  |  2   |\n",
      "|   19750    |     36    | 0.08358304699261983  |  3   |\n",
      "|   19750    |     2     | 0.07506880164146423  |  4   |\n",
      "|   19750    |     1     | 0.07486612598101298  |  5   |\n",
      "|   19750    |     79    | 0.07394124070803325  |  6   |\n",
      "|   19750    |     21    | 0.06065768003463745  |  7   |\n",
      "|   19750    |     14    | 0.05793565511703491  |  8   |\n",
      "|   19750    |     33    | 0.05220266183217367  |  9   |\n",
      "|   19750    |    166    | 0.04947189490000407  |  10  |\n",
      "+------------+-----------+----------------------+------+\n",
      "[10000 rows x 4 columns]\n",
      "\n"
     ]
    }
   ],
   "source": [
    "# these variables will change accordingly\n",
    "name = 'cosine'\n",
    "target = 'purchase_count'\n",
    "cos = model(train_data, name, user_id, item_id, target, users_to_recommend, n_rec, n_display)"
   ]
  },
  {
   "cell_type": "markdown",
   "metadata": {
    "colab_type": "text",
    "id": "uF5vdOzaPM6C"
   },
   "source": [
    "#### Using purchase dummy"
   ]
  },
  {
   "cell_type": "code",
   "execution_count": 35,
   "metadata": {
    "colab": {
     "base_uri": "https://localhost:8080/",
     "height": 1000
    },
    "colab_type": "code",
    "id": "nQRGvyffPM6D",
    "outputId": "371f756b-2661-42e2-9af9-4f9322f9fa10"
   },
   "outputs": [
    {
     "data": {
      "text/html": [
       "<pre>Warning: Ignoring columns purchase_count;</pre>"
      ],
      "text/plain": [
       "Warning: Ignoring columns purchase_count;"
      ]
     },
     "metadata": {
      "tags": []
     },
     "output_type": "display_data"
    },
    {
     "data": {
      "text/html": [
       "<pre>    To use these columns in scoring predictions, use a model that allows the use of additional features.</pre>"
      ],
      "text/plain": [
       "    To use these columns in scoring predictions, use a model that allows the use of additional features."
      ]
     },
     "metadata": {
      "tags": []
     },
     "output_type": "display_data"
    },
    {
     "data": {
      "text/html": [
       "<pre>Preparing data set.</pre>"
      ],
      "text/plain": [
       "Preparing data set."
      ]
     },
     "metadata": {
      "tags": []
     },
     "output_type": "display_data"
    },
    {
     "data": {
      "text/html": [
       "<pre>    Data has 106868 observations with 23305 users and 300 items.</pre>"
      ],
      "text/plain": [
       "    Data has 106868 observations with 23305 users and 300 items."
      ]
     },
     "metadata": {
      "tags": []
     },
     "output_type": "display_data"
    },
    {
     "data": {
      "text/html": [
       "<pre>    Data prepared in: 0.166418s</pre>"
      ],
      "text/plain": [
       "    Data prepared in: 0.166418s"
      ]
     },
     "metadata": {
      "tags": []
     },
     "output_type": "display_data"
    },
    {
     "data": {
      "text/html": [
       "<pre>Training model from provided data.</pre>"
      ],
      "text/plain": [
       "Training model from provided data."
      ]
     },
     "metadata": {
      "tags": []
     },
     "output_type": "display_data"
    },
    {
     "data": {
      "text/html": [
       "<pre>Gathering per-item and per-user statistics.</pre>"
      ],
      "text/plain": [
       "Gathering per-item and per-user statistics."
      ]
     },
     "metadata": {
      "tags": []
     },
     "output_type": "display_data"
    },
    {
     "data": {
      "text/html": [
       "<pre>+--------------------------------+------------+</pre>"
      ],
      "text/plain": [
       "+--------------------------------+------------+"
      ]
     },
     "metadata": {
      "tags": []
     },
     "output_type": "display_data"
    },
    {
     "data": {
      "text/html": [
       "<pre>| Elapsed Time (Item Statistics) | % Complete |</pre>"
      ],
      "text/plain": [
       "| Elapsed Time (Item Statistics) | % Complete |"
      ]
     },
     "metadata": {
      "tags": []
     },
     "output_type": "display_data"
    },
    {
     "data": {
      "text/html": [
       "<pre>+--------------------------------+------------+</pre>"
      ],
      "text/plain": [
       "+--------------------------------+------------+"
      ]
     },
     "metadata": {
      "tags": []
     },
     "output_type": "display_data"
    },
    {
     "data": {
      "text/html": [
       "<pre>| 1.085ms                        | 4.25       |</pre>"
      ],
      "text/plain": [
       "| 1.085ms                        | 4.25       |"
      ]
     },
     "metadata": {
      "tags": []
     },
     "output_type": "display_data"
    },
    {
     "data": {
      "text/html": [
       "<pre>| 17.965ms                       | 100        |</pre>"
      ],
      "text/plain": [
       "| 17.965ms                       | 100        |"
      ]
     },
     "metadata": {
      "tags": []
     },
     "output_type": "display_data"
    },
    {
     "data": {
      "text/html": [
       "<pre>+--------------------------------+------------+</pre>"
      ],
      "text/plain": [
       "+--------------------------------+------------+"
      ]
     },
     "metadata": {
      "tags": []
     },
     "output_type": "display_data"
    },
    {
     "data": {
      "text/html": [
       "<pre>Setting up lookup tables.</pre>"
      ],
      "text/plain": [
       "Setting up lookup tables."
      ]
     },
     "metadata": {
      "tags": []
     },
     "output_type": "display_data"
    },
    {
     "data": {
      "text/html": [
       "<pre>Processing data in one pass using dense lookup tables.</pre>"
      ],
      "text/plain": [
       "Processing data in one pass using dense lookup tables."
      ]
     },
     "metadata": {
      "tags": []
     },
     "output_type": "display_data"
    },
    {
     "data": {
      "text/html": [
       "<pre>+-------------------------------------+------------------+-----------------+</pre>"
      ],
      "text/plain": [
       "+-------------------------------------+------------------+-----------------+"
      ]
     },
     "metadata": {
      "tags": []
     },
     "output_type": "display_data"
    },
    {
     "data": {
      "text/html": [
       "<pre>| Elapsed Time (Constructing Lookups) | Total % Complete | Items Processed |</pre>"
      ],
      "text/plain": [
       "| Elapsed Time (Constructing Lookups) | Total % Complete | Items Processed |"
      ]
     },
     "metadata": {
      "tags": []
     },
     "output_type": "display_data"
    },
    {
     "data": {
      "text/html": [
       "<pre>+-------------------------------------+------------------+-----------------+</pre>"
      ],
      "text/plain": [
       "+-------------------------------------+------------------+-----------------+"
      ]
     },
     "metadata": {
      "tags": []
     },
     "output_type": "display_data"
    },
    {
     "data": {
      "text/html": [
       "<pre>| 24.871ms                            | 0                | 0               |</pre>"
      ],
      "text/plain": [
       "| 24.871ms                            | 0                | 0               |"
      ]
     },
     "metadata": {
      "tags": []
     },
     "output_type": "display_data"
    },
    {
     "data": {
      "text/html": [
       "<pre>| 69.166ms                            | 100              | 300             |</pre>"
      ],
      "text/plain": [
       "| 69.166ms                            | 100              | 300             |"
      ]
     },
     "metadata": {
      "tags": []
     },
     "output_type": "display_data"
    },
    {
     "data": {
      "text/html": [
       "<pre>+-------------------------------------+------------------+-----------------+</pre>"
      ],
      "text/plain": [
       "+-------------------------------------+------------------+-----------------+"
      ]
     },
     "metadata": {
      "tags": []
     },
     "output_type": "display_data"
    },
    {
     "data": {
      "text/html": [
       "<pre>Finalizing lookup tables.</pre>"
      ],
      "text/plain": [
       "Finalizing lookup tables."
      ]
     },
     "metadata": {
      "tags": []
     },
     "output_type": "display_data"
    },
    {
     "data": {
      "text/html": [
       "<pre>Generating candidate set for working with new users.</pre>"
      ],
      "text/plain": [
       "Generating candidate set for working with new users."
      ]
     },
     "metadata": {
      "tags": []
     },
     "output_type": "display_data"
    },
    {
     "data": {
      "text/html": [
       "<pre>Finished training in 0.101176s</pre>"
      ],
      "text/plain": [
       "Finished training in 0.101176s"
      ]
     },
     "metadata": {
      "tags": []
     },
     "output_type": "display_data"
    },
    {
     "data": {
      "text/html": [
       "<pre>recommendations finished on 1000/1000 queries. users per second: 57816.8</pre>"
      ],
      "text/plain": [
       "recommendations finished on 1000/1000 queries. users per second: 57816.8"
      ]
     },
     "metadata": {
      "tags": []
     },
     "output_type": "display_data"
    },
    {
     "name": "stdout",
     "output_type": "stream",
     "text": [
      "+------------+-----------+----------------------+------+\n",
      "| customerId | productId |        score         | rank |\n",
      "+------------+-----------+----------------------+------+\n",
      "|    1553    |     2     |  0.0987391710281372  |  1   |\n",
      "|    1553    |     35    | 0.08719536066055297  |  2   |\n",
      "|    1553    |     1     | 0.08481138944625854  |  3   |\n",
      "|    1553    |     5     | 0.06987897157669068  |  4   |\n",
      "|    1553    |     21    | 0.062110412120819095 |  5   |\n",
      "|    1553    |     33    | 0.05326050519943237  |  6   |\n",
      "|    1553    |     17    | 0.050858259201049805 |  7   |\n",
      "|    1553    |     8     | 0.04967168569564819  |  8   |\n",
      "|    1553    |    105    | 0.049265813827514646 |  9   |\n",
      "|    1553    |     15    |  0.0440105676651001  |  10  |\n",
      "|   20400    |     26    | 0.04677283763885498  |  1   |\n",
      "|   20400    |     54    | 0.04296356439590454  |  2   |\n",
      "|   20400    |    229    | 0.04230165481567383  |  3   |\n",
      "|   20400    |     1     | 0.042143821716308594 |  4   |\n",
      "|   20400    |    220    | 0.040103375911712646 |  5   |\n",
      "|   20400    |    128    | 0.040103375911712646 |  6   |\n",
      "|   20400    |     9     | 0.03973817825317383  |  7   |\n",
      "|   20400    |     13    |  0.0395207405090332  |  8   |\n",
      "|   20400    |     77    | 0.03935098648071289  |  9   |\n",
      "|   20400    |     15    | 0.03901010751724243  |  10  |\n",
      "|   19750    |     48    |  0.1023988127708435  |  1   |\n",
      "|   19750    |     38    |  0.0990763008594513  |  2   |\n",
      "|   19750    |     36    | 0.09427377581596375  |  3   |\n",
      "|   19750    |     79    | 0.08657355109850566  |  4   |\n",
      "|   19750    |     1     | 0.08290797472000122  |  5   |\n",
      "|   19750    |     2     | 0.07224418719609578  |  6   |\n",
      "|   19750    |     5     | 0.05834677815437317  |  7   |\n",
      "|   19750    |     21    | 0.056496510903040566 |  8   |\n",
      "|   19750    |     14    | 0.05623745918273926  |  9   |\n",
      "|   19750    |     35    | 0.054581900437672935 |  10  |\n",
      "+------------+-----------+----------------------+------+\n",
      "[10000 rows x 4 columns]\n",
      "\n"
     ]
    }
   ],
   "source": [
    "# these variables will change accordingly\n",
    "name = 'cosine'\n",
    "target = 'purchase_dummy'\n",
    "cos_dummy = model(train_data_dummy, name, user_id, item_id, target, users_to_recommend, n_rec, n_display)"
   ]
  },
  {
   "cell_type": "markdown",
   "metadata": {
    "colab_type": "text",
    "id": "QI_xSZjtPM6G"
   },
   "source": [
    "#### Using normalized purchase count"
   ]
  },
  {
   "cell_type": "code",
   "execution_count": 36,
   "metadata": {
    "colab": {
     "base_uri": "https://localhost:8080/",
     "height": 1000
    },
    "colab_type": "code",
    "id": "SGfYhKCiPM6G",
    "outputId": "e17a80da-5c9a-4e24-d4b0-fb1c0452bb34"
   },
   "outputs": [
    {
     "data": {
      "text/html": [
       "<pre>Preparing data set.</pre>"
      ],
      "text/plain": [
       "Preparing data set."
      ]
     },
     "metadata": {
      "tags": []
     },
     "output_type": "display_data"
    },
    {
     "data": {
      "text/html": [
       "<pre>    Data has 106868 observations with 23357 users and 300 items.</pre>"
      ],
      "text/plain": [
       "    Data has 106868 observations with 23357 users and 300 items."
      ]
     },
     "metadata": {
      "tags": []
     },
     "output_type": "display_data"
    },
    {
     "data": {
      "text/html": [
       "<pre>    Data prepared in: 0.154898s</pre>"
      ],
      "text/plain": [
       "    Data prepared in: 0.154898s"
      ]
     },
     "metadata": {
      "tags": []
     },
     "output_type": "display_data"
    },
    {
     "data": {
      "text/html": [
       "<pre>Training model from provided data.</pre>"
      ],
      "text/plain": [
       "Training model from provided data."
      ]
     },
     "metadata": {
      "tags": []
     },
     "output_type": "display_data"
    },
    {
     "data": {
      "text/html": [
       "<pre>Gathering per-item and per-user statistics.</pre>"
      ],
      "text/plain": [
       "Gathering per-item and per-user statistics."
      ]
     },
     "metadata": {
      "tags": []
     },
     "output_type": "display_data"
    },
    {
     "data": {
      "text/html": [
       "<pre>+--------------------------------+------------+</pre>"
      ],
      "text/plain": [
       "+--------------------------------+------------+"
      ]
     },
     "metadata": {
      "tags": []
     },
     "output_type": "display_data"
    },
    {
     "data": {
      "text/html": [
       "<pre>| Elapsed Time (Item Statistics) | % Complete |</pre>"
      ],
      "text/plain": [
       "| Elapsed Time (Item Statistics) | % Complete |"
      ]
     },
     "metadata": {
      "tags": []
     },
     "output_type": "display_data"
    },
    {
     "data": {
      "text/html": [
       "<pre>+--------------------------------+------------+</pre>"
      ],
      "text/plain": [
       "+--------------------------------+------------+"
      ]
     },
     "metadata": {
      "tags": []
     },
     "output_type": "display_data"
    },
    {
     "data": {
      "text/html": [
       "<pre>| 1.534ms                        | 4.25       |</pre>"
      ],
      "text/plain": [
       "| 1.534ms                        | 4.25       |"
      ]
     },
     "metadata": {
      "tags": []
     },
     "output_type": "display_data"
    },
    {
     "data": {
      "text/html": [
       "<pre>| 23.032ms                       | 100        |</pre>"
      ],
      "text/plain": [
       "| 23.032ms                       | 100        |"
      ]
     },
     "metadata": {
      "tags": []
     },
     "output_type": "display_data"
    },
    {
     "data": {
      "text/html": [
       "<pre>+--------------------------------+------------+</pre>"
      ],
      "text/plain": [
       "+--------------------------------+------------+"
      ]
     },
     "metadata": {
      "tags": []
     },
     "output_type": "display_data"
    },
    {
     "data": {
      "text/html": [
       "<pre>Setting up lookup tables.</pre>"
      ],
      "text/plain": [
       "Setting up lookup tables."
      ]
     },
     "metadata": {
      "tags": []
     },
     "output_type": "display_data"
    },
    {
     "data": {
      "text/html": [
       "<pre>Processing data in one pass using dense lookup tables.</pre>"
      ],
      "text/plain": [
       "Processing data in one pass using dense lookup tables."
      ]
     },
     "metadata": {
      "tags": []
     },
     "output_type": "display_data"
    },
    {
     "data": {
      "text/html": [
       "<pre>+-------------------------------------+------------------+-----------------+</pre>"
      ],
      "text/plain": [
       "+-------------------------------------+------------------+-----------------+"
      ]
     },
     "metadata": {
      "tags": []
     },
     "output_type": "display_data"
    },
    {
     "data": {
      "text/html": [
       "<pre>| Elapsed Time (Constructing Lookups) | Total % Complete | Items Processed |</pre>"
      ],
      "text/plain": [
       "| Elapsed Time (Constructing Lookups) | Total % Complete | Items Processed |"
      ]
     },
     "metadata": {
      "tags": []
     },
     "output_type": "display_data"
    },
    {
     "data": {
      "text/html": [
       "<pre>+-------------------------------------+------------------+-----------------+</pre>"
      ],
      "text/plain": [
       "+-------------------------------------+------------------+-----------------+"
      ]
     },
     "metadata": {
      "tags": []
     },
     "output_type": "display_data"
    },
    {
     "data": {
      "text/html": [
       "<pre>| 29.078ms                            | 0                | 0               |</pre>"
      ],
      "text/plain": [
       "| 29.078ms                            | 0                | 0               |"
      ]
     },
     "metadata": {
      "tags": []
     },
     "output_type": "display_data"
    },
    {
     "data": {
      "text/html": [
       "<pre>| 56.13ms                             | 100              | 300             |</pre>"
      ],
      "text/plain": [
       "| 56.13ms                             | 100              | 300             |"
      ]
     },
     "metadata": {
      "tags": []
     },
     "output_type": "display_data"
    },
    {
     "data": {
      "text/html": [
       "<pre>+-------------------------------------+------------------+-----------------+</pre>"
      ],
      "text/plain": [
       "+-------------------------------------+------------------+-----------------+"
      ]
     },
     "metadata": {
      "tags": []
     },
     "output_type": "display_data"
    },
    {
     "data": {
      "text/html": [
       "<pre>Finalizing lookup tables.</pre>"
      ],
      "text/plain": [
       "Finalizing lookup tables."
      ]
     },
     "metadata": {
      "tags": []
     },
     "output_type": "display_data"
    },
    {
     "data": {
      "text/html": [
       "<pre>Generating candidate set for working with new users.</pre>"
      ],
      "text/plain": [
       "Generating candidate set for working with new users."
      ]
     },
     "metadata": {
      "tags": []
     },
     "output_type": "display_data"
    },
    {
     "data": {
      "text/html": [
       "<pre>Finished training in 0.08301s</pre>"
      ],
      "text/plain": [
       "Finished training in 0.08301s"
      ]
     },
     "metadata": {
      "tags": []
     },
     "output_type": "display_data"
    },
    {
     "data": {
      "text/html": [
       "<pre>recommendations finished on 1000/1000 queries. users per second: 44175.5</pre>"
      ],
      "text/plain": [
       "recommendations finished on 1000/1000 queries. users per second: 44175.5"
      ]
     },
     "metadata": {
      "tags": []
     },
     "output_type": "display_data"
    },
    {
     "name": "stdout",
     "output_type": "stream",
     "text": [
      "+------------+-----------+-----------------------+------+\n",
      "| customerId | productId |         score         | rank |\n",
      "+------------+-----------+-----------------------+------+\n",
      "|    1553    |     25    |          0.0          |  1   |\n",
      "|    1553    |    180    |          0.0          |  2   |\n",
      "|    1553    |    228    |          0.0          |  3   |\n",
      "|    1553    |     42    |          0.0          |  4   |\n",
      "|    1553    |    288    |          0.0          |  5   |\n",
      "|    1553    |     1     |          0.0          |  6   |\n",
      "|    1553    |    205    |          0.0          |  7   |\n",
      "|    1553    |     19    |          0.0          |  8   |\n",
      "|    1553    |    133    |          0.0          |  9   |\n",
      "|    1553    |     2     |          0.0          |  10  |\n",
      "|   20400    |     1     | 0.0037458515167236328 |  1   |\n",
      "|   20400    |     2     | 0.0036238288879394532 |  2   |\n",
      "|   20400    |     8     |  0.002835109233856201 |  3   |\n",
      "|   20400    |     38    | 0.0023179936408996584 |  4   |\n",
      "|   20400    |     0     |  0.002134737968444824 |  5   |\n",
      "|   20400    |     31    | 0.0019511902332305909 |  6   |\n",
      "|   20400    |     79    | 0.0019324398040771484 |  7   |\n",
      "|   20400    |     72    | 0.0019319558143615723 |  8   |\n",
      "|   20400    |     20    |  0.001790475845336914 |  9   |\n",
      "|   20400    |     33    | 0.0017312002182006837 |  10  |\n",
      "|   19750    |    225    |  0.005870723724365234 |  1   |\n",
      "|   19750    |    248    |  0.003657066822052002 |  2   |\n",
      "|   19750    |    187    | 0.0028828859329223635 |  3   |\n",
      "|   19750    |    105    | 0.0026973366737365724 |  4   |\n",
      "|   19750    |    134    | 0.0025596141815185545 |  5   |\n",
      "|   19750    |    181    | 0.0025535225868225098 |  6   |\n",
      "|   19750    |     2     | 0.0023281335830688476 |  7   |\n",
      "|   19750    |    251    |  0.002217602729797363 |  8   |\n",
      "|   19750    |    119    | 0.0019934773445129395 |  9   |\n",
      "|   19750    |    212    | 0.0018904924392700196 |  10  |\n",
      "+------------+-----------+-----------------------+------+\n",
      "[10000 rows x 4 columns]\n",
      "\n"
     ]
    }
   ],
   "source": [
    "name = 'cosine'\n",
    "target = 'scaled_purchase_freq'\n",
    "cos_norm = model(train_data_norm, name, user_id, item_id, target, users_to_recommend, n_rec, n_display)"
   ]
  },
  {
   "cell_type": "markdown",
   "metadata": {
    "colab_type": "text",
    "id": "yZa_yrrNPM6J"
   },
   "source": [
    "#### Using purchase count"
   ]
  },
  {
   "cell_type": "code",
   "execution_count": 37,
   "metadata": {
    "colab": {
     "base_uri": "https://localhost:8080/",
     "height": 1000
    },
    "colab_type": "code",
    "id": "A2blPOKqPM6J",
    "outputId": "9cad7785-e49e-4782-ff61-588b9b44272b"
   },
   "outputs": [
    {
     "data": {
      "text/html": [
       "<pre>Preparing data set.</pre>"
      ],
      "text/plain": [
       "Preparing data set."
      ]
     },
     "metadata": {
      "tags": []
     },
     "output_type": "display_data"
    },
    {
     "data": {
      "text/html": [
       "<pre>    Data has 106868 observations with 23382 users and 300 items.</pre>"
      ],
      "text/plain": [
       "    Data has 106868 observations with 23382 users and 300 items."
      ]
     },
     "metadata": {
      "tags": []
     },
     "output_type": "display_data"
    },
    {
     "data": {
      "text/html": [
       "<pre>    Data prepared in: 0.154145s</pre>"
      ],
      "text/plain": [
       "    Data prepared in: 0.154145s"
      ]
     },
     "metadata": {
      "tags": []
     },
     "output_type": "display_data"
    },
    {
     "data": {
      "text/html": [
       "<pre>Training model from provided data.</pre>"
      ],
      "text/plain": [
       "Training model from provided data."
      ]
     },
     "metadata": {
      "tags": []
     },
     "output_type": "display_data"
    },
    {
     "data": {
      "text/html": [
       "<pre>Gathering per-item and per-user statistics.</pre>"
      ],
      "text/plain": [
       "Gathering per-item and per-user statistics."
      ]
     },
     "metadata": {
      "tags": []
     },
     "output_type": "display_data"
    },
    {
     "data": {
      "text/html": [
       "<pre>+--------------------------------+------------+</pre>"
      ],
      "text/plain": [
       "+--------------------------------+------------+"
      ]
     },
     "metadata": {
      "tags": []
     },
     "output_type": "display_data"
    },
    {
     "data": {
      "text/html": [
       "<pre>| Elapsed Time (Item Statistics) | % Complete |</pre>"
      ],
      "text/plain": [
       "| Elapsed Time (Item Statistics) | % Complete |"
      ]
     },
     "metadata": {
      "tags": []
     },
     "output_type": "display_data"
    },
    {
     "data": {
      "text/html": [
       "<pre>+--------------------------------+------------+</pre>"
      ],
      "text/plain": [
       "+--------------------------------+------------+"
      ]
     },
     "metadata": {
      "tags": []
     },
     "output_type": "display_data"
    },
    {
     "data": {
      "text/html": [
       "<pre>| 1.484ms                        | 4.25       |</pre>"
      ],
      "text/plain": [
       "| 1.484ms                        | 4.25       |"
      ]
     },
     "metadata": {
      "tags": []
     },
     "output_type": "display_data"
    },
    {
     "data": {
      "text/html": [
       "<pre>| 24.436ms                       | 100        |</pre>"
      ],
      "text/plain": [
       "| 24.436ms                       | 100        |"
      ]
     },
     "metadata": {
      "tags": []
     },
     "output_type": "display_data"
    },
    {
     "data": {
      "text/html": [
       "<pre>+--------------------------------+------------+</pre>"
      ],
      "text/plain": [
       "+--------------------------------+------------+"
      ]
     },
     "metadata": {
      "tags": []
     },
     "output_type": "display_data"
    },
    {
     "data": {
      "text/html": [
       "<pre>Setting up lookup tables.</pre>"
      ],
      "text/plain": [
       "Setting up lookup tables."
      ]
     },
     "metadata": {
      "tags": []
     },
     "output_type": "display_data"
    },
    {
     "data": {
      "text/html": [
       "<pre>Processing data in one pass using dense lookup tables.</pre>"
      ],
      "text/plain": [
       "Processing data in one pass using dense lookup tables."
      ]
     },
     "metadata": {
      "tags": []
     },
     "output_type": "display_data"
    },
    {
     "data": {
      "text/html": [
       "<pre>+-------------------------------------+------------------+-----------------+</pre>"
      ],
      "text/plain": [
       "+-------------------------------------+------------------+-----------------+"
      ]
     },
     "metadata": {
      "tags": []
     },
     "output_type": "display_data"
    },
    {
     "data": {
      "text/html": [
       "<pre>| Elapsed Time (Constructing Lookups) | Total % Complete | Items Processed |</pre>"
      ],
      "text/plain": [
       "| Elapsed Time (Constructing Lookups) | Total % Complete | Items Processed |"
      ]
     },
     "metadata": {
      "tags": []
     },
     "output_type": "display_data"
    },
    {
     "data": {
      "text/html": [
       "<pre>+-------------------------------------+------------------+-----------------+</pre>"
      ],
      "text/plain": [
       "+-------------------------------------+------------------+-----------------+"
      ]
     },
     "metadata": {
      "tags": []
     },
     "output_type": "display_data"
    },
    {
     "data": {
      "text/html": [
       "<pre>| 25.339ms                            | 0                | 0               |</pre>"
      ],
      "text/plain": [
       "| 25.339ms                            | 0                | 0               |"
      ]
     },
     "metadata": {
      "tags": []
     },
     "output_type": "display_data"
    },
    {
     "data": {
      "text/html": [
       "<pre>| 77.412ms                            | 100              | 300             |</pre>"
      ],
      "text/plain": [
       "| 77.412ms                            | 100              | 300             |"
      ]
     },
     "metadata": {
      "tags": []
     },
     "output_type": "display_data"
    },
    {
     "data": {
      "text/html": [
       "<pre>+-------------------------------------+------------------+-----------------+</pre>"
      ],
      "text/plain": [
       "+-------------------------------------+------------------+-----------------+"
      ]
     },
     "metadata": {
      "tags": []
     },
     "output_type": "display_data"
    },
    {
     "data": {
      "text/html": [
       "<pre>Finalizing lookup tables.</pre>"
      ],
      "text/plain": [
       "Finalizing lookup tables."
      ]
     },
     "metadata": {
      "tags": []
     },
     "output_type": "display_data"
    },
    {
     "data": {
      "text/html": [
       "<pre>Generating candidate set for working with new users.</pre>"
      ],
      "text/plain": [
       "Generating candidate set for working with new users."
      ]
     },
     "metadata": {
      "tags": []
     },
     "output_type": "display_data"
    },
    {
     "data": {
      "text/html": [
       "<pre>Finished training in 0.095617s</pre>"
      ],
      "text/plain": [
       "Finished training in 0.095617s"
      ]
     },
     "metadata": {
      "tags": []
     },
     "output_type": "display_data"
    },
    {
     "data": {
      "text/html": [
       "<pre>recommendations finished on 1000/1000 queries. users per second: 47321.6</pre>"
      ],
      "text/plain": [
       "recommendations finished on 1000/1000 queries. users per second: 47321.6"
      ]
     },
     "metadata": {
      "tags": []
     },
     "output_type": "display_data"
    },
    {
     "name": "stdout",
     "output_type": "stream",
     "text": [
      "+------------+-----------+--------------------+------+\n",
      "| customerId | productId |       score        | rank |\n",
      "+------------+-----------+--------------------+------+\n",
      "|    1553    |    248    | 3.269303671338341  |  1   |\n",
      "|    1553    |    132    | 3.172413793103448  |  2   |\n",
      "|    1553    |     37    | 3.0322580645161303 |  3   |\n",
      "|    1553    |     34    | 2.9947963457127105 |  4   |\n",
      "|    1553    |     0     | 2.9891616797683294 |  5   |\n",
      "|    1553    |     3     | 2.7993184668951274 |  6   |\n",
      "|    1553    |    110    | 2.7272471324963994 |  7   |\n",
      "|    1553    |     27    |  2.69852878164528  |  8   |\n",
      "|    1553    |    230    | 2.673649873986517  |  9   |\n",
      "|    1553    |     10    | 2.6516516516516515 |  10  |\n",
      "|   20400    |    248    | 3.2727272727272725 |  1   |\n",
      "|   20400    |    132    | 3.172413793103448  |  2   |\n",
      "|   20400    |     37    | 3.029654354818407  |  3   |\n",
      "|   20400    |     34    | 2.995901639344264  |  4   |\n",
      "|   20400    |     0     | 2.992079207920795  |  5   |\n",
      "|   20400    |     3     | 2.7986623836689235 |  6   |\n",
      "|   20400    |    110    | 2.7329545454545445 |  7   |\n",
      "|   20400    |     27    | 2.699248120300752  |  8   |\n",
      "|   20400    |    230    | 2.676258992805754  |  9   |\n",
      "|   20400    |     10    | 2.6516516516516515 |  10  |\n",
      "|   19750    |    248    | 3.2712711511236248 |  1   |\n",
      "|   19750    |    132    | 3.1713116038804765 |  2   |\n",
      "|   19750    |     37    | 3.0298175424016947 |  3   |\n",
      "|   19750    |     34    | 2.995901639344264  |  4   |\n",
      "|   19750    |     0     | 2.990929136299854  |  5   |\n",
      "|   19750    |     3     | 2.7970881355934383 |  6   |\n",
      "|   19750    |    110    | 2.7329545454545445 |  7   |\n",
      "|   19750    |     27    | 2.699248120300752  |  8   |\n",
      "|   19750    |    230    | 2.676258992805754  |  9   |\n",
      "|   19750    |     10    | 2.6516516516516515 |  10  |\n",
      "+------------+-----------+--------------------+------+\n",
      "[10000 rows x 4 columns]\n",
      "\n"
     ]
    }
   ],
   "source": [
    "# these variables will change accordingly\n",
    "name = 'pearson'\n",
    "target = 'purchase_count'\n",
    "pear = model(train_data, name, user_id, item_id, target, users_to_recommend, n_rec, n_display)"
   ]
  },
  {
   "cell_type": "markdown",
   "metadata": {
    "colab_type": "text",
    "id": "Ff5NmInkPM6L"
   },
   "source": [
    "#### Using purchase dummy"
   ]
  },
  {
   "cell_type": "code",
   "execution_count": 38,
   "metadata": {
    "colab": {
     "base_uri": "https://localhost:8080/",
     "height": 1000
    },
    "colab_type": "code",
    "id": "gnpWzuP0PM6L",
    "outputId": "de1971a1-cd96-49ac-ef65-6d69c46807c2"
   },
   "outputs": [
    {
     "data": {
      "text/html": [
       "<pre>Warning: Ignoring columns purchase_count;</pre>"
      ],
      "text/plain": [
       "Warning: Ignoring columns purchase_count;"
      ]
     },
     "metadata": {
      "tags": []
     },
     "output_type": "display_data"
    },
    {
     "data": {
      "text/html": [
       "<pre>    To use these columns in scoring predictions, use a model that allows the use of additional features.</pre>"
      ],
      "text/plain": [
       "    To use these columns in scoring predictions, use a model that allows the use of additional features."
      ]
     },
     "metadata": {
      "tags": []
     },
     "output_type": "display_data"
    },
    {
     "data": {
      "text/html": [
       "<pre>Preparing data set.</pre>"
      ],
      "text/plain": [
       "Preparing data set."
      ]
     },
     "metadata": {
      "tags": []
     },
     "output_type": "display_data"
    },
    {
     "data": {
      "text/html": [
       "<pre>    Data has 106868 observations with 23305 users and 300 items.</pre>"
      ],
      "text/plain": [
       "    Data has 106868 observations with 23305 users and 300 items."
      ]
     },
     "metadata": {
      "tags": []
     },
     "output_type": "display_data"
    },
    {
     "data": {
      "text/html": [
       "<pre>    Data prepared in: 0.203718s</pre>"
      ],
      "text/plain": [
       "    Data prepared in: 0.203718s"
      ]
     },
     "metadata": {
      "tags": []
     },
     "output_type": "display_data"
    },
    {
     "data": {
      "text/html": [
       "<pre>Training model from provided data.</pre>"
      ],
      "text/plain": [
       "Training model from provided data."
      ]
     },
     "metadata": {
      "tags": []
     },
     "output_type": "display_data"
    },
    {
     "data": {
      "text/html": [
       "<pre>Gathering per-item and per-user statistics.</pre>"
      ],
      "text/plain": [
       "Gathering per-item and per-user statistics."
      ]
     },
     "metadata": {
      "tags": []
     },
     "output_type": "display_data"
    },
    {
     "data": {
      "text/html": [
       "<pre>+--------------------------------+------------+</pre>"
      ],
      "text/plain": [
       "+--------------------------------+------------+"
      ]
     },
     "metadata": {
      "tags": []
     },
     "output_type": "display_data"
    },
    {
     "data": {
      "text/html": [
       "<pre>| Elapsed Time (Item Statistics) | % Complete |</pre>"
      ],
      "text/plain": [
       "| Elapsed Time (Item Statistics) | % Complete |"
      ]
     },
     "metadata": {
      "tags": []
     },
     "output_type": "display_data"
    },
    {
     "data": {
      "text/html": [
       "<pre>+--------------------------------+------------+</pre>"
      ],
      "text/plain": [
       "+--------------------------------+------------+"
      ]
     },
     "metadata": {
      "tags": []
     },
     "output_type": "display_data"
    },
    {
     "data": {
      "text/html": [
       "<pre>| 1.684ms                        | 4.25       |</pre>"
      ],
      "text/plain": [
       "| 1.684ms                        | 4.25       |"
      ]
     },
     "metadata": {
      "tags": []
     },
     "output_type": "display_data"
    },
    {
     "data": {
      "text/html": [
       "<pre>| 17.018ms                       | 100        |</pre>"
      ],
      "text/plain": [
       "| 17.018ms                       | 100        |"
      ]
     },
     "metadata": {
      "tags": []
     },
     "output_type": "display_data"
    },
    {
     "data": {
      "text/html": [
       "<pre>+--------------------------------+------------+</pre>"
      ],
      "text/plain": [
       "+--------------------------------+------------+"
      ]
     },
     "metadata": {
      "tags": []
     },
     "output_type": "display_data"
    },
    {
     "data": {
      "text/html": [
       "<pre>Setting up lookup tables.</pre>"
      ],
      "text/plain": [
       "Setting up lookup tables."
      ]
     },
     "metadata": {
      "tags": []
     },
     "output_type": "display_data"
    },
    {
     "data": {
      "text/html": [
       "<pre>Processing data in one pass using dense lookup tables.</pre>"
      ],
      "text/plain": [
       "Processing data in one pass using dense lookup tables."
      ]
     },
     "metadata": {
      "tags": []
     },
     "output_type": "display_data"
    },
    {
     "data": {
      "text/html": [
       "<pre>+-------------------------------------+------------------+-----------------+</pre>"
      ],
      "text/plain": [
       "+-------------------------------------+------------------+-----------------+"
      ]
     },
     "metadata": {
      "tags": []
     },
     "output_type": "display_data"
    },
    {
     "data": {
      "text/html": [
       "<pre>| Elapsed Time (Constructing Lookups) | Total % Complete | Items Processed |</pre>"
      ],
      "text/plain": [
       "| Elapsed Time (Constructing Lookups) | Total % Complete | Items Processed |"
      ]
     },
     "metadata": {
      "tags": []
     },
     "output_type": "display_data"
    },
    {
     "data": {
      "text/html": [
       "<pre>+-------------------------------------+------------------+-----------------+</pre>"
      ],
      "text/plain": [
       "+-------------------------------------+------------------+-----------------+"
      ]
     },
     "metadata": {
      "tags": []
     },
     "output_type": "display_data"
    },
    {
     "data": {
      "text/html": [
       "<pre>| 17.674ms                            | 0                | 0               |</pre>"
      ],
      "text/plain": [
       "| 17.674ms                            | 0                | 0               |"
      ]
     },
     "metadata": {
      "tags": []
     },
     "output_type": "display_data"
    },
    {
     "data": {
      "text/html": [
       "<pre>| 55.229ms                            | 100              | 300             |</pre>"
      ],
      "text/plain": [
       "| 55.229ms                            | 100              | 300             |"
      ]
     },
     "metadata": {
      "tags": []
     },
     "output_type": "display_data"
    },
    {
     "data": {
      "text/html": [
       "<pre>+-------------------------------------+------------------+-----------------+</pre>"
      ],
      "text/plain": [
       "+-------------------------------------+------------------+-----------------+"
      ]
     },
     "metadata": {
      "tags": []
     },
     "output_type": "display_data"
    },
    {
     "data": {
      "text/html": [
       "<pre>Finalizing lookup tables.</pre>"
      ],
      "text/plain": [
       "Finalizing lookup tables."
      ]
     },
     "metadata": {
      "tags": []
     },
     "output_type": "display_data"
    },
    {
     "data": {
      "text/html": [
       "<pre>Generating candidate set for working with new users.</pre>"
      ],
      "text/plain": [
       "Generating candidate set for working with new users."
      ]
     },
     "metadata": {
      "tags": []
     },
     "output_type": "display_data"
    },
    {
     "data": {
      "text/html": [
       "<pre>Finished training in 0.087161s</pre>"
      ],
      "text/plain": [
       "Finished training in 0.087161s"
      ]
     },
     "metadata": {
      "tags": []
     },
     "output_type": "display_data"
    },
    {
     "data": {
      "text/html": [
       "<pre>recommendations finished on 1000/1000 queries. users per second: 60834.7</pre>"
      ],
      "text/plain": [
       "recommendations finished on 1000/1000 queries. users per second: 60834.7"
      ]
     },
     "metadata": {
      "tags": []
     },
     "output_type": "display_data"
    },
    {
     "name": "stdout",
     "output_type": "stream",
     "text": [
      "+------------+-----------+-------+------+\n",
      "| customerId | productId | score | rank |\n",
      "+------------+-----------+-------+------+\n",
      "|    1553    |    259    |  0.0  |  1   |\n",
      "|    1553    |     44    |  0.0  |  2   |\n",
      "|    1553    |    298    |  0.0  |  3   |\n",
      "|    1553    |     45    |  0.0  |  4   |\n",
      "|    1553    |    249    |  0.0  |  5   |\n",
      "|    1553    |    106    |  0.0  |  6   |\n",
      "|    1553    |     15    |  0.0  |  7   |\n",
      "|    1553    |     3     |  0.0  |  8   |\n",
      "|    1553    |     49    |  0.0  |  9   |\n",
      "|    1553    |     11    |  0.0  |  10  |\n",
      "|   20400    |     44    |  0.0  |  1   |\n",
      "|   20400    |    298    |  0.0  |  2   |\n",
      "|   20400    |     45    |  0.0  |  3   |\n",
      "|   20400    |    249    |  0.0  |  4   |\n",
      "|   20400    |    106    |  0.0  |  5   |\n",
      "|   20400    |     15    |  0.0  |  6   |\n",
      "|   20400    |     3     |  0.0  |  7   |\n",
      "|   20400    |     49    |  0.0  |  8   |\n",
      "|   20400    |    193    |  0.0  |  9   |\n",
      "|   20400    |     11    |  0.0  |  10  |\n",
      "|   19750    |     44    |  0.0  |  1   |\n",
      "|   19750    |    298    |  0.0  |  2   |\n",
      "|   19750    |     45    |  0.0  |  3   |\n",
      "|   19750    |    249    |  0.0  |  4   |\n",
      "|   19750    |    106    |  0.0  |  5   |\n",
      "|   19750    |     15    |  0.0  |  6   |\n",
      "|   19750    |     3     |  0.0  |  7   |\n",
      "|   19750    |     49    |  0.0  |  8   |\n",
      "|   19750    |    193    |  0.0  |  9   |\n",
      "|   19750    |     11    |  0.0  |  10  |\n",
      "+------------+-----------+-------+------+\n",
      "[10000 rows x 4 columns]\n",
      "\n"
     ]
    }
   ],
   "source": [
    "# these variables will change accordingly\n",
    "name = 'pearson'\n",
    "target = 'purchase_dummy'\n",
    "pear_dummy = model(train_data_dummy, name, user_id, item_id, target, users_to_recommend, n_rec, n_display)"
   ]
  },
  {
   "cell_type": "markdown",
   "metadata": {
    "colab_type": "text",
    "id": "bIGcc6_iPM6P"
   },
   "source": [
    "#### Using normalized purchase count"
   ]
  },
  {
   "cell_type": "code",
   "execution_count": 39,
   "metadata": {
    "colab": {
     "base_uri": "https://localhost:8080/",
     "height": 1000
    },
    "colab_type": "code",
    "id": "tO6UnSQhPM6Q",
    "outputId": "cfd4d8c8-cff4-4540-bec1-e86c8594cf3f"
   },
   "outputs": [
    {
     "data": {
      "text/html": [
       "<pre>Preparing data set.</pre>"
      ],
      "text/plain": [
       "Preparing data set."
      ]
     },
     "metadata": {
      "tags": []
     },
     "output_type": "display_data"
    },
    {
     "data": {
      "text/html": [
       "<pre>    Data has 106868 observations with 23357 users and 300 items.</pre>"
      ],
      "text/plain": [
       "    Data has 106868 observations with 23357 users and 300 items."
      ]
     },
     "metadata": {
      "tags": []
     },
     "output_type": "display_data"
    },
    {
     "data": {
      "text/html": [
       "<pre>    Data prepared in: 0.148235s</pre>"
      ],
      "text/plain": [
       "    Data prepared in: 0.148235s"
      ]
     },
     "metadata": {
      "tags": []
     },
     "output_type": "display_data"
    },
    {
     "data": {
      "text/html": [
       "<pre>Training model from provided data.</pre>"
      ],
      "text/plain": [
       "Training model from provided data."
      ]
     },
     "metadata": {
      "tags": []
     },
     "output_type": "display_data"
    },
    {
     "data": {
      "text/html": [
       "<pre>Gathering per-item and per-user statistics.</pre>"
      ],
      "text/plain": [
       "Gathering per-item and per-user statistics."
      ]
     },
     "metadata": {
      "tags": []
     },
     "output_type": "display_data"
    },
    {
     "data": {
      "text/html": [
       "<pre>+--------------------------------+------------+</pre>"
      ],
      "text/plain": [
       "+--------------------------------+------------+"
      ]
     },
     "metadata": {
      "tags": []
     },
     "output_type": "display_data"
    },
    {
     "data": {
      "text/html": [
       "<pre>| Elapsed Time (Item Statistics) | % Complete |</pre>"
      ],
      "text/plain": [
       "| Elapsed Time (Item Statistics) | % Complete |"
      ]
     },
     "metadata": {
      "tags": []
     },
     "output_type": "display_data"
    },
    {
     "data": {
      "text/html": [
       "<pre>+--------------------------------+------------+</pre>"
      ],
      "text/plain": [
       "+--------------------------------+------------+"
      ]
     },
     "metadata": {
      "tags": []
     },
     "output_type": "display_data"
    },
    {
     "data": {
      "text/html": [
       "<pre>| 1.431ms                        | 4.25       |</pre>"
      ],
      "text/plain": [
       "| 1.431ms                        | 4.25       |"
      ]
     },
     "metadata": {
      "tags": []
     },
     "output_type": "display_data"
    },
    {
     "data": {
      "text/html": [
       "<pre>| 26.239ms                       | 100        |</pre>"
      ],
      "text/plain": [
       "| 26.239ms                       | 100        |"
      ]
     },
     "metadata": {
      "tags": []
     },
     "output_type": "display_data"
    },
    {
     "data": {
      "text/html": [
       "<pre>+--------------------------------+------------+</pre>"
      ],
      "text/plain": [
       "+--------------------------------+------------+"
      ]
     },
     "metadata": {
      "tags": []
     },
     "output_type": "display_data"
    },
    {
     "data": {
      "text/html": [
       "<pre>Setting up lookup tables.</pre>"
      ],
      "text/plain": [
       "Setting up lookup tables."
      ]
     },
     "metadata": {
      "tags": []
     },
     "output_type": "display_data"
    },
    {
     "data": {
      "text/html": [
       "<pre>Processing data in one pass using dense lookup tables.</pre>"
      ],
      "text/plain": [
       "Processing data in one pass using dense lookup tables."
      ]
     },
     "metadata": {
      "tags": []
     },
     "output_type": "display_data"
    },
    {
     "data": {
      "text/html": [
       "<pre>+-------------------------------------+------------------+-----------------+</pre>"
      ],
      "text/plain": [
       "+-------------------------------------+------------------+-----------------+"
      ]
     },
     "metadata": {
      "tags": []
     },
     "output_type": "display_data"
    },
    {
     "data": {
      "text/html": [
       "<pre>| Elapsed Time (Constructing Lookups) | Total % Complete | Items Processed |</pre>"
      ],
      "text/plain": [
       "| Elapsed Time (Constructing Lookups) | Total % Complete | Items Processed |"
      ]
     },
     "metadata": {
      "tags": []
     },
     "output_type": "display_data"
    },
    {
     "data": {
      "text/html": [
       "<pre>+-------------------------------------+------------------+-----------------+</pre>"
      ],
      "text/plain": [
       "+-------------------------------------+------------------+-----------------+"
      ]
     },
     "metadata": {
      "tags": []
     },
     "output_type": "display_data"
    },
    {
     "data": {
      "text/html": [
       "<pre>| 26.995ms                            | 0                | 0               |</pre>"
      ],
      "text/plain": [
       "| 26.995ms                            | 0                | 0               |"
      ]
     },
     "metadata": {
      "tags": []
     },
     "output_type": "display_data"
    },
    {
     "data": {
      "text/html": [
       "<pre>| 91.904ms                            | 100              | 300             |</pre>"
      ],
      "text/plain": [
       "| 91.904ms                            | 100              | 300             |"
      ]
     },
     "metadata": {
      "tags": []
     },
     "output_type": "display_data"
    },
    {
     "data": {
      "text/html": [
       "<pre>+-------------------------------------+------------------+-----------------+</pre>"
      ],
      "text/plain": [
       "+-------------------------------------+------------------+-----------------+"
      ]
     },
     "metadata": {
      "tags": []
     },
     "output_type": "display_data"
    },
    {
     "data": {
      "text/html": [
       "<pre>Finalizing lookup tables.</pre>"
      ],
      "text/plain": [
       "Finalizing lookup tables."
      ]
     },
     "metadata": {
      "tags": []
     },
     "output_type": "display_data"
    },
    {
     "data": {
      "text/html": [
       "<pre>Generating candidate set for working with new users.</pre>"
      ],
      "text/plain": [
       "Generating candidate set for working with new users."
      ]
     },
     "metadata": {
      "tags": []
     },
     "output_type": "display_data"
    },
    {
     "data": {
      "text/html": [
       "<pre>Finished training in 0.116343s</pre>"
      ],
      "text/plain": [
       "Finished training in 0.116343s"
      ]
     },
     "metadata": {
      "tags": []
     },
     "output_type": "display_data"
    },
    {
     "data": {
      "text/html": [
       "<pre>recommendations finished on 1000/1000 queries. users per second: 61527.1</pre>"
      ],
      "text/plain": [
       "recommendations finished on 1000/1000 queries. users per second: 61527.1"
      ]
     },
     "metadata": {
      "tags": []
     },
     "output_type": "display_data"
    },
    {
     "name": "stdout",
     "output_type": "stream",
     "text": [
      "+------------+-----------+---------------------+------+\n",
      "| customerId | productId |        score        | rank |\n",
      "+------------+-----------+---------------------+------+\n",
      "|    1553    |    226    |  0.7567567567567564 |  1   |\n",
      "|    1553    |    247    | 0.34335839598997503 |  2   |\n",
      "|    1553    |    230    |  0.331357133219428  |  3   |\n",
      "|    1553    |    125    | 0.25611510791366904 |  4   |\n",
      "|    1553    |    294    |  0.248062015503876  |  5   |\n",
      "|    1553    |     72    | 0.23844537815126055 |  6   |\n",
      "|    1553    |    155    | 0.23333333333333334 |  7   |\n",
      "|    1553    |    248    | 0.22965116279069767 |  8   |\n",
      "|    1553    |    204    | 0.22826086956521746 |  9   |\n",
      "|    1553    |    165    |  0.2265193370165745 |  10  |\n",
      "|   20400    |    226    |  0.7567425398568846 |  1   |\n",
      "|   20400    |    247    |  0.3433559915386048 |  2   |\n",
      "|   20400    |    230    |  0.3319112923043839 |  3   |\n",
      "|   20400    |    125    | 0.25610130824631067 |  4   |\n",
      "|   20400    |    294    | 0.24805311653041104 |  5   |\n",
      "|   20400    |     72    |  0.2383955009845125 |  6   |\n",
      "|   20400    |    155    | 0.23330349047978718 |  7   |\n",
      "|   20400    |    248    | 0.22964419977609501 |  8   |\n",
      "|   20400    |    204    |  0.2282465823318648 |  9   |\n",
      "|   20400    |    165    | 0.22648727448605693 |  10  |\n",
      "|   19750    |    226    |   0.75674679086015  |  1   |\n",
      "|   19750    |    230    |  0.3319148936170212 |  2   |\n",
      "|   19750    |    125    |  0.2559846452671847 |  3   |\n",
      "|   19750    |    294    |  0.248062015503876  |  4   |\n",
      "|   19750    |     72    | 0.23819613536866777 |  5   |\n",
      "|   19750    |    155    | 0.23239250977834067 |  6   |\n",
      "|   19750    |    248    | 0.22934580819551334 |  7   |\n",
      "|   19750    |    204    | 0.22806935984155413 |  8   |\n",
      "|   19750    |    165    |  0.2265193370165745 |  9   |\n",
      "|   19750    |     83    | 0.21551724137931033 |  10  |\n",
      "+------------+-----------+---------------------+------+\n",
      "[10000 rows x 4 columns]\n",
      "\n"
     ]
    }
   ],
   "source": [
    "name = 'pearson'\n",
    "target = 'scaled_purchase_freq'\n",
    "pear_norm = model(train_data_norm, name, user_id, item_id, target, users_to_recommend, n_rec, n_display)"
   ]
  },
  {
   "cell_type": "markdown",
   "metadata": {
    "colab_type": "text",
    "id": "pTVoaykbPM6R"
   },
   "source": [
    "#### Note\n",
    "* In collaborative filtering above, we used two approaches: cosine and pearson distance. We also got to apply them to three training datasets with normal counts, dummy, or normalized counts of items purchase.\n",
    "* We can see that the recommendations are different for each user. This suggests that personalization does exist. \n",
    "* But how good is this model compared to the baseline, and to each other? We need some means of evaluating a recommendation engine. Lets focus on that in the next section."
   ]
  },
  {
   "cell_type": "markdown",
   "metadata": {
    "colab_type": "text",
    "id": "yowxI2pEPM6S"
   },
   "source": [
    "## 7. Model Evaluation\n",
    "For evaluating recommendation engines, we can use the concept of precision-recall.\n",
    "\n",
    "* RMSE (Root Mean Squared Errors)\n",
    "    * Measures the error of predicted values\n",
    "    * Lesser the RMSE value, better the recommendations\n",
    "* Recall\n",
    "    * What percentage of products that a user buys are actually recommended?\n",
    "    * If a customer buys 5 products and the recommendation decided to show 3 of them, then the recall is 0.6\n",
    "* Precision\n",
    "    * Out of all the recommended items, how many the user actually liked?\n",
    "    * If 5 products were recommended to the customer out of which he buys 4 of them, then precision is 0.8\n",
    "    \n",
    "Lets compare all the models we have built based on precision-recall characteristics:"
   ]
  },
  {
   "cell_type": "code",
   "execution_count": null,
   "metadata": {
    "colab": {},
    "colab_type": "code",
    "id": "XUb3lTAdPM6U"
   },
   "outputs": [],
   "source": [
    "# create initial callable variables\n",
    "\n",
    "models_w_counts = [popularity_model, cos, pear]\n",
    "models_w_dummy = [pop_dummy, cos_dummy, pear_dummy]\n",
    "models_w_norm = [pop_norm, cos_norm, pear_norm]\n",
    "\n",
    "names_w_counts = ['Popularity Model on Purchase Counts', 'Cosine Similarity on Purchase Counts', 'Pearson Similarity on Purchase Counts']\n",
    "names_w_dummy = ['Popularity Model on Purchase Dummy', 'Cosine Similarity on Purchase Dummy', 'Pearson Similarity on Purchase Dummy']\n",
    "names_w_norm = ['Popularity Model on Scaled Purchase Counts', 'Cosine Similarity on Scaled Purchase Counts', 'Pearson Similarity on Scaled Purchase Counts']"
   ]
  },
  {
   "cell_type": "markdown",
   "metadata": {
    "colab_type": "text",
    "id": "6pA5L3JyPM6W"
   },
   "source": [
    "#### Models on purchase counts"
   ]
  },
  {
   "cell_type": "code",
   "execution_count": 41,
   "metadata": {
    "colab": {
     "base_uri": "https://localhost:8080/",
     "height": 1000
    },
    "colab_type": "code",
    "id": "dS1H431zPM6X",
    "outputId": "60c3810d-990d-4f30-c335-b4abd883e4c5",
    "scrolled": false
   },
   "outputs": [
    {
     "name": "stdout",
     "output_type": "stream",
     "text": [
      "PROGRESS: Evaluate model Popularity Model on Purchase Counts\n"
     ]
    },
    {
     "data": {
      "text/html": [
       "<pre>recommendations finished on 1000/13856 queries. users per second: 56912</pre>"
      ],
      "text/plain": [
       "recommendations finished on 1000/13856 queries. users per second: 56912"
      ]
     },
     "metadata": {
      "tags": []
     },
     "output_type": "display_data"
    },
    {
     "data": {
      "text/html": [
       "<pre>recommendations finished on 2000/13856 queries. users per second: 49164.2</pre>"
      ],
      "text/plain": [
       "recommendations finished on 2000/13856 queries. users per second: 49164.2"
      ]
     },
     "metadata": {
      "tags": []
     },
     "output_type": "display_data"
    },
    {
     "data": {
      "text/html": [
       "<pre>recommendations finished on 3000/13856 queries. users per second: 51457.1</pre>"
      ],
      "text/plain": [
       "recommendations finished on 3000/13856 queries. users per second: 51457.1"
      ]
     },
     "metadata": {
      "tags": []
     },
     "output_type": "display_data"
    },
    {
     "data": {
      "text/html": [
       "<pre>recommendations finished on 4000/13856 queries. users per second: 53611.4</pre>"
      ],
      "text/plain": [
       "recommendations finished on 4000/13856 queries. users per second: 53611.4"
      ]
     },
     "metadata": {
      "tags": []
     },
     "output_type": "display_data"
    },
    {
     "data": {
      "text/html": [
       "<pre>recommendations finished on 5000/13856 queries. users per second: 55914</pre>"
      ],
      "text/plain": [
       "recommendations finished on 5000/13856 queries. users per second: 55914"
      ]
     },
     "metadata": {
      "tags": []
     },
     "output_type": "display_data"
    },
    {
     "data": {
      "text/html": [
       "<pre>recommendations finished on 6000/13856 queries. users per second: 56029.7</pre>"
      ],
      "text/plain": [
       "recommendations finished on 6000/13856 queries. users per second: 56029.7"
      ]
     },
     "metadata": {
      "tags": []
     },
     "output_type": "display_data"
    },
    {
     "data": {
      "text/html": [
       "<pre>recommendations finished on 7000/13856 queries. users per second: 52645</pre>"
      ],
      "text/plain": [
       "recommendations finished on 7000/13856 queries. users per second: 52645"
      ]
     },
     "metadata": {
      "tags": []
     },
     "output_type": "display_data"
    },
    {
     "data": {
      "text/html": [
       "<pre>recommendations finished on 8000/13856 queries. users per second: 53850.7</pre>"
      ],
      "text/plain": [
       "recommendations finished on 8000/13856 queries. users per second: 53850.7"
      ]
     },
     "metadata": {
      "tags": []
     },
     "output_type": "display_data"
    },
    {
     "data": {
      "text/html": [
       "<pre>recommendations finished on 9000/13856 queries. users per second: 55518.9</pre>"
      ],
      "text/plain": [
       "recommendations finished on 9000/13856 queries. users per second: 55518.9"
      ]
     },
     "metadata": {
      "tags": []
     },
     "output_type": "display_data"
    },
    {
     "data": {
      "text/html": [
       "<pre>recommendations finished on 10000/13856 queries. users per second: 56792</pre>"
      ],
      "text/plain": [
       "recommendations finished on 10000/13856 queries. users per second: 56792"
      ]
     },
     "metadata": {
      "tags": []
     },
     "output_type": "display_data"
    },
    {
     "data": {
      "text/html": [
       "<pre>recommendations finished on 11000/13856 queries. users per second: 58013.2</pre>"
      ],
      "text/plain": [
       "recommendations finished on 11000/13856 queries. users per second: 58013.2"
      ]
     },
     "metadata": {
      "tags": []
     },
     "output_type": "display_data"
    },
    {
     "data": {
      "text/html": [
       "<pre>recommendations finished on 12000/13856 queries. users per second: 57805.4</pre>"
      ],
      "text/plain": [
       "recommendations finished on 12000/13856 queries. users per second: 57805.4"
      ]
     },
     "metadata": {
      "tags": []
     },
     "output_type": "display_data"
    },
    {
     "data": {
      "text/html": [
       "<pre>recommendations finished on 13000/13856 queries. users per second: 55325.7</pre>"
      ],
      "text/plain": [
       "recommendations finished on 13000/13856 queries. users per second: 55325.7"
      ]
     },
     "metadata": {
      "tags": []
     },
     "output_type": "display_data"
    },
    {
     "name": "stdout",
     "output_type": "stream",
     "text": [
      "\n",
      "Precision and recall summary statistics by cutoff\n",
      "+--------+-----------------------+-----------------------+\n",
      "| cutoff |     mean_precision    |      mean_recall      |\n",
      "+--------+-----------------------+-----------------------+\n",
      "|   1    |  0.00108256351039261  | 0.0005335491586934968 |\n",
      "|   2    | 0.0009021362586605099 | 0.0009665745628505458 |\n",
      "|   3    |  0.002766551193225568 |  0.004019403662157683 |\n",
      "|   4    | 0.0033559468822170974 |  0.006494450286850699 |\n",
      "|   5    |  0.006885103926097012 |  0.018628337741091527 |\n",
      "|   6    |  0.007313317936874524 |  0.023420607914784897 |\n",
      "|   7    |  0.006619102606400533 |  0.024658940285839433 |\n",
      "|   8    |  0.00609844110854502  |  0.026038192068346074 |\n",
      "|   9    | 0.0058057480112907595 |  0.02788129940365914  |\n",
      "|   10   | 0.0057881062355658215 |  0.031253355861923716 |\n",
      "+--------+-----------------------+-----------------------+\n",
      "[10 rows x 3 columns]\n",
      "\n",
      "\n",
      "Overall RMSE: 1.0938488207270458\n",
      "\n",
      "Per User RMSE (best)\n",
      "+------------+------+-------+\n",
      "| customerId | rmse | count |\n",
      "+------------+------+-------+\n",
      "|    3086    | 0.0  |   1   |\n",
      "+------------+------+-------+\n",
      "[1 rows x 3 columns]\n",
      "\n",
      "\n",
      "Per User RMSE (worst)\n",
      "+------------+--------------------+-------+\n",
      "| customerId |        rmse        | count |\n",
      "+------------+--------------------+-------+\n",
      "|    1453    | 27.623208784892842 |   5   |\n",
      "+------------+--------------------+-------+\n",
      "[1 rows x 3 columns]\n",
      "\n",
      "\n",
      "Per Item RMSE (best)\n",
      "+-----------+---------------------+-------+\n",
      "| productId |         rmse        | count |\n",
      "+-----------+---------------------+-------+\n",
      "|    285    | 0.18324404897539237 |   68  |\n",
      "+-----------+---------------------+-------+\n",
      "[1 rows x 3 columns]\n",
      "\n",
      "\n",
      "Per Item RMSE (worst)\n",
      "+-----------+-------------------+-------+\n",
      "| productId |        rmse       | count |\n",
      "+-----------+-------------------+-------+\n",
      "|     82    | 9.482067220721799 |   45  |\n",
      "+-----------+-------------------+-------+\n",
      "[1 rows x 3 columns]\n",
      "\n",
      "PROGRESS: Evaluate model Cosine Similarity on Purchase Counts\n"
     ]
    },
    {
     "data": {
      "text/html": [
       "<pre>recommendations finished on 1000/13856 queries. users per second: 44361.6</pre>"
      ],
      "text/plain": [
       "recommendations finished on 1000/13856 queries. users per second: 44361.6"
      ]
     },
     "metadata": {
      "tags": []
     },
     "output_type": "display_data"
    },
    {
     "data": {
      "text/html": [
       "<pre>recommendations finished on 2000/13856 queries. users per second: 37868</pre>"
      ],
      "text/plain": [
       "recommendations finished on 2000/13856 queries. users per second: 37868"
      ]
     },
     "metadata": {
      "tags": []
     },
     "output_type": "display_data"
    },
    {
     "data": {
      "text/html": [
       "<pre>recommendations finished on 3000/13856 queries. users per second: 40082.8</pre>"
      ],
      "text/plain": [
       "recommendations finished on 3000/13856 queries. users per second: 40082.8"
      ]
     },
     "metadata": {
      "tags": []
     },
     "output_type": "display_data"
    },
    {
     "data": {
      "text/html": [
       "<pre>recommendations finished on 4000/13856 queries. users per second: 41012.6</pre>"
      ],
      "text/plain": [
       "recommendations finished on 4000/13856 queries. users per second: 41012.6"
      ]
     },
     "metadata": {
      "tags": []
     },
     "output_type": "display_data"
    },
    {
     "data": {
      "text/html": [
       "<pre>recommendations finished on 5000/13856 queries. users per second: 41908.7</pre>"
      ],
      "text/plain": [
       "recommendations finished on 5000/13856 queries. users per second: 41908.7"
      ]
     },
     "metadata": {
      "tags": []
     },
     "output_type": "display_data"
    },
    {
     "data": {
      "text/html": [
       "<pre>recommendations finished on 6000/13856 queries. users per second: 42807</pre>"
      ],
      "text/plain": [
       "recommendations finished on 6000/13856 queries. users per second: 42807"
      ]
     },
     "metadata": {
      "tags": []
     },
     "output_type": "display_data"
    },
    {
     "data": {
      "text/html": [
       "<pre>recommendations finished on 7000/13856 queries. users per second: 41842.8</pre>"
      ],
      "text/plain": [
       "recommendations finished on 7000/13856 queries. users per second: 41842.8"
      ]
     },
     "metadata": {
      "tags": []
     },
     "output_type": "display_data"
    },
    {
     "data": {
      "text/html": [
       "<pre>recommendations finished on 8000/13856 queries. users per second: 42577</pre>"
      ],
      "text/plain": [
       "recommendations finished on 8000/13856 queries. users per second: 42577"
      ]
     },
     "metadata": {
      "tags": []
     },
     "output_type": "display_data"
    },
    {
     "data": {
      "text/html": [
       "<pre>recommendations finished on 9000/13856 queries. users per second: 42671.8</pre>"
      ],
      "text/plain": [
       "recommendations finished on 9000/13856 queries. users per second: 42671.8"
      ]
     },
     "metadata": {
      "tags": []
     },
     "output_type": "display_data"
    },
    {
     "data": {
      "text/html": [
       "<pre>recommendations finished on 10000/13856 queries. users per second: 43339.6</pre>"
      ],
      "text/plain": [
       "recommendations finished on 10000/13856 queries. users per second: 43339.6"
      ]
     },
     "metadata": {
      "tags": []
     },
     "output_type": "display_data"
    },
    {
     "data": {
      "text/html": [
       "<pre>recommendations finished on 11000/13856 queries. users per second: 43255.5</pre>"
      ],
      "text/plain": [
       "recommendations finished on 11000/13856 queries. users per second: 43255.5"
      ]
     },
     "metadata": {
      "tags": []
     },
     "output_type": "display_data"
    },
    {
     "data": {
      "text/html": [
       "<pre>recommendations finished on 12000/13856 queries. users per second: 43480.8</pre>"
      ],
      "text/plain": [
       "recommendations finished on 12000/13856 queries. users per second: 43480.8"
      ]
     },
     "metadata": {
      "tags": []
     },
     "output_type": "display_data"
    },
    {
     "data": {
      "text/html": [
       "<pre>recommendations finished on 13000/13856 queries. users per second: 41824.9</pre>"
      ],
      "text/plain": [
       "recommendations finished on 13000/13856 queries. users per second: 41824.9"
      ]
     },
     "metadata": {
      "tags": []
     },
     "output_type": "display_data"
    },
    {
     "name": "stdout",
     "output_type": "stream",
     "text": [
      "\n",
      "Precision and recall summary statistics by cutoff\n",
      "+--------+----------------------+---------------------+\n",
      "| cutoff |    mean_precision    |     mean_recall     |\n",
      "+--------+----------------------+---------------------+\n",
      "|   1    |  0.1146073903002305  | 0.06729130020764029 |\n",
      "|   2    | 0.09577078521939966  | 0.11082678690863827 |\n",
      "|   3    | 0.08025404157043825  |  0.1373577328310975 |\n",
      "|   4    | 0.06937427829099273  | 0.15652858915914242 |\n",
      "|   5    | 0.06127309468822183  | 0.17131354915836378 |\n",
      "|   6    | 0.05498219784449591  |  0.1837126191102135 |\n",
      "|   7    | 0.05027218739689864  | 0.19531800065370916 |\n",
      "|   8    | 0.04689304272517341  | 0.20695190298117455 |\n",
      "|   9    | 0.043968116499871604 |  0.2176828879796243 |\n",
      "|   10   | 0.041202367205542885 | 0.22565637178668113 |\n",
      "+--------+----------------------+---------------------+\n",
      "[10 rows x 3 columns]\n",
      "\n",
      "\n",
      "Overall RMSE: 1.9244290168309925\n",
      "\n",
      "Per User RMSE (best)\n",
      "+------------+-------------------+-------+\n",
      "| customerId |        rmse       | count |\n",
      "+------------+-------------------+-------+\n",
      "|   23900    | 0.215065598487854 |   1   |\n",
      "+------------+-------------------+-------+\n",
      "[1 rows x 3 columns]\n",
      "\n",
      "\n",
      "Per User RMSE (worst)\n",
      "+------------+--------------------+-------+\n",
      "| customerId |        rmse        | count |\n",
      "+------------+--------------------+-------+\n",
      "|    1453    | 28.239920777971935 |   5   |\n",
      "+------------+--------------------+-------+\n",
      "[1 rows x 3 columns]\n",
      "\n",
      "\n",
      "Per Item RMSE (best)\n",
      "+-----------+-------------------+-------+\n",
      "| productId |        rmse       | count |\n",
      "+-----------+-------------------+-------+\n",
      "|    285    | 1.031420523606687 |   68  |\n",
      "+-----------+-------------------+-------+\n",
      "[1 rows x 3 columns]\n",
      "\n",
      "\n",
      "Per Item RMSE (worst)\n",
      "+-----------+-------------------+-------+\n",
      "| productId |        rmse       | count |\n",
      "+-----------+-------------------+-------+\n",
      "|     82    | 9.915650703069636 |   45  |\n",
      "+-----------+-------------------+-------+\n",
      "[1 rows x 3 columns]\n",
      "\n",
      "PROGRESS: Evaluate model Pearson Similarity on Purchase Counts\n"
     ]
    },
    {
     "data": {
      "text/html": [
       "<pre>recommendations finished on 1000/13856 queries. users per second: 40980.2</pre>"
      ],
      "text/plain": [
       "recommendations finished on 1000/13856 queries. users per second: 40980.2"
      ]
     },
     "metadata": {
      "tags": []
     },
     "output_type": "display_data"
    },
    {
     "data": {
      "text/html": [
       "<pre>recommendations finished on 2000/13856 queries. users per second: 37679</pre>"
      ],
      "text/plain": [
       "recommendations finished on 2000/13856 queries. users per second: 37679"
      ]
     },
     "metadata": {
      "tags": []
     },
     "output_type": "display_data"
    },
    {
     "data": {
      "text/html": [
       "<pre>recommendations finished on 3000/13856 queries. users per second: 39031.5</pre>"
      ],
      "text/plain": [
       "recommendations finished on 3000/13856 queries. users per second: 39031.5"
      ]
     },
     "metadata": {
      "tags": []
     },
     "output_type": "display_data"
    },
    {
     "data": {
      "text/html": [
       "<pre>recommendations finished on 4000/13856 queries. users per second: 40627.3</pre>"
      ],
      "text/plain": [
       "recommendations finished on 4000/13856 queries. users per second: 40627.3"
      ]
     },
     "metadata": {
      "tags": []
     },
     "output_type": "display_data"
    },
    {
     "data": {
      "text/html": [
       "<pre>recommendations finished on 5000/13856 queries. users per second: 41299.1</pre>"
      ],
      "text/plain": [
       "recommendations finished on 5000/13856 queries. users per second: 41299.1"
      ]
     },
     "metadata": {
      "tags": []
     },
     "output_type": "display_data"
    },
    {
     "data": {
      "text/html": [
       "<pre>recommendations finished on 6000/13856 queries. users per second: 41002.4</pre>"
      ],
      "text/plain": [
       "recommendations finished on 6000/13856 queries. users per second: 41002.4"
      ]
     },
     "metadata": {
      "tags": []
     },
     "output_type": "display_data"
    },
    {
     "data": {
      "text/html": [
       "<pre>recommendations finished on 7000/13856 queries. users per second: 40043.7</pre>"
      ],
      "text/plain": [
       "recommendations finished on 7000/13856 queries. users per second: 40043.7"
      ]
     },
     "metadata": {
      "tags": []
     },
     "output_type": "display_data"
    },
    {
     "data": {
      "text/html": [
       "<pre>recommendations finished on 8000/13856 queries. users per second: 39711.1</pre>"
      ],
      "text/plain": [
       "recommendations finished on 8000/13856 queries. users per second: 39711.1"
      ]
     },
     "metadata": {
      "tags": []
     },
     "output_type": "display_data"
    },
    {
     "data": {
      "text/html": [
       "<pre>recommendations finished on 9000/13856 queries. users per second: 40458.7</pre>"
      ],
      "text/plain": [
       "recommendations finished on 9000/13856 queries. users per second: 40458.7"
      ]
     },
     "metadata": {
      "tags": []
     },
     "output_type": "display_data"
    },
    {
     "data": {
      "text/html": [
       "<pre>recommendations finished on 10000/13856 queries. users per second: 40686.1</pre>"
      ],
      "text/plain": [
       "recommendations finished on 10000/13856 queries. users per second: 40686.1"
      ]
     },
     "metadata": {
      "tags": []
     },
     "output_type": "display_data"
    },
    {
     "data": {
      "text/html": [
       "<pre>recommendations finished on 11000/13856 queries. users per second: 41140.6</pre>"
      ],
      "text/plain": [
       "recommendations finished on 11000/13856 queries. users per second: 41140.6"
      ]
     },
     "metadata": {
      "tags": []
     },
     "output_type": "display_data"
    },
    {
     "data": {
      "text/html": [
       "<pre>recommendations finished on 12000/13856 queries. users per second: 41523.4</pre>"
      ],
      "text/plain": [
       "recommendations finished on 12000/13856 queries. users per second: 41523.4"
      ]
     },
     "metadata": {
      "tags": []
     },
     "output_type": "display_data"
    },
    {
     "data": {
      "text/html": [
       "<pre>recommendations finished on 13000/13856 queries. users per second: 41480.4</pre>"
      ],
      "text/plain": [
       "recommendations finished on 13000/13856 queries. users per second: 41480.4"
      ]
     },
     "metadata": {
      "tags": []
     },
     "output_type": "display_data"
    },
    {
     "name": "stdout",
     "output_type": "stream",
     "text": [
      "\n",
      "Precision and recall summary statistics by cutoff\n",
      "+--------+-----------------------+-----------------------+\n",
      "| cutoff |     mean_precision    |      mean_recall      |\n",
      "+--------+-----------------------+-----------------------+\n",
      "|   1    | 0.0010825635103926085 | 0.0005335491586934974 |\n",
      "|   2    | 0.0009021362586605125 | 0.0009665745628505469 |\n",
      "|   3    |  0.002670323325635082 | 0.0038991188276696386 |\n",
      "|   4    |  0.004294168591224017 |  0.008912776884233298 |\n",
      "|   5    |  0.006899538106235589 |  0.01870050864178426  |\n",
      "|   6    |  0.007349403387220945 |  0.023637120616863343 |\n",
      "|   7    |  0.006639722863741344 |  0.02480328208722529  |\n",
      "|   8    |  0.006125505196304863 |  0.02626071901214909  |\n",
      "|   9    |  0.005845842956120112 |  0.028242153907123403 |\n",
      "|   10   |  0.005795323325635103 |  0.03137364069641161  |\n",
      "+--------+-----------------------+-----------------------+\n",
      "[10 rows x 3 columns]\n",
      "\n",
      "\n",
      "Overall RMSE: 1.0909592024577166\n",
      "\n",
      "Per User RMSE (best)\n",
      "+------------+-----------------------+-------+\n",
      "| customerId |          rmse         | count |\n",
      "+------------+-----------------------+-------+\n",
      "|   15122    | 8.236331121658225e-05 |   1   |\n",
      "+------------+-----------------------+-------+\n",
      "[1 rows x 3 columns]\n",
      "\n",
      "\n",
      "Per User RMSE (worst)\n",
      "+------------+--------------------+-------+\n",
      "| customerId |        rmse        | count |\n",
      "+------------+--------------------+-------+\n",
      "|    1453    | 27.597278219054193 |   5   |\n",
      "+------------+--------------------+-------+\n",
      "[1 rows x 3 columns]\n",
      "\n",
      "\n",
      "Per Item RMSE (best)\n",
      "+-----------+---------------------+-------+\n",
      "| productId |         rmse        | count |\n",
      "+-----------+---------------------+-------+\n",
      "|    285    | 0.18295467641273983 |   68  |\n",
      "+-----------+---------------------+-------+\n",
      "[1 rows x 3 columns]\n",
      "\n",
      "\n",
      "Per Item RMSE (worst)\n",
      "+-----------+-------------------+-------+\n",
      "| productId |        rmse       | count |\n",
      "+-----------+-------------------+-------+\n",
      "|     82    | 9.473711991634133 |   45  |\n",
      "+-----------+-------------------+-------+\n",
      "[1 rows x 3 columns]\n",
      "\n"
     ]
    }
   ],
   "source": [
    "eval_counts = tc.recommender.util.compare_models(test_data, models_w_counts, model_names=names_w_counts)"
   ]
  },
  {
   "cell_type": "markdown",
   "metadata": {
    "colab_type": "text",
    "id": "MaxwRgBQPM6Y"
   },
   "source": [
    "#### Models on purchase dummy"
   ]
  },
  {
   "cell_type": "code",
   "execution_count": 42,
   "metadata": {
    "colab": {
     "base_uri": "https://localhost:8080/",
     "height": 1000
    },
    "colab_type": "code",
    "id": "PPz1brjvPM6Z",
    "outputId": "47b5f842-2a25-4cef-e14e-cde0564b63d2",
    "scrolled": false
   },
   "outputs": [
    {
     "name": "stdout",
     "output_type": "stream",
     "text": [
      "PROGRESS: Evaluate model Popularity Model on Purchase Dummy\n"
     ]
    },
    {
     "data": {
      "text/html": [
       "<pre>recommendations finished on 1000/13944 queries. users per second: 61087.4</pre>"
      ],
      "text/plain": [
       "recommendations finished on 1000/13944 queries. users per second: 61087.4"
      ]
     },
     "metadata": {
      "tags": []
     },
     "output_type": "display_data"
    },
    {
     "data": {
      "text/html": [
       "<pre>recommendations finished on 2000/13944 queries. users per second: 58508.6</pre>"
      ],
      "text/plain": [
       "recommendations finished on 2000/13944 queries. users per second: 58508.6"
      ]
     },
     "metadata": {
      "tags": []
     },
     "output_type": "display_data"
    },
    {
     "data": {
      "text/html": [
       "<pre>recommendations finished on 3000/13944 queries. users per second: 62862.8</pre>"
      ],
      "text/plain": [
       "recommendations finished on 3000/13944 queries. users per second: 62862.8"
      ]
     },
     "metadata": {
      "tags": []
     },
     "output_type": "display_data"
    },
    {
     "data": {
      "text/html": [
       "<pre>recommendations finished on 4000/13944 queries. users per second: 65211.4</pre>"
      ],
      "text/plain": [
       "recommendations finished on 4000/13944 queries. users per second: 65211.4"
      ]
     },
     "metadata": {
      "tags": []
     },
     "output_type": "display_data"
    },
    {
     "data": {
      "text/html": [
       "<pre>recommendations finished on 5000/13944 queries. users per second: 68306</pre>"
      ],
      "text/plain": [
       "recommendations finished on 5000/13944 queries. users per second: 68306"
      ]
     },
     "metadata": {
      "tags": []
     },
     "output_type": "display_data"
    },
    {
     "data": {
      "text/html": [
       "<pre>recommendations finished on 6000/13944 queries. users per second: 67444.5</pre>"
      ],
      "text/plain": [
       "recommendations finished on 6000/13944 queries. users per second: 67444.5"
      ]
     },
     "metadata": {
      "tags": []
     },
     "output_type": "display_data"
    },
    {
     "data": {
      "text/html": [
       "<pre>recommendations finished on 7000/13944 queries. users per second: 64858.1</pre>"
      ],
      "text/plain": [
       "recommendations finished on 7000/13944 queries. users per second: 64858.1"
      ]
     },
     "metadata": {
      "tags": []
     },
     "output_type": "display_data"
    },
    {
     "data": {
      "text/html": [
       "<pre>recommendations finished on 8000/13944 queries. users per second: 61995.3</pre>"
      ],
      "text/plain": [
       "recommendations finished on 8000/13944 queries. users per second: 61995.3"
      ]
     },
     "metadata": {
      "tags": []
     },
     "output_type": "display_data"
    },
    {
     "data": {
      "text/html": [
       "<pre>recommendations finished on 9000/13944 queries. users per second: 63320.1</pre>"
      ],
      "text/plain": [
       "recommendations finished on 9000/13944 queries. users per second: 63320.1"
      ]
     },
     "metadata": {
      "tags": []
     },
     "output_type": "display_data"
    },
    {
     "data": {
      "text/html": [
       "<pre>recommendations finished on 10000/13944 queries. users per second: 64233.5</pre>"
      ],
      "text/plain": [
       "recommendations finished on 10000/13944 queries. users per second: 64233.5"
      ]
     },
     "metadata": {
      "tags": []
     },
     "output_type": "display_data"
    },
    {
     "data": {
      "text/html": [
       "<pre>recommendations finished on 11000/13944 queries. users per second: 65560.5</pre>"
      ],
      "text/plain": [
       "recommendations finished on 11000/13944 queries. users per second: 65560.5"
      ]
     },
     "metadata": {
      "tags": []
     },
     "output_type": "display_data"
    },
    {
     "data": {
      "text/html": [
       "<pre>recommendations finished on 12000/13944 queries. users per second: 66385.3</pre>"
      ],
      "text/plain": [
       "recommendations finished on 12000/13944 queries. users per second: 66385.3"
      ]
     },
     "metadata": {
      "tags": []
     },
     "output_type": "display_data"
    },
    {
     "data": {
      "text/html": [
       "<pre>recommendations finished on 13000/13944 queries. users per second: 62662.7</pre>"
      ],
      "text/plain": [
       "recommendations finished on 13000/13944 queries. users per second: 62662.7"
      ]
     },
     "metadata": {
      "tags": []
     },
     "output_type": "display_data"
    },
    {
     "name": "stdout",
     "output_type": "stream",
     "text": [
      "\n",
      "Precision and recall summary statistics by cutoff\n",
      "+--------+-----------------------+----------------------+\n",
      "| cutoff |     mean_precision    |     mean_recall      |\n",
      "+--------+-----------------------+----------------------+\n",
      "|   1    |  0.005306942053930007 | 0.002646640985711549 |\n",
      "|   2    |  0.006024096385542173 | 0.006420523363294428 |\n",
      "|   3    | 0.0060958118187033885 | 0.00962463362958202  |\n",
      "|   4    |  0.005773092369477923 | 0.01216364713567811  |\n",
      "|   5    |  0.005464716006884687 | 0.014559198729809767 |\n",
      "|   6    |  0.005055938037865744 | 0.01575180930817765  |\n",
      "|   7    |  0.004794688959921325 | 0.01734487265479288  |\n",
      "|   8    |  0.004751147446930573 | 0.01943765679899703  |\n",
      "|   9    |  0.004757123733027372 | 0.021808352475953526 |\n",
      "|   10   |  0.004783419391853151 | 0.024014600680480523 |\n",
      "+--------+-----------------------+----------------------+\n",
      "[10 rows x 3 columns]\n",
      "\n",
      "\n",
      "Overall RMSE: 0.0\n",
      "\n",
      "Per User RMSE (best)\n",
      "+------------+------+-------+\n",
      "| customerId | rmse | count |\n",
      "+------------+------+-------+\n",
      "|   15095    | 0.0  |   2   |\n",
      "+------------+------+-------+\n",
      "[1 rows x 3 columns]\n",
      "\n",
      "\n",
      "Per User RMSE (worst)\n",
      "+------------+------+-------+\n",
      "| customerId | rmse | count |\n",
      "+------------+------+-------+\n",
      "|   15376    | 0.0  |   2   |\n",
      "+------------+------+-------+\n",
      "[1 rows x 3 columns]\n",
      "\n",
      "\n",
      "Per Item RMSE (best)\n",
      "+-----------+------+-------+\n",
      "| productId | rmse | count |\n",
      "+-----------+------+-------+\n",
      "|    149    | 0.0  |   90  |\n",
      "+-----------+------+-------+\n",
      "[1 rows x 3 columns]\n",
      "\n",
      "\n",
      "Per Item RMSE (worst)\n",
      "+-----------+------+-------+\n",
      "| productId | rmse | count |\n",
      "+-----------+------+-------+\n",
      "|    118    | 0.0  |   38  |\n",
      "+-----------+------+-------+\n",
      "[1 rows x 3 columns]\n",
      "\n",
      "PROGRESS: Evaluate model Cosine Similarity on Purchase Dummy\n"
     ]
    },
    {
     "data": {
      "text/html": [
       "<pre>recommendations finished on 1000/13944 queries. users per second: 43898.2</pre>"
      ],
      "text/plain": [
       "recommendations finished on 1000/13944 queries. users per second: 43898.2"
      ]
     },
     "metadata": {
      "tags": []
     },
     "output_type": "display_data"
    },
    {
     "data": {
      "text/html": [
       "<pre>recommendations finished on 2000/13944 queries. users per second: 40728.2</pre>"
      ],
      "text/plain": [
       "recommendations finished on 2000/13944 queries. users per second: 40728.2"
      ]
     },
     "metadata": {
      "tags": []
     },
     "output_type": "display_data"
    },
    {
     "data": {
      "text/html": [
       "<pre>recommendations finished on 3000/13944 queries. users per second: 42533.3</pre>"
      ],
      "text/plain": [
       "recommendations finished on 3000/13944 queries. users per second: 42533.3"
      ]
     },
     "metadata": {
      "tags": []
     },
     "output_type": "display_data"
    },
    {
     "data": {
      "text/html": [
       "<pre>recommendations finished on 4000/13944 queries. users per second: 43088.6</pre>"
      ],
      "text/plain": [
       "recommendations finished on 4000/13944 queries. users per second: 43088.6"
      ]
     },
     "metadata": {
      "tags": []
     },
     "output_type": "display_data"
    },
    {
     "data": {
      "text/html": [
       "<pre>recommendations finished on 5000/13944 queries. users per second: 44193.4</pre>"
      ],
      "text/plain": [
       "recommendations finished on 5000/13944 queries. users per second: 44193.4"
      ]
     },
     "metadata": {
      "tags": []
     },
     "output_type": "display_data"
    },
    {
     "data": {
      "text/html": [
       "<pre>recommendations finished on 6000/13944 queries. users per second: 44142.3</pre>"
      ],
      "text/plain": [
       "recommendations finished on 6000/13944 queries. users per second: 44142.3"
      ]
     },
     "metadata": {
      "tags": []
     },
     "output_type": "display_data"
    },
    {
     "data": {
      "text/html": [
       "<pre>recommendations finished on 7000/13944 queries. users per second: 43786.7</pre>"
      ],
      "text/plain": [
       "recommendations finished on 7000/13944 queries. users per second: 43786.7"
      ]
     },
     "metadata": {
      "tags": []
     },
     "output_type": "display_data"
    },
    {
     "data": {
      "text/html": [
       "<pre>recommendations finished on 8000/13944 queries. users per second: 43781.9</pre>"
      ],
      "text/plain": [
       "recommendations finished on 8000/13944 queries. users per second: 43781.9"
      ]
     },
     "metadata": {
      "tags": []
     },
     "output_type": "display_data"
    },
    {
     "data": {
      "text/html": [
       "<pre>recommendations finished on 9000/13944 queries. users per second: 44178.3</pre>"
      ],
      "text/plain": [
       "recommendations finished on 9000/13944 queries. users per second: 44178.3"
      ]
     },
     "metadata": {
      "tags": []
     },
     "output_type": "display_data"
    },
    {
     "data": {
      "text/html": [
       "<pre>recommendations finished on 10000/13944 queries. users per second: 44388.6</pre>"
      ],
      "text/plain": [
       "recommendations finished on 10000/13944 queries. users per second: 44388.6"
      ]
     },
     "metadata": {
      "tags": []
     },
     "output_type": "display_data"
    },
    {
     "data": {
      "text/html": [
       "<pre>recommendations finished on 11000/13944 queries. users per second: 44897.8</pre>"
      ],
      "text/plain": [
       "recommendations finished on 11000/13944 queries. users per second: 44897.8"
      ]
     },
     "metadata": {
      "tags": []
     },
     "output_type": "display_data"
    },
    {
     "data": {
      "text/html": [
       "<pre>recommendations finished on 12000/13944 queries. users per second: 45049.4</pre>"
      ],
      "text/plain": [
       "recommendations finished on 12000/13944 queries. users per second: 45049.4"
      ]
     },
     "metadata": {
      "tags": []
     },
     "output_type": "display_data"
    },
    {
     "data": {
      "text/html": [
       "<pre>recommendations finished on 13000/13944 queries. users per second: 43385.8</pre>"
      ],
      "text/plain": [
       "recommendations finished on 13000/13944 queries. users per second: 43385.8"
      ]
     },
     "metadata": {
      "tags": []
     },
     "output_type": "display_data"
    },
    {
     "name": "stdout",
     "output_type": "stream",
     "text": [
      "\n",
      "Precision and recall summary statistics by cutoff\n",
      "+--------+----------------------+---------------------+\n",
      "| cutoff |    mean_precision    |     mean_recall     |\n",
      "+--------+----------------------+---------------------+\n",
      "|   1    | 0.12220309810671286  |  0.0711984141285199 |\n",
      "|   2    | 0.09642139988525472  |  0.1101575463697083 |\n",
      "|   3    | 0.08211417096959273  | 0.13850551402305103 |\n",
      "|   4    | 0.07198436603557043  | 0.16008376525502574 |\n",
      "|   5    | 0.06394148020654067  | 0.17673853411856877 |\n",
      "|   6    | 0.058065595716198286 | 0.19108493802265958 |\n",
      "|   7    | 0.05293623473485768  | 0.20186450834396769 |\n",
      "|   8    | 0.04916989386115885  | 0.21326791934935804 |\n",
      "|   9    | 0.045794288264167655 |  0.2225241021460714 |\n",
      "|   10   | 0.04333763625932283  | 0.23268339499652782 |\n",
      "+--------+----------------------+---------------------+\n",
      "[10 rows x 3 columns]\n",
      "\n",
      "\n",
      "Overall RMSE: 0.9694624626504055\n",
      "\n",
      "Per User RMSE (best)\n",
      "+------------+---------------------+-------+\n",
      "| customerId |         rmse        | count |\n",
      "+------------+---------------------+-------+\n",
      "|   21934    | 0.41214168071746826 |   1   |\n",
      "+------------+---------------------+-------+\n",
      "[1 rows x 3 columns]\n",
      "\n",
      "\n",
      "Per User RMSE (worst)\n",
      "+------------+------+-------+\n",
      "| customerId | rmse | count |\n",
      "+------------+------+-------+\n",
      "|   15376    | 1.0  |   2   |\n",
      "+------------+------+-------+\n",
      "[1 rows x 3 columns]\n",
      "\n",
      "\n",
      "Per Item RMSE (best)\n",
      "+-----------+--------------------+-------+\n",
      "| productId |        rmse        | count |\n",
      "+-----------+--------------------+-------+\n",
      "|     48    | 0.8787653117096106 |  127  |\n",
      "+-----------+--------------------+-------+\n",
      "[1 rows x 3 columns]\n",
      "\n",
      "\n",
      "Per Item RMSE (worst)\n",
      "+-----------+--------------------+-------+\n",
      "| productId |        rmse        | count |\n",
      "+-----------+--------------------+-------+\n",
      "|    125    | 0.9996302405747317 |   31  |\n",
      "+-----------+--------------------+-------+\n",
      "[1 rows x 3 columns]\n",
      "\n",
      "PROGRESS: Evaluate model Pearson Similarity on Purchase Dummy\n"
     ]
    },
    {
     "data": {
      "text/html": [
       "<pre>recommendations finished on 1000/13944 queries. users per second: 59252.2</pre>"
      ],
      "text/plain": [
       "recommendations finished on 1000/13944 queries. users per second: 59252.2"
      ]
     },
     "metadata": {
      "tags": []
     },
     "output_type": "display_data"
    },
    {
     "data": {
      "text/html": [
       "<pre>recommendations finished on 2000/13944 queries. users per second: 48014.6</pre>"
      ],
      "text/plain": [
       "recommendations finished on 2000/13944 queries. users per second: 48014.6"
      ]
     },
     "metadata": {
      "tags": []
     },
     "output_type": "display_data"
    },
    {
     "data": {
      "text/html": [
       "<pre>recommendations finished on 3000/13944 queries. users per second: 52816</pre>"
      ],
      "text/plain": [
       "recommendations finished on 3000/13944 queries. users per second: 52816"
      ]
     },
     "metadata": {
      "tags": []
     },
     "output_type": "display_data"
    },
    {
     "data": {
      "text/html": [
       "<pre>recommendations finished on 4000/13944 queries. users per second: 54259.4</pre>"
      ],
      "text/plain": [
       "recommendations finished on 4000/13944 queries. users per second: 54259.4"
      ]
     },
     "metadata": {
      "tags": []
     },
     "output_type": "display_data"
    },
    {
     "data": {
      "text/html": [
       "<pre>recommendations finished on 5000/13944 queries. users per second: 54939</pre>"
      ],
      "text/plain": [
       "recommendations finished on 5000/13944 queries. users per second: 54939"
      ]
     },
     "metadata": {
      "tags": []
     },
     "output_type": "display_data"
    },
    {
     "data": {
      "text/html": [
       "<pre>recommendations finished on 6000/13944 queries. users per second: 56989.8</pre>"
      ],
      "text/plain": [
       "recommendations finished on 6000/13944 queries. users per second: 56989.8"
      ]
     },
     "metadata": {
      "tags": []
     },
     "output_type": "display_data"
    },
    {
     "data": {
      "text/html": [
       "<pre>recommendations finished on 7000/13944 queries. users per second: 54883.5</pre>"
      ],
      "text/plain": [
       "recommendations finished on 7000/13944 queries. users per second: 54883.5"
      ]
     },
     "metadata": {
      "tags": []
     },
     "output_type": "display_data"
    },
    {
     "data": {
      "text/html": [
       "<pre>recommendations finished on 8000/13944 queries. users per second: 55305.5</pre>"
      ],
      "text/plain": [
       "recommendations finished on 8000/13944 queries. users per second: 55305.5"
      ]
     },
     "metadata": {
      "tags": []
     },
     "output_type": "display_data"
    },
    {
     "data": {
      "text/html": [
       "<pre>recommendations finished on 9000/13944 queries. users per second: 54455.4</pre>"
      ],
      "text/plain": [
       "recommendations finished on 9000/13944 queries. users per second: 54455.4"
      ]
     },
     "metadata": {
      "tags": []
     },
     "output_type": "display_data"
    },
    {
     "data": {
      "text/html": [
       "<pre>recommendations finished on 10000/13944 queries. users per second: 54208.5</pre>"
      ],
      "text/plain": [
       "recommendations finished on 10000/13944 queries. users per second: 54208.5"
      ]
     },
     "metadata": {
      "tags": []
     },
     "output_type": "display_data"
    },
    {
     "data": {
      "text/html": [
       "<pre>recommendations finished on 11000/13944 queries. users per second: 55393.3</pre>"
      ],
      "text/plain": [
       "recommendations finished on 11000/13944 queries. users per second: 55393.3"
      ]
     },
     "metadata": {
      "tags": []
     },
     "output_type": "display_data"
    },
    {
     "data": {
      "text/html": [
       "<pre>recommendations finished on 12000/13944 queries. users per second: 55687.3</pre>"
      ],
      "text/plain": [
       "recommendations finished on 12000/13944 queries. users per second: 55687.3"
      ]
     },
     "metadata": {
      "tags": []
     },
     "output_type": "display_data"
    },
    {
     "data": {
      "text/html": [
       "<pre>recommendations finished on 13000/13944 queries. users per second: 52783.1</pre>"
      ],
      "text/plain": [
       "recommendations finished on 13000/13944 queries. users per second: 52783.1"
      ]
     },
     "metadata": {
      "tags": []
     },
     "output_type": "display_data"
    },
    {
     "name": "stdout",
     "output_type": "stream",
     "text": [
      "\n",
      "Precision and recall summary statistics by cutoff\n",
      "+--------+-----------------------+-----------------------+\n",
      "| cutoff |     mean_precision    |      mean_recall      |\n",
      "+--------+-----------------------+-----------------------+\n",
      "|   1    |  0.005306942053929974 |  0.002646640985711559 |\n",
      "|   2    |  0.006024096385542138 | 0.0064205233632944414 |\n",
      "|   3    |  0.006095811818703401 |  0.009624633629582022 |\n",
      "|   4    | 0.0057730923694779305 |  0.012163647135678154 |\n",
      "|   5    |  0.005464716006884674 |  0.014559198729809803 |\n",
      "|   6    |  0.00505593803786575  |  0.01575180930817772  |\n",
      "|   7    |  0.00479468895992131  |  0.017344872654792946 |\n",
      "|   8    |  0.004751147446930579 |  0.01943765679899696  |\n",
      "|   9    | 0.0047571237330273405 |  0.021808352475953537 |\n",
      "|   10   | 0.0047834193918531295 |  0.024014600680480627 |\n",
      "+--------+-----------------------+-----------------------+\n",
      "[10 rows x 3 columns]\n",
      "\n",
      "\n",
      "Overall RMSE: 1.0\n",
      "\n",
      "Per User RMSE (best)\n",
      "+------------+------+-------+\n",
      "| customerId | rmse | count |\n",
      "+------------+------+-------+\n",
      "|   15095    | 1.0  |   2   |\n",
      "+------------+------+-------+\n",
      "[1 rows x 3 columns]\n",
      "\n",
      "\n",
      "Per User RMSE (worst)\n",
      "+------------+------+-------+\n",
      "| customerId | rmse | count |\n",
      "+------------+------+-------+\n",
      "|   15376    | 1.0  |   2   |\n",
      "+------------+------+-------+\n",
      "[1 rows x 3 columns]\n",
      "\n",
      "\n",
      "Per Item RMSE (best)\n",
      "+-----------+------+-------+\n",
      "| productId | rmse | count |\n",
      "+-----------+------+-------+\n",
      "|    149    | 1.0  |   90  |\n",
      "+-----------+------+-------+\n",
      "[1 rows x 3 columns]\n",
      "\n",
      "\n",
      "Per Item RMSE (worst)\n",
      "+-----------+------+-------+\n",
      "| productId | rmse | count |\n",
      "+-----------+------+-------+\n",
      "|    118    | 1.0  |   38  |\n",
      "+-----------+------+-------+\n",
      "[1 rows x 3 columns]\n",
      "\n"
     ]
    }
   ],
   "source": [
    "eval_dummy = tc.recommender.util.compare_models(test_data_dummy, models_w_dummy, model_names=names_w_dummy)"
   ]
  },
  {
   "cell_type": "markdown",
   "metadata": {
    "colab_type": "text",
    "id": "qxBl2lAzPM6b"
   },
   "source": [
    "#### Models on normalized purchase frequency"
   ]
  },
  {
   "cell_type": "code",
   "execution_count": 43,
   "metadata": {
    "colab": {
     "base_uri": "https://localhost:8080/",
     "height": 1000
    },
    "colab_type": "code",
    "id": "mNX44MNkPM6b",
    "outputId": "0560a050-d49b-40d5-a180-fa9b7ca652d0",
    "scrolled": false
   },
   "outputs": [
    {
     "name": "stdout",
     "output_type": "stream",
     "text": [
      "PROGRESS: Evaluate model Popularity Model on Scaled Purchase Counts\n"
     ]
    },
    {
     "data": {
      "text/html": [
       "<pre>recommendations finished on 1000/13902 queries. users per second: 52606.7</pre>"
      ],
      "text/plain": [
       "recommendations finished on 1000/13902 queries. users per second: 52606.7"
      ]
     },
     "metadata": {
      "tags": []
     },
     "output_type": "display_data"
    },
    {
     "data": {
      "text/html": [
       "<pre>recommendations finished on 2000/13902 queries. users per second: 51729</pre>"
      ],
      "text/plain": [
       "recommendations finished on 2000/13902 queries. users per second: 51729"
      ]
     },
     "metadata": {
      "tags": []
     },
     "output_type": "display_data"
    },
    {
     "data": {
      "text/html": [
       "<pre>recommendations finished on 3000/13902 queries. users per second: 55451.8</pre>"
      ],
      "text/plain": [
       "recommendations finished on 3000/13902 queries. users per second: 55451.8"
      ]
     },
     "metadata": {
      "tags": []
     },
     "output_type": "display_data"
    },
    {
     "data": {
      "text/html": [
       "<pre>recommendations finished on 4000/13902 queries. users per second: 57327.1</pre>"
      ],
      "text/plain": [
       "recommendations finished on 4000/13902 queries. users per second: 57327.1"
      ]
     },
     "metadata": {
      "tags": []
     },
     "output_type": "display_data"
    },
    {
     "data": {
      "text/html": [
       "<pre>recommendations finished on 5000/13902 queries. users per second: 58273.7</pre>"
      ],
      "text/plain": [
       "recommendations finished on 5000/13902 queries. users per second: 58273.7"
      ]
     },
     "metadata": {
      "tags": []
     },
     "output_type": "display_data"
    },
    {
     "data": {
      "text/html": [
       "<pre>recommendations finished on 6000/13902 queries. users per second: 57026.6</pre>"
      ],
      "text/plain": [
       "recommendations finished on 6000/13902 queries. users per second: 57026.6"
      ]
     },
     "metadata": {
      "tags": []
     },
     "output_type": "display_data"
    },
    {
     "data": {
      "text/html": [
       "<pre>recommendations finished on 7000/13902 queries. users per second: 55604.1</pre>"
      ],
      "text/plain": [
       "recommendations finished on 7000/13902 queries. users per second: 55604.1"
      ]
     },
     "metadata": {
      "tags": []
     },
     "output_type": "display_data"
    },
    {
     "data": {
      "text/html": [
       "<pre>recommendations finished on 8000/13902 queries. users per second: 56095.5</pre>"
      ],
      "text/plain": [
       "recommendations finished on 8000/13902 queries. users per second: 56095.5"
      ]
     },
     "metadata": {
      "tags": []
     },
     "output_type": "display_data"
    },
    {
     "data": {
      "text/html": [
       "<pre>recommendations finished on 9000/13902 queries. users per second: 57025.2</pre>"
      ],
      "text/plain": [
       "recommendations finished on 9000/13902 queries. users per second: 57025.2"
      ]
     },
     "metadata": {
      "tags": []
     },
     "output_type": "display_data"
    },
    {
     "data": {
      "text/html": [
       "<pre>recommendations finished on 10000/13902 queries. users per second: 58341.7</pre>"
      ],
      "text/plain": [
       "recommendations finished on 10000/13902 queries. users per second: 58341.7"
      ]
     },
     "metadata": {
      "tags": []
     },
     "output_type": "display_data"
    },
    {
     "data": {
      "text/html": [
       "<pre>recommendations finished on 11000/13902 queries. users per second: 57818.7</pre>"
      ],
      "text/plain": [
       "recommendations finished on 11000/13902 queries. users per second: 57818.7"
      ]
     },
     "metadata": {
      "tags": []
     },
     "output_type": "display_data"
    },
    {
     "data": {
      "text/html": [
       "<pre>recommendations finished on 12000/13902 queries. users per second: 58159.5</pre>"
      ],
      "text/plain": [
       "recommendations finished on 12000/13902 queries. users per second: 58159.5"
      ]
     },
     "metadata": {
      "tags": []
     },
     "output_type": "display_data"
    },
    {
     "data": {
      "text/html": [
       "<pre>recommendations finished on 13000/13902 queries. users per second: 54352.4</pre>"
      ],
      "text/plain": [
       "recommendations finished on 13000/13902 queries. users per second: 54352.4"
      ]
     },
     "metadata": {
      "tags": []
     },
     "output_type": "display_data"
    },
    {
     "name": "stdout",
     "output_type": "stream",
     "text": [
      "\n",
      "Precision and recall summary statistics by cutoff\n",
      "+--------+-----------------------+-----------------------+\n",
      "| cutoff |     mean_precision    |      mean_recall      |\n",
      "+--------+-----------------------+-----------------------+\n",
      "|   1    |  0.002301827075240959 | 0.0013465288767403583 |\n",
      "|   2    | 0.0020860307869371283 |  0.002178543454978506 |\n",
      "|   3    |  0.002014098690835855 |  0.003324661519525573 |\n",
      "|   4    |  0.002068047762911803 |  0.004630174569751619 |\n",
      "|   5    | 0.0022298949791396887 |  0.006361556294471808 |\n",
      "|   6    | 0.0033448424687095558 |  0.011385401362367467 |\n",
      "|   7    |  0.002969767967610004 |  0.01180460563353546  |\n",
      "|   8    |  0.00268846209178535  |  0.012076748730452001 |\n",
      "|   9    | 0.0025815630045237293 |  0.012992390721213767 |\n",
      "|   10   | 0.0027478060710689175 |  0.01511390489495065  |\n",
      "+--------+-----------------------+-----------------------+\n",
      "[10 rows x 3 columns]\n",
      "\n",
      "\n",
      "Overall RMSE: 0.13241807080730894\n",
      "\n",
      "Per User RMSE (best)\n",
      "+------------+-----------------------+-------+\n",
      "| customerId |          rmse         | count |\n",
      "+------------+-----------------------+-------+\n",
      "|   23228    | 2.220446049250313e-16 |   1   |\n",
      "+------------+-----------------------+-------+\n",
      "[1 rows x 3 columns]\n",
      "\n",
      "\n",
      "Per User RMSE (worst)\n",
      "+------------+-------------------+-------+\n",
      "| customerId |        rmse       | count |\n",
      "+------------+-------------------+-------+\n",
      "|    3369    | 0.965682362330407 |   1   |\n",
      "+------------+-------------------+-------+\n",
      "[1 rows x 3 columns]\n",
      "\n",
      "\n",
      "Per Item RMSE (best)\n",
      "+-----------+---------------------+-------+\n",
      "| productId |         rmse        | count |\n",
      "+-----------+---------------------+-------+\n",
      "|    173    | 0.02189644088247183 |   40  |\n",
      "+-----------+---------------------+-------+\n",
      "[1 rows x 3 columns]\n",
      "\n",
      "\n",
      "Per Item RMSE (worst)\n",
      "+-----------+--------------------+-------+\n",
      "| productId |        rmse        | count |\n",
      "+-----------+--------------------+-------+\n",
      "|    226    | 0.3288673925307556 |   32  |\n",
      "+-----------+--------------------+-------+\n",
      "[1 rows x 3 columns]\n",
      "\n",
      "PROGRESS: Evaluate model Cosine Similarity on Scaled Purchase Counts\n"
     ]
    },
    {
     "data": {
      "text/html": [
       "<pre>recommendations finished on 1000/13902 queries. users per second: 44990.3</pre>"
      ],
      "text/plain": [
       "recommendations finished on 1000/13902 queries. users per second: 44990.3"
      ]
     },
     "metadata": {
      "tags": []
     },
     "output_type": "display_data"
    },
    {
     "data": {
      "text/html": [
       "<pre>recommendations finished on 2000/13902 queries. users per second: 42910.2</pre>"
      ],
      "text/plain": [
       "recommendations finished on 2000/13902 queries. users per second: 42910.2"
      ]
     },
     "metadata": {
      "tags": []
     },
     "output_type": "display_data"
    },
    {
     "data": {
      "text/html": [
       "<pre>recommendations finished on 3000/13902 queries. users per second: 43370.1</pre>"
      ],
      "text/plain": [
       "recommendations finished on 3000/13902 queries. users per second: 43370.1"
      ]
     },
     "metadata": {
      "tags": []
     },
     "output_type": "display_data"
    },
    {
     "data": {
      "text/html": [
       "<pre>recommendations finished on 4000/13902 queries. users per second: 44276.7</pre>"
      ],
      "text/plain": [
       "recommendations finished on 4000/13902 queries. users per second: 44276.7"
      ]
     },
     "metadata": {
      "tags": []
     },
     "output_type": "display_data"
    },
    {
     "data": {
      "text/html": [
       "<pre>recommendations finished on 5000/13902 queries. users per second: 45216.5</pre>"
      ],
      "text/plain": [
       "recommendations finished on 5000/13902 queries. users per second: 45216.5"
      ]
     },
     "metadata": {
      "tags": []
     },
     "output_type": "display_data"
    },
    {
     "data": {
      "text/html": [
       "<pre>recommendations finished on 6000/13902 queries. users per second: 44472.1</pre>"
      ],
      "text/plain": [
       "recommendations finished on 6000/13902 queries. users per second: 44472.1"
      ]
     },
     "metadata": {
      "tags": []
     },
     "output_type": "display_data"
    },
    {
     "data": {
      "text/html": [
       "<pre>recommendations finished on 7000/13902 queries. users per second: 43223</pre>"
      ],
      "text/plain": [
       "recommendations finished on 7000/13902 queries. users per second: 43223"
      ]
     },
     "metadata": {
      "tags": []
     },
     "output_type": "display_data"
    },
    {
     "data": {
      "text/html": [
       "<pre>recommendations finished on 8000/13902 queries. users per second: 43624.5</pre>"
      ],
      "text/plain": [
       "recommendations finished on 8000/13902 queries. users per second: 43624.5"
      ]
     },
     "metadata": {
      "tags": []
     },
     "output_type": "display_data"
    },
    {
     "data": {
      "text/html": [
       "<pre>recommendations finished on 9000/13902 queries. users per second: 44047.9</pre>"
      ],
      "text/plain": [
       "recommendations finished on 9000/13902 queries. users per second: 44047.9"
      ]
     },
     "metadata": {
      "tags": []
     },
     "output_type": "display_data"
    },
    {
     "data": {
      "text/html": [
       "<pre>recommendations finished on 10000/13902 queries. users per second: 44282.9</pre>"
      ],
      "text/plain": [
       "recommendations finished on 10000/13902 queries. users per second: 44282.9"
      ]
     },
     "metadata": {
      "tags": []
     },
     "output_type": "display_data"
    },
    {
     "data": {
      "text/html": [
       "<pre>recommendations finished on 11000/13902 queries. users per second: 44887.9</pre>"
      ],
      "text/plain": [
       "recommendations finished on 11000/13902 queries. users per second: 44887.9"
      ]
     },
     "metadata": {
      "tags": []
     },
     "output_type": "display_data"
    },
    {
     "data": {
      "text/html": [
       "<pre>recommendations finished on 12000/13902 queries. users per second: 45198.4</pre>"
      ],
      "text/plain": [
       "recommendations finished on 12000/13902 queries. users per second: 45198.4"
      ]
     },
     "metadata": {
      "tags": []
     },
     "output_type": "display_data"
    },
    {
     "data": {
      "text/html": [
       "<pre>recommendations finished on 13000/13902 queries. users per second: 45440.7</pre>"
      ],
      "text/plain": [
       "recommendations finished on 13000/13902 queries. users per second: 45440.7"
      ]
     },
     "metadata": {
      "tags": []
     },
     "output_type": "display_data"
    },
    {
     "name": "stdout",
     "output_type": "stream",
     "text": [
      "\n",
      "Precision and recall summary statistics by cutoff\n",
      "+--------+----------------------+----------------------+\n",
      "| cutoff |    mean_precision    |     mean_recall      |\n",
      "+--------+----------------------+----------------------+\n",
      "|   1    | 0.06682491727808942  | 0.038151223472032744 |\n",
      "|   2    | 0.05240253200978263  | 0.05902012482755494  |\n",
      "|   3    | 0.045293243178439746 | 0.07485649709973381  |\n",
      "|   4    | 0.03920299237519769  | 0.08512383526513123  |\n",
      "|   5    | 0.03527549992806794  | 0.09524048514764222  |\n",
      "|   6    | 0.032609216899247055 | 0.10502834806760032  |\n",
      "|   7    | 0.030427276650841415 | 0.11375902059844567  |\n",
      "|   8    | 0.028125449575600665 | 0.11965517151509744  |\n",
      "|   9    | 0.02663086046771855  |  0.1272173340608018  |\n",
      "|   10   | 0.025348870666091178 |  0.134925705140134   |\n",
      "+--------+----------------------+----------------------+\n",
      "[10 rows x 3 columns]\n",
      "\n",
      "\n",
      "Overall RMSE: 0.16054879245867876\n",
      "\n",
      "Per User RMSE (best)\n",
      "+------------+------+-------+\n",
      "| customerId | rmse | count |\n",
      "+------------+------+-------+\n",
      "|   13361    | 0.0  |   1   |\n",
      "+------------+------+-------+\n",
      "[1 rows x 3 columns]\n",
      "\n",
      "\n",
      "Per User RMSE (worst)\n",
      "+------------+------+-------+\n",
      "| customerId | rmse | count |\n",
      "+------------+------+-------+\n",
      "|   26885    | 1.0  |   1   |\n",
      "+------------+------+-------+\n",
      "[1 rows x 3 columns]\n",
      "\n",
      "\n",
      "Per Item RMSE (best)\n",
      "+-----------+---------------------+-------+\n",
      "| productId |         rmse        | count |\n",
      "+-----------+---------------------+-------+\n",
      "|    173    | 0.02095824426667158 |   40  |\n",
      "+-----------+---------------------+-------+\n",
      "[1 rows x 3 columns]\n",
      "\n",
      "\n",
      "Per Item RMSE (worst)\n",
      "+-----------+--------------------+-------+\n",
      "| productId |        rmse        | count |\n",
      "+-----------+--------------------+-------+\n",
      "|    226    | 0.8983139072696061 |   32  |\n",
      "+-----------+--------------------+-------+\n",
      "[1 rows x 3 columns]\n",
      "\n",
      "PROGRESS: Evaluate model Pearson Similarity on Scaled Purchase Counts\n"
     ]
    },
    {
     "data": {
      "text/html": [
       "<pre>recommendations finished on 1000/13902 queries. users per second: 40798</pre>"
      ],
      "text/plain": [
       "recommendations finished on 1000/13902 queries. users per second: 40798"
      ]
     },
     "metadata": {
      "tags": []
     },
     "output_type": "display_data"
    },
    {
     "data": {
      "text/html": [
       "<pre>recommendations finished on 2000/13902 queries. users per second: 36812.8</pre>"
      ],
      "text/plain": [
       "recommendations finished on 2000/13902 queries. users per second: 36812.8"
      ]
     },
     "metadata": {
      "tags": []
     },
     "output_type": "display_data"
    },
    {
     "data": {
      "text/html": [
       "<pre>recommendations finished on 3000/13902 queries. users per second: 39737.2</pre>"
      ],
      "text/plain": [
       "recommendations finished on 3000/13902 queries. users per second: 39737.2"
      ]
     },
     "metadata": {
      "tags": []
     },
     "output_type": "display_data"
    },
    {
     "data": {
      "text/html": [
       "<pre>recommendations finished on 4000/13902 queries. users per second: 39601.2</pre>"
      ],
      "text/plain": [
       "recommendations finished on 4000/13902 queries. users per second: 39601.2"
      ]
     },
     "metadata": {
      "tags": []
     },
     "output_type": "display_data"
    },
    {
     "data": {
      "text/html": [
       "<pre>recommendations finished on 5000/13902 queries. users per second: 40244.4</pre>"
      ],
      "text/plain": [
       "recommendations finished on 5000/13902 queries. users per second: 40244.4"
      ]
     },
     "metadata": {
      "tags": []
     },
     "output_type": "display_data"
    },
    {
     "data": {
      "text/html": [
       "<pre>recommendations finished on 6000/13902 queries. users per second: 41241.1</pre>"
      ],
      "text/plain": [
       "recommendations finished on 6000/13902 queries. users per second: 41241.1"
      ]
     },
     "metadata": {
      "tags": []
     },
     "output_type": "display_data"
    },
    {
     "data": {
      "text/html": [
       "<pre>recommendations finished on 7000/13902 queries. users per second: 40354</pre>"
      ],
      "text/plain": [
       "recommendations finished on 7000/13902 queries. users per second: 40354"
      ]
     },
     "metadata": {
      "tags": []
     },
     "output_type": "display_data"
    },
    {
     "data": {
      "text/html": [
       "<pre>recommendations finished on 8000/13902 queries. users per second: 40750.2</pre>"
      ],
      "text/plain": [
       "recommendations finished on 8000/13902 queries. users per second: 40750.2"
      ]
     },
     "metadata": {
      "tags": []
     },
     "output_type": "display_data"
    },
    {
     "data": {
      "text/html": [
       "<pre>recommendations finished on 9000/13902 queries. users per second: 40994.8</pre>"
      ],
      "text/plain": [
       "recommendations finished on 9000/13902 queries. users per second: 40994.8"
      ]
     },
     "metadata": {
      "tags": []
     },
     "output_type": "display_data"
    },
    {
     "data": {
      "text/html": [
       "<pre>recommendations finished on 10000/13902 queries. users per second: 41603.2</pre>"
      ],
      "text/plain": [
       "recommendations finished on 10000/13902 queries. users per second: 41603.2"
      ]
     },
     "metadata": {
      "tags": []
     },
     "output_type": "display_data"
    },
    {
     "data": {
      "text/html": [
       "<pre>recommendations finished on 11000/13902 queries. users per second: 42073.9</pre>"
      ],
      "text/plain": [
       "recommendations finished on 11000/13902 queries. users per second: 42073.9"
      ]
     },
     "metadata": {
      "tags": []
     },
     "output_type": "display_data"
    },
    {
     "data": {
      "text/html": [
       "<pre>recommendations finished on 12000/13902 queries. users per second: 42291.2</pre>"
      ],
      "text/plain": [
       "recommendations finished on 12000/13902 queries. users per second: 42291.2"
      ]
     },
     "metadata": {
      "tags": []
     },
     "output_type": "display_data"
    },
    {
     "data": {
      "text/html": [
       "<pre>recommendations finished on 13000/13902 queries. users per second: 41144.2</pre>"
      ],
      "text/plain": [
       "recommendations finished on 13000/13902 queries. users per second: 41144.2"
      ]
     },
     "metadata": {
      "tags": []
     },
     "output_type": "display_data"
    },
    {
     "name": "stdout",
     "output_type": "stream",
     "text": [
      "\n",
      "Precision and recall summary statistics by cutoff\n",
      "+--------+-----------------------+-----------------------+\n",
      "| cutoff |     mean_precision    |      mean_recall      |\n",
      "+--------+-----------------------+-----------------------+\n",
      "|   1    |  0.002301827075240963 | 0.0013465288767403607 |\n",
      "|   2    | 0.0020860307869371287 | 0.0021785434549784956 |\n",
      "|   3    | 0.0020140986908358583 |  0.003324661519525555 |\n",
      "|   4    | 0.0020680477629118057 |  0.004630174569751607 |\n",
      "|   5    |  0.002229894979139697 |  0.006361556294471809 |\n",
      "|   6    | 0.0033208651033424493 |  0.011241537170164885 |\n",
      "|   7    |  0.003000596008796267 |  0.011924492460370958 |\n",
      "|   8    |  0.002751402675873962 |  0.012346494090831779 |\n",
      "|   9    | 0.0026534951006250145 |  0.013334068177694901 |\n",
      "|   10   |  0.002762192490289189 |  0.015173848308368414 |\n",
      "+--------+-----------------------+-----------------------+\n",
      "[10 rows x 3 columns]\n",
      "\n",
      "\n",
      "Overall RMSE: 0.13211031619884706\n",
      "\n",
      "Per User RMSE (best)\n",
      "+------------+------------------------+-------+\n",
      "| customerId |          rmse          | count |\n",
      "+------------+------------------------+-------+\n",
      "|   23228    | 1.1102230246251565e-16 |   1   |\n",
      "+------------+------------------------+-------+\n",
      "[1 rows x 3 columns]\n",
      "\n",
      "\n",
      "Per User RMSE (worst)\n",
      "+------------+--------------------+-------+\n",
      "| customerId |        rmse        | count |\n",
      "+------------+--------------------+-------+\n",
      "|    3369    | 0.9642380523805322 |   1   |\n",
      "+------------+--------------------+-------+\n",
      "[1 rows x 3 columns]\n",
      "\n",
      "\n",
      "Per Item RMSE (best)\n",
      "+-----------+----------------------+-------+\n",
      "| productId |         rmse         | count |\n",
      "+-----------+----------------------+-------+\n",
      "|    173    | 0.021290779249441408 |   40  |\n",
      "+-----------+----------------------+-------+\n",
      "[1 rows x 3 columns]\n",
      "\n",
      "\n",
      "Per Item RMSE (worst)\n",
      "+-----------+-------------------+-------+\n",
      "| productId |        rmse       | count |\n",
      "+-----------+-------------------+-------+\n",
      "|    226    | 0.328802059280542 |   32  |\n",
      "+-----------+-------------------+-------+\n",
      "[1 rows x 3 columns]\n",
      "\n"
     ]
    }
   ],
   "source": [
    "eval_norm = tc.recommender.util.compare_models(test_data_norm, models_w_norm, model_names=names_w_norm)"
   ]
  },
  {
   "cell_type": "markdown",
   "metadata": {
    "colab_type": "text",
    "id": "QmrHk-tnPM6e"
   },
   "source": [
    "## 8. Model Selection\n",
    "### 8.1. Evaluation summary\n",
    "* Based on RMSE\n",
    "\n",
    "\n",
    "    1. Popularity on purchase counts: 1.1111750034210488\n",
    "    2. Cosine similarity on purchase counts: 1.9230643981653215\n",
    "    3. Pearson similarity on purchase counts: 1.9231102838192284\n",
    "    \n",
    "    4. Popularity on purchase dummy: 0.9697374361161925\n",
    "    5. Cosine similarity on purchase dummy: 0.9697509978436404\n",
    "    6. Pearson similarity on purchase dummy: 0.9697745320187097\n",
    "    \n",
    "    7. Popularity on scaled purchase counts: 0.16230660626840343\n",
    "    8. Cosine similarity on scaled purchase counts: 0.16229800354111104\n",
    "    9. Pearson similarity on scaled purchase counts: 0.1622982668334026\n",
    "    \n",
    "* Based on Precision and Recall\n",
    "![](../images/model_comparisons.png)\n"
   ]
  },
  {
   "cell_type": "markdown",
   "metadata": {
    "colab_type": "text",
    "id": "KICr2CVmPM6f"
   },
   "source": [
    "#### Notes\n",
    "\n",
    "* Popularity v. Collaborative Filtering: We can see that the collaborative filtering algorithms work better than popularity model for purchase counts. Indeed, popularity model doesn’t give any personalizations as it only gives the same list of recommended items to every user.\n",
    "* Precision and recall: Looking at the summary above, we see that the precision and recall for Purchase Counts > Purchase Dummy > Normalized Purchase Counts. However, because the recommendation scores for the normalized purchase data is zero and constant, we choose the dummy. In fact, the RMSE isn’t much different between models on the dummy and those on the normalized data.\n",
    "* RMSE: Since RMSE is higher using pearson distance thancosine, we would choose model the smaller mean squared errors, which in this case would be cosine.\n",
    "Therefore, we select the Cosine similarity on Purchase Dummy approach as our final model."
   ]
  },
  {
   "cell_type": "markdown",
   "metadata": {
    "colab_type": "text",
    "id": "L4BhNxAVPM6g"
   },
   "source": [
    "## 8. Final Output\n",
    "* In this step, we would like to manipulate format for recommendation output to one we can export to csv, and also a function that will return recommendation list given a customer ID.\n",
    "* We need to first rerun the model using the whole dataset, as we came to a final model using train data and evaluated with test set."
   ]
  },
  {
   "cell_type": "code",
   "execution_count": 44,
   "metadata": {
    "colab": {
     "base_uri": "https://localhost:8080/",
     "height": 1000
    },
    "colab_type": "code",
    "id": "QIPlXpxHPM6h",
    "outputId": "906f58df-5c6c-4f28-db4d-b7d76d25e764"
   },
   "outputs": [
    {
     "data": {
      "text/html": [
       "<pre>Warning: Ignoring columns purchase_count;</pre>"
      ],
      "text/plain": [
       "Warning: Ignoring columns purchase_count;"
      ]
     },
     "metadata": {
      "tags": []
     },
     "output_type": "display_data"
    },
    {
     "data": {
      "text/html": [
       "<pre>    To use these columns in scoring predictions, use a model that allows the use of additional features.</pre>"
      ],
      "text/plain": [
       "    To use these columns in scoring predictions, use a model that allows the use of additional features."
      ]
     },
     "metadata": {
      "tags": []
     },
     "output_type": "display_data"
    },
    {
     "data": {
      "text/html": [
       "<pre>Preparing data set.</pre>"
      ],
      "text/plain": [
       "Preparing data set."
      ]
     },
     "metadata": {
      "tags": []
     },
     "output_type": "display_data"
    },
    {
     "data": {
      "text/html": [
       "<pre>    Data has 133585 observations with 24429 users and 300 items.</pre>"
      ],
      "text/plain": [
       "    Data has 133585 observations with 24429 users and 300 items."
      ]
     },
     "metadata": {
      "tags": []
     },
     "output_type": "display_data"
    },
    {
     "data": {
      "text/html": [
       "<pre>    Data prepared in: 0.168159s</pre>"
      ],
      "text/plain": [
       "    Data prepared in: 0.168159s"
      ]
     },
     "metadata": {
      "tags": []
     },
     "output_type": "display_data"
    },
    {
     "data": {
      "text/html": [
       "<pre>Training model from provided data.</pre>"
      ],
      "text/plain": [
       "Training model from provided data."
      ]
     },
     "metadata": {
      "tags": []
     },
     "output_type": "display_data"
    },
    {
     "data": {
      "text/html": [
       "<pre>Gathering per-item and per-user statistics.</pre>"
      ],
      "text/plain": [
       "Gathering per-item and per-user statistics."
      ]
     },
     "metadata": {
      "tags": []
     },
     "output_type": "display_data"
    },
    {
     "data": {
      "text/html": [
       "<pre>+--------------------------------+------------+</pre>"
      ],
      "text/plain": [
       "+--------------------------------+------------+"
      ]
     },
     "metadata": {
      "tags": []
     },
     "output_type": "display_data"
    },
    {
     "data": {
      "text/html": [
       "<pre>| Elapsed Time (Item Statistics) | % Complete |</pre>"
      ],
      "text/plain": [
       "| Elapsed Time (Item Statistics) | % Complete |"
      ]
     },
     "metadata": {
      "tags": []
     },
     "output_type": "display_data"
    },
    {
     "data": {
      "text/html": [
       "<pre>+--------------------------------+------------+</pre>"
      ],
      "text/plain": [
       "+--------------------------------+------------+"
      ]
     },
     "metadata": {
      "tags": []
     },
     "output_type": "display_data"
    },
    {
     "data": {
      "text/html": [
       "<pre>| 1.153ms                        | 4          |</pre>"
      ],
      "text/plain": [
       "| 1.153ms                        | 4          |"
      ]
     },
     "metadata": {
      "tags": []
     },
     "output_type": "display_data"
    },
    {
     "data": {
      "text/html": [
       "<pre>| 19.126ms                       | 100        |</pre>"
      ],
      "text/plain": [
       "| 19.126ms                       | 100        |"
      ]
     },
     "metadata": {
      "tags": []
     },
     "output_type": "display_data"
    },
    {
     "data": {
      "text/html": [
       "<pre>+--------------------------------+------------+</pre>"
      ],
      "text/plain": [
       "+--------------------------------+------------+"
      ]
     },
     "metadata": {
      "tags": []
     },
     "output_type": "display_data"
    },
    {
     "data": {
      "text/html": [
       "<pre>Setting up lookup tables.</pre>"
      ],
      "text/plain": [
       "Setting up lookup tables."
      ]
     },
     "metadata": {
      "tags": []
     },
     "output_type": "display_data"
    },
    {
     "data": {
      "text/html": [
       "<pre>Processing data in one pass using dense lookup tables.</pre>"
      ],
      "text/plain": [
       "Processing data in one pass using dense lookup tables."
      ]
     },
     "metadata": {
      "tags": []
     },
     "output_type": "display_data"
    },
    {
     "data": {
      "text/html": [
       "<pre>+-------------------------------------+------------------+-----------------+</pre>"
      ],
      "text/plain": [
       "+-------------------------------------+------------------+-----------------+"
      ]
     },
     "metadata": {
      "tags": []
     },
     "output_type": "display_data"
    },
    {
     "data": {
      "text/html": [
       "<pre>| Elapsed Time (Constructing Lookups) | Total % Complete | Items Processed |</pre>"
      ],
      "text/plain": [
       "| Elapsed Time (Constructing Lookups) | Total % Complete | Items Processed |"
      ]
     },
     "metadata": {
      "tags": []
     },
     "output_type": "display_data"
    },
    {
     "data": {
      "text/html": [
       "<pre>+-------------------------------------+------------------+-----------------+</pre>"
      ],
      "text/plain": [
       "+-------------------------------------+------------------+-----------------+"
      ]
     },
     "metadata": {
      "tags": []
     },
     "output_type": "display_data"
    },
    {
     "data": {
      "text/html": [
       "<pre>| 28.572ms                            | 0                | 0               |</pre>"
      ],
      "text/plain": [
       "| 28.572ms                            | 0                | 0               |"
      ]
     },
     "metadata": {
      "tags": []
     },
     "output_type": "display_data"
    },
    {
     "data": {
      "text/html": [
       "<pre>| 68.358ms                            | 100              | 300             |</pre>"
      ],
      "text/plain": [
       "| 68.358ms                            | 100              | 300             |"
      ]
     },
     "metadata": {
      "tags": []
     },
     "output_type": "display_data"
    },
    {
     "data": {
      "text/html": [
       "<pre>+-------------------------------------+------------------+-----------------+</pre>"
      ],
      "text/plain": [
       "+-------------------------------------+------------------+-----------------+"
      ]
     },
     "metadata": {
      "tags": []
     },
     "output_type": "display_data"
    },
    {
     "data": {
      "text/html": [
       "<pre>Finalizing lookup tables.</pre>"
      ],
      "text/plain": [
       "Finalizing lookup tables."
      ]
     },
     "metadata": {
      "tags": []
     },
     "output_type": "display_data"
    },
    {
     "data": {
      "text/html": [
       "<pre>Generating candidate set for working with new users.</pre>"
      ],
      "text/plain": [
       "Generating candidate set for working with new users."
      ]
     },
     "metadata": {
      "tags": []
     },
     "output_type": "display_data"
    },
    {
     "data": {
      "text/html": [
       "<pre>Finished training in 0.099238s</pre>"
      ],
      "text/plain": [
       "Finished training in 0.099238s"
      ]
     },
     "metadata": {
      "tags": []
     },
     "output_type": "display_data"
    },
    {
     "data": {
      "text/html": [
       "<pre>recommendations finished on 1000/1000 queries. users per second: 66800.3</pre>"
      ],
      "text/plain": [
       "recommendations finished on 1000/1000 queries. users per second: 66800.3"
      ]
     },
     "metadata": {
      "tags": []
     },
     "output_type": "display_data"
    },
    {
     "name": "stdout",
     "output_type": "stream",
     "text": [
      "+------------+-----------+----------------------+------+\n",
      "| customerId | productId |        score         | rank |\n",
      "+------------+-----------+----------------------+------+\n",
      "|    1553    |     1     | 0.10348175764083863  |  1   |\n",
      "|    1553    |     2     |  0.0934672474861145  |  2   |\n",
      "|    1553    |     35    |  0.0845762014389038  |  3   |\n",
      "|    1553    |     33    |  0.0668614387512207  |  4   |\n",
      "|    1553    |     61    | 0.06512556076049805  |  5   |\n",
      "|    1553    |     15    | 0.06476415395736694  |  6   |\n",
      "|    1553    |     11    | 0.05467898845672607  |  7   |\n",
      "|    1553    |     5     | 0.05406981706619263  |  8   |\n",
      "|    1553    |     36    | 0.05048650503158569  |  9   |\n",
      "|    1553    |     13    | 0.04985467195510864  |  10  |\n",
      "|   20400    |     26    | 0.05812269449234009  |  1   |\n",
      "|   20400    |     6     | 0.05361741781234741  |  2   |\n",
      "|   20400    |    113    | 0.05312788486480713  |  3   |\n",
      "|   20400    |     1     | 0.05210459232330322  |  4   |\n",
      "|   20400    |     15    | 0.047683894634246826 |  5   |\n",
      "|   20400    |     27    | 0.044673383235931396 |  6   |\n",
      "|   20400    |     13    | 0.04383981227874756  |  7   |\n",
      "|   20400    |    246    | 0.04373115301132202  |  8   |\n",
      "|   20400    |    160    | 0.04251152276992798  |  9   |\n",
      "|   20400    |     4     | 0.04242873191833496  |  10  |\n",
      "|   19750    |     36    | 0.12405195832252502  |  1   |\n",
      "|   19750    |     48    | 0.12334879239400227  |  2   |\n",
      "|   19750    |     38    |  0.1118616263071696  |  3   |\n",
      "|   19750    |     79    | 0.10431413849194844  |  4   |\n",
      "|   19750    |     1     |  0.1038620372613271  |  5   |\n",
      "|   19750    |     2     | 0.07453847924868266  |  6   |\n",
      "|   19750    |    194    | 0.061924477418263756 |  7   |\n",
      "|   19750    |     21    | 0.060992548863093056 |  8   |\n",
      "|   19750    |     33    | 0.060228586196899414 |  9   |\n",
      "|   19750    |     5     | 0.059651424487431846 |  10  |\n",
      "+------------+-----------+----------------------+------+\n",
      "[10000 rows x 4 columns]\n",
      "\n"
     ]
    }
   ],
   "source": [
    "users_to_recommend = list(customers[user_id])\n",
    "\n",
    "final_model = tc.item_similarity_recommender.create(tc.SFrame(data_dummy), \n",
    "                                            user_id=user_id, \n",
    "                                            item_id=item_id, \n",
    "                                            target='purchase_dummy', \n",
    "                                            similarity_type='cosine')\n",
    "\n",
    "recom = final_model.recommend(users=users_to_recommend, k=n_rec)\n",
    "recom.print_rows(n_display)"
   ]
  },
  {
   "cell_type": "markdown",
   "metadata": {
    "colab_type": "text",
    "id": "H5Ix1rXyPM6s"
   },
   "source": [
    "### 8.2. Customer recommendation function"
   ]
  },
  {
   "cell_type": "code",
   "execution_count": null,
   "metadata": {
    "colab": {},
    "colab_type": "code",
    "id": "tOgDDxLjPM6t"
   },
   "outputs": [],
   "source": [
    "def customer_recomendation(customer_id):\n",
    "    if customer_id not in df_output.index:\n",
    "        print('Customer not found.')\n",
    "        return customer_id\n",
    "    return df_output.loc[customer_id]"
   ]
  },
  {
   "cell_type": "code",
   "execution_count": 53,
   "metadata": {
    "colab": {
     "base_uri": "https://localhost:8080/",
     "height": 51
    },
    "colab_type": "code",
    "id": "zSb6gA3lPM6u",
    "outputId": "ac95cb30-2ccb-4396-e260-18cf2db8d614"
   },
   "outputs": [
    {
     "data": {
      "text/plain": [
       "recommendedProducts    2|1|36|13|216|61|20|33|25|157\n",
       "Name: 4, dtype: object"
      ]
     },
     "execution_count": 53,
     "metadata": {
      "tags": []
     },
     "output_type": "execute_result"
    }
   ],
   "source": [
    "customer_recomendation(4)"
   ]
  },
  {
   "cell_type": "code",
   "execution_count": 54,
   "metadata": {
    "colab": {
     "base_uri": "https://localhost:8080/",
     "height": 51
    },
    "colab_type": "code",
    "id": "t12ecyZXPM6y",
    "outputId": "d1084045-74d2-4bcc-cb41-006b73755af1"
   },
   "outputs": [
    {
     "data": {
      "text/plain": [
       "recommendedProducts    38|36|48|79|1|2|15|13|25|20\n",
       "Name: 21, dtype: object"
      ]
     },
     "execution_count": 54,
     "metadata": {
      "tags": []
     },
     "output_type": "execute_result"
    }
   ],
   "source": [
    "customer_recomendation(21)"
   ]
  },
  {
   "cell_type": "markdown",
   "metadata": {
    "colab_type": "text",
    "id": "lwUOHFaEPM60"
   },
   "source": [
    "## Summary\n",
    "In this exercise, we were able to traverse a step-by-step process for making recommendations to customers. We used Collaborative Filtering approaches with `cosine` and `pearson` measure and compare the models with our baseline popularity model. We also prepared three sets of data that include regular buying count, buying dummy, as well as normalized purchase frequency as our target variable. Using RMSE, precision and recall, we evaluated our models and observed the impact of personalization. Finally, we selected the Cosine approach in dummy purchase data. "
   ]
  }
 ],
 "metadata": {
  "colab": {
   "name": "Sales CF-Based Recommender System.ipynb",
   "provenance": [],
   "toc_visible": true,
   "version": "0.3.2"
  },
  "kernelspec": {
   "display_name": "Python 3",
   "language": "python",
   "name": "python3"
  },
  "language_info": {
   "codemirror_mode": {
    "name": "ipython",
    "version": 3
   },
   "file_extension": ".py",
   "mimetype": "text/x-python",
   "name": "python",
   "nbconvert_exporter": "python",
   "pygments_lexer": "ipython3",
   "version": "3.6.8"
  }
 },
 "nbformat": 4,
 "nbformat_minor": 2
}
